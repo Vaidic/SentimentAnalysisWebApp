{
 "cells": [
  {
   "cell_type": "markdown",
   "metadata": {},
   "source": [
    "# Creating a Sentiment Analysis Web App\n",
    "## Using PyTorch and SageMaker\n",
    "\n",
    "_Deep Learning Nanodegree Program | Deployment_\n",
    "\n",
    "---\n",
    "\n",
    "Now that we have a basic understanding of how SageMaker works we will try to use it to construct a complete project from end to end. Our goal will be to have a simple web page which a user can use to enter a movie review. The web page will then send the review off to our deployed model which will predict the sentiment of the entered review.\n",
    "\n",
    "## Instructions\n",
    "\n",
    "Some template code has already been provided for you, and you will need to implement additional functionality to successfully complete this notebook. You will not need to modify the included code beyond what is requested. Sections that begin with '**TODO**' in the header indicate that you need to complete or implement some portion within them. Instructions will be provided for each section and the specifics of the implementation are marked in the code block with a `# TODO: ...` comment. Please be sure to read the instructions carefully!\n",
    "\n",
    "In addition to implementing code, there will be questions for you to answer which relate to the task and your implementation. Each section where you will answer a question is preceded by a '**Question:**' header. Carefully read each question and provide your answer below the '**Answer:**' header by editing the Markdown cell.\n",
    "\n",
    "> **Note**: Code and Markdown cells can be executed using the **Shift+Enter** keyboard shortcut. In addition, a cell can be edited by typically clicking it (double-click for Markdown cells) or by pressing **Enter** while it is highlighted.\n",
    "\n",
    "## General Outline\n",
    "\n",
    "Recall the general outline for SageMaker projects using a notebook instance.\n",
    "\n",
    "1. Download or otherwise retrieve the data.\n",
    "2. Process / Prepare the data.\n",
    "3. Upload the processed data to S3.\n",
    "4. Train a chosen model.\n",
    "5. Test the trained model (typically using a batch transform job).\n",
    "6. Deploy the trained model.\n",
    "7. Use the deployed model.\n",
    "\n",
    "For this project, you will be following the steps in the general outline with some modifications. \n",
    "\n",
    "First, you will not be testing the model in its own step. You will still be testing the model, however, you will do it by deploying your model and then using the deployed model by sending the test data to it. One of the reasons for doing this is so that you can make sure that your deployed model is working correctly before moving forward.\n",
    "\n",
    "In addition, you will deploy and use your trained model a second time. In the second iteration you will customize the way that your trained model is deployed by including some of your own code. In addition, your newly deployed model will be used in the sentiment analysis web app."
   ]
  },
  {
   "cell_type": "markdown",
   "metadata": {},
   "source": [
    "## Step 1: Downloading the data\n",
    "\n",
    "As in the XGBoost in SageMaker notebook, we will be using the [IMDb dataset](http://ai.stanford.edu/~amaas/data/sentiment/)\n",
    "\n",
    "> Maas, Andrew L., et al. [Learning Word Vectors for Sentiment Analysis](http://ai.stanford.edu/~amaas/data/sentiment/). In _Proceedings of the 49th Annual Meeting of the Association for Computational Linguistics: Human Language Technologies_. Association for Computational Linguistics, 2011."
   ]
  },
  {
   "cell_type": "code",
   "execution_count": 1,
   "metadata": {},
   "outputs": [
    {
     "name": "stdout",
     "output_type": "stream",
     "text": [
      "mkdir: cannot create directory ‘../data’: File exists\n",
      "--2019-05-17 19:17:53--  http://ai.stanford.edu/~amaas/data/sentiment/aclImdb_v1.tar.gz\n",
      "Resolving ai.stanford.edu (ai.stanford.edu)... 171.64.68.10\n",
      "Connecting to ai.stanford.edu (ai.stanford.edu)|171.64.68.10|:80... connected.\n",
      "HTTP request sent, awaiting response... 200 OK\n",
      "Length: 84125825 (80M) [application/x-gzip]\n",
      "Saving to: ‘../data/aclImdb_v1.tar.gz’\n",
      "\n",
      "../data/aclImdb_v1. 100%[===================>]  80.23M  24.0MB/s    in 3.8s    \n",
      "\n",
      "2019-05-17 19:17:57 (20.9 MB/s) - ‘../data/aclImdb_v1.tar.gz’ saved [84125825/84125825]\n",
      "\n"
     ]
    }
   ],
   "source": [
    "%mkdir ../data\n",
    "!wget -O ../data/aclImdb_v1.tar.gz http://ai.stanford.edu/~amaas/data/sentiment/aclImdb_v1.tar.gz\n",
    "!tar -zxf ../data/aclImdb_v1.tar.gz -C ../data"
   ]
  },
  {
   "cell_type": "markdown",
   "metadata": {},
   "source": [
    "## Step 2: Preparing and Processing the data\n",
    "\n",
    "Also, as in the XGBoost notebook, we will be doing some initial data processing. The first few steps are the same as in the XGBoost example. To begin with, we will read in each of the reviews and combine them into a single input structure. Then, we will split the dataset into a training set and a testing set."
   ]
  },
  {
   "cell_type": "code",
   "execution_count": 2,
   "metadata": {},
   "outputs": [],
   "source": [
    "import os\n",
    "import glob\n",
    "\n",
    "def read_imdb_data(data_dir='../data/aclImdb'):\n",
    "    data = {}\n",
    "    labels = {}\n",
    "    \n",
    "    for data_type in ['train', 'test']:\n",
    "        data[data_type] = {}\n",
    "        labels[data_type] = {}\n",
    "        \n",
    "        for sentiment in ['pos', 'neg']:\n",
    "            data[data_type][sentiment] = []\n",
    "            labels[data_type][sentiment] = []\n",
    "            \n",
    "            path = os.path.join(data_dir, data_type, sentiment, '*.txt')\n",
    "            files = glob.glob(path)\n",
    "            \n",
    "            for f in files:\n",
    "                with open(f) as review:\n",
    "                    data[data_type][sentiment].append(review.read())\n",
    "                    # Here we represent a positive review by '1' and a negative review by '0'\n",
    "                    labels[data_type][sentiment].append(1 if sentiment == 'pos' else 0)\n",
    "                    \n",
    "            assert len(data[data_type][sentiment]) == len(labels[data_type][sentiment]), \\\n",
    "                    \"{}/{} data size does not match labels size\".format(data_type, sentiment)\n",
    "                \n",
    "    return data, labels"
   ]
  },
  {
   "cell_type": "code",
   "execution_count": 3,
   "metadata": {},
   "outputs": [
    {
     "name": "stdout",
     "output_type": "stream",
     "text": [
      "IMDB reviews: train = 12500 pos / 12500 neg, test = 12500 pos / 12500 neg\n"
     ]
    }
   ],
   "source": [
    "data, labels = read_imdb_data()\n",
    "print(\"IMDB reviews: train = {} pos / {} neg, test = {} pos / {} neg\".format(\n",
    "            len(data['train']['pos']), len(data['train']['neg']),\n",
    "            len(data['test']['pos']), len(data['test']['neg'])))"
   ]
  },
  {
   "cell_type": "markdown",
   "metadata": {},
   "source": [
    "Now that we've read the raw training and testing data from the downloaded dataset, we will combine the positive and negative reviews and shuffle the resulting records."
   ]
  },
  {
   "cell_type": "code",
   "execution_count": 4,
   "metadata": {},
   "outputs": [],
   "source": [
    "from sklearn.utils import shuffle\n",
    "\n",
    "def prepare_imdb_data(data, labels):\n",
    "    \"\"\"Prepare training and test sets from IMDb movie reviews.\"\"\"\n",
    "    \n",
    "    #Combine positive and negative reviews and labels\n",
    "    data_train = data['train']['pos'] + data['train']['neg']\n",
    "    data_test = data['test']['pos'] + data['test']['neg']\n",
    "    labels_train = labels['train']['pos'] + labels['train']['neg']\n",
    "    labels_test = labels['test']['pos'] + labels['test']['neg']\n",
    "    \n",
    "    #Shuffle reviews and corresponding labels within training and test sets\n",
    "    data_train, labels_train = shuffle(data_train, labels_train)\n",
    "    data_test, labels_test = shuffle(data_test, labels_test)\n",
    "    \n",
    "    # Return a unified training data, test data, training labels, test labets\n",
    "    return data_train, data_test, labels_train, labels_test"
   ]
  },
  {
   "cell_type": "code",
   "execution_count": 5,
   "metadata": {},
   "outputs": [
    {
     "name": "stdout",
     "output_type": "stream",
     "text": [
      "IMDb reviews (combined): train = 25000, test = 25000\n"
     ]
    }
   ],
   "source": [
    "train_X, test_X, train_y, test_y = prepare_imdb_data(data, labels)\n",
    "print(\"IMDb reviews (combined): train = {}, test = {}\".format(len(train_X), len(test_X)))"
   ]
  },
  {
   "cell_type": "markdown",
   "metadata": {},
   "source": [
    "Now that we have our training and testing sets unified and prepared, we should do a quick check and see an example of the data our model will be trained on. This is generally a good idea as it allows you to see how each of the further processing steps affects the reviews and it also ensures that the data has been loaded correctly."
   ]
  },
  {
   "cell_type": "code",
   "execution_count": 6,
   "metadata": {},
   "outputs": [
    {
     "name": "stdout",
     "output_type": "stream",
     "text": [
      "This is one of the weirder movies I have recently watched. That's because it seems less like a movie and more like an experimental film. Kurasawa's experiment was to take a variety of individuals who live at a garbage dump and weave their experiences into a tapestry that offers glimpses of their generally harsh existences. Not every episode is depressing and harsh, but overall this is definitely the tone. Let's see,...we have a case of incest/rape, attempted murder, wife swapping, alcoholism, infidelity, death of a little boy after eating tainted fish, a man with severe depression (he never talks during the movie and looks very scary), a hopeless dreamer who would probably be diagnosed with schizophrenia, a mentally retarded young man who thinks he is a street car conductor and spends all his waking moments \"driving\" his street car through paths among the garbage piles, a man married to a total shrew (I think I liked her character even less than the incestuous rapist!), etc., etc. In fact, it is depressing enough that it seemed almost like an Ingmar Bergman movie set in Japan, as Bergman made MANY movies that tended to deal with mental illness and the hopelessness of life. Is it any wonder that after making this film Kurasawa tried to kill himself?! So, did I like it? No. It was not a fun experience. But, it was a very well-made movie that definitely kept my attention and as a result, I really wanted to see what happened to these people. It was sort of like watching a train wreck--you don't WANT to see all the carnage but you can't help but watch! Of all the vignettes, I think that the older man who tended to look out for everyone and who didn't really seem to fit in (he was too well-adjusted and wise to be living in a garbage dump) was perhaps meant to represent Kurasawa himself. Maybe. I dunno.<br /><br />If you've seen a variety of Kurasawa films and have a high tolerance for strange art films, give this one a watch. However, do NOT make this your first experience watching his movies--it's sure to scare away many viewers!\n",
      "1\n"
     ]
    }
   ],
   "source": [
    "print(train_X[100])\n",
    "print(train_y[100])"
   ]
  },
  {
   "cell_type": "markdown",
   "metadata": {},
   "source": [
    "The first step in processing the reviews is to make sure that any html tags that appear should be removed. In addition we wish to tokenize our input, that way words such as *entertained* and *entertaining* are considered the same with regard to sentiment analysis."
   ]
  },
  {
   "cell_type": "code",
   "execution_count": 7,
   "metadata": {},
   "outputs": [],
   "source": [
    "import nltk\n",
    "from nltk.corpus import stopwords\n",
    "from nltk.stem.porter import *\n",
    "\n",
    "import re\n",
    "from bs4 import BeautifulSoup\n",
    "\n",
    "def review_to_words(review):\n",
    "    nltk.download(\"stopwords\", quiet=True)\n",
    "    stemmer = PorterStemmer()\n",
    "    \n",
    "    text = BeautifulSoup(review, \"html.parser\").get_text() # Remove HTML tags\n",
    "    text = re.sub(r\"[^a-zA-Z0-9]\", \" \", text.lower()) # Convert to lower case\n",
    "    words = text.split() # Split string into words\n",
    "    words = [w for w in words if w not in stopwords.words(\"english\")] # Remove stopwords\n",
    "    words = [PorterStemmer().stem(w) for w in words] # stem\n",
    "    \n",
    "    return words"
   ]
  },
  {
   "cell_type": "markdown",
   "metadata": {},
   "source": [
    "The `review_to_words` method defined above uses `BeautifulSoup` to remove any html tags that appear and uses the `nltk` package to tokenize the reviews. As a check to ensure we know how everything is working, try applying `review_to_words` to one of the reviews in the training set."
   ]
  },
  {
   "cell_type": "code",
   "execution_count": 8,
   "metadata": {},
   "outputs": [
    {
     "data": {
      "text/plain": [
       "['one',\n",
       " 'weirder',\n",
       " 'movi',\n",
       " 'recent',\n",
       " 'watch',\n",
       " 'seem',\n",
       " 'less',\n",
       " 'like',\n",
       " 'movi',\n",
       " 'like',\n",
       " 'experiment',\n",
       " 'film',\n",
       " 'kurasawa',\n",
       " 'experi',\n",
       " 'take',\n",
       " 'varieti',\n",
       " 'individu',\n",
       " 'live',\n",
       " 'garbag',\n",
       " 'dump',\n",
       " 'weav',\n",
       " 'experi',\n",
       " 'tapestri',\n",
       " 'offer',\n",
       " 'glimps',\n",
       " 'gener',\n",
       " 'harsh',\n",
       " 'exist',\n",
       " 'everi',\n",
       " 'episod',\n",
       " 'depress',\n",
       " 'harsh',\n",
       " 'overal',\n",
       " 'definit',\n",
       " 'tone',\n",
       " 'let',\n",
       " 'see',\n",
       " 'case',\n",
       " 'incest',\n",
       " 'rape',\n",
       " 'attempt',\n",
       " 'murder',\n",
       " 'wife',\n",
       " 'swap',\n",
       " 'alcohol',\n",
       " 'infidel',\n",
       " 'death',\n",
       " 'littl',\n",
       " 'boy',\n",
       " 'eat',\n",
       " 'taint',\n",
       " 'fish',\n",
       " 'man',\n",
       " 'sever',\n",
       " 'depress',\n",
       " 'never',\n",
       " 'talk',\n",
       " 'movi',\n",
       " 'look',\n",
       " 'scari',\n",
       " 'hopeless',\n",
       " 'dreamer',\n",
       " 'would',\n",
       " 'probabl',\n",
       " 'diagnos',\n",
       " 'schizophrenia',\n",
       " 'mental',\n",
       " 'retard',\n",
       " 'young',\n",
       " 'man',\n",
       " 'think',\n",
       " 'street',\n",
       " 'car',\n",
       " 'conductor',\n",
       " 'spend',\n",
       " 'wake',\n",
       " 'moment',\n",
       " 'drive',\n",
       " 'street',\n",
       " 'car',\n",
       " 'path',\n",
       " 'among',\n",
       " 'garbag',\n",
       " 'pile',\n",
       " 'man',\n",
       " 'marri',\n",
       " 'total',\n",
       " 'shrew',\n",
       " 'think',\n",
       " 'like',\n",
       " 'charact',\n",
       " 'even',\n",
       " 'less',\n",
       " 'incestu',\n",
       " 'rapist',\n",
       " 'etc',\n",
       " 'etc',\n",
       " 'fact',\n",
       " 'depress',\n",
       " 'enough',\n",
       " 'seem',\n",
       " 'almost',\n",
       " 'like',\n",
       " 'ingmar',\n",
       " 'bergman',\n",
       " 'movi',\n",
       " 'set',\n",
       " 'japan',\n",
       " 'bergman',\n",
       " 'made',\n",
       " 'mani',\n",
       " 'movi',\n",
       " 'tend',\n",
       " 'deal',\n",
       " 'mental',\n",
       " 'ill',\n",
       " 'hopeless',\n",
       " 'life',\n",
       " 'wonder',\n",
       " 'make',\n",
       " 'film',\n",
       " 'kurasawa',\n",
       " 'tri',\n",
       " 'kill',\n",
       " 'like',\n",
       " 'fun',\n",
       " 'experi',\n",
       " 'well',\n",
       " 'made',\n",
       " 'movi',\n",
       " 'definit',\n",
       " 'kept',\n",
       " 'attent',\n",
       " 'result',\n",
       " 'realli',\n",
       " 'want',\n",
       " 'see',\n",
       " 'happen',\n",
       " 'peopl',\n",
       " 'sort',\n",
       " 'like',\n",
       " 'watch',\n",
       " 'train',\n",
       " 'wreck',\n",
       " 'want',\n",
       " 'see',\n",
       " 'carnag',\n",
       " 'help',\n",
       " 'watch',\n",
       " 'vignett',\n",
       " 'think',\n",
       " 'older',\n",
       " 'man',\n",
       " 'tend',\n",
       " 'look',\n",
       " 'everyon',\n",
       " 'realli',\n",
       " 'seem',\n",
       " 'fit',\n",
       " 'well',\n",
       " 'adjust',\n",
       " 'wise',\n",
       " 'live',\n",
       " 'garbag',\n",
       " 'dump',\n",
       " 'perhap',\n",
       " 'meant',\n",
       " 'repres',\n",
       " 'kurasawa',\n",
       " 'mayb',\n",
       " 'dunno',\n",
       " 'seen',\n",
       " 'varieti',\n",
       " 'kurasawa',\n",
       " 'film',\n",
       " 'high',\n",
       " 'toler',\n",
       " 'strang',\n",
       " 'art',\n",
       " 'film',\n",
       " 'give',\n",
       " 'one',\n",
       " 'watch',\n",
       " 'howev',\n",
       " 'make',\n",
       " 'first',\n",
       " 'experi',\n",
       " 'watch',\n",
       " 'movi',\n",
       " 'sure',\n",
       " 'scare',\n",
       " 'away',\n",
       " 'mani',\n",
       " 'viewer']"
      ]
     },
     "execution_count": 8,
     "metadata": {},
     "output_type": "execute_result"
    }
   ],
   "source": [
    "# TODO: Apply review_to_words to a review (train_X[100] or any other review)\n",
    "review_to_words(train_X[100])"
   ]
  },
  {
   "cell_type": "markdown",
   "metadata": {},
   "source": [
    "**Question:** Above we mentioned that `review_to_words` method removes html formatting and allows us to tokenize the words found in a review, for example, converting *entertained* and *entertaining* into *entertain* so that they are treated as though they are the same word. What else, if anything, does this method do to the input?"
   ]
  },
  {
   "cell_type": "markdown",
   "metadata": {},
   "source": [
    "**Answer:**\n",
    "The method reduces word tokens by converting multiple words which holds same information in to a single word.\n",
    "It will also reduce the training cost. \n",
    "Aditionally, it - \n",
    "+ Removes HTML and any XML tags\n",
    "+ Convert all the words to lower case and remove unnecessary characters by allowing only chracters and numbers\n",
    "+ Removes stopwords\n",
    "+ Identifies relationship between words with in less epocs of training\n"
   ]
  },
  {
   "cell_type": "markdown",
   "metadata": {},
   "source": [
    "The method below applies the `review_to_words` method to each of the reviews in the training and testing datasets. In addition it caches the results. This is because performing this processing step can take a long time. This way if you are unable to complete the notebook in the current session, you can come back without needing to process the data a second time."
   ]
  },
  {
   "cell_type": "code",
   "execution_count": 9,
   "metadata": {},
   "outputs": [],
   "source": [
    "import pickle\n",
    "\n",
    "cache_dir = os.path.join(\"../cache\", \"sentiment_analysis\")  # where to store cache files\n",
    "os.makedirs(cache_dir, exist_ok=True)  # ensure cache directory exists\n",
    "\n",
    "def preprocess_data(data_train, data_test, labels_train, labels_test,\n",
    "                    cache_dir=cache_dir, cache_file=\"preprocessed_data.pkl\"):\n",
    "    \"\"\"Convert each review to words; read from cache if available.\"\"\"\n",
    "\n",
    "    # If cache_file is not None, try to read from it first\n",
    "    cache_data = None\n",
    "    if cache_file is not None:\n",
    "        try:\n",
    "            with open(os.path.join(cache_dir, cache_file), \"rb\") as f:\n",
    "                cache_data = pickle.load(f)\n",
    "            print(\"Read preprocessed data from cache file:\", cache_file)\n",
    "        except:\n",
    "            pass  # unable to read from cache, but that's okay\n",
    "    \n",
    "    # If cache is missing, then do the heavy lifting\n",
    "    if cache_data is None:\n",
    "        # Preprocess training and test data to obtain words for each review\n",
    "        #words_train = list(map(review_to_words, data_train))\n",
    "        #words_test = list(map(review_to_words, data_test))\n",
    "        words_train = [review_to_words(review) for review in data_train]\n",
    "        words_test = [review_to_words(review) for review in data_test]\n",
    "        \n",
    "        # Write to cache file for future runs\n",
    "        if cache_file is not None:\n",
    "            cache_data = dict(words_train=words_train, words_test=words_test,\n",
    "                              labels_train=labels_train, labels_test=labels_test)\n",
    "            with open(os.path.join(cache_dir, cache_file), \"wb\") as f:\n",
    "                pickle.dump(cache_data, f)\n",
    "            print(\"Wrote preprocessed data to cache file:\", cache_file)\n",
    "    else:\n",
    "        # Unpack data loaded from cache file\n",
    "        words_train, words_test, labels_train, labels_test = (cache_data['words_train'],\n",
    "                cache_data['words_test'], cache_data['labels_train'], cache_data['labels_test'])\n",
    "    \n",
    "    return words_train, words_test, labels_train, labels_test"
   ]
  },
  {
   "cell_type": "code",
   "execution_count": 10,
   "metadata": {},
   "outputs": [
    {
     "name": "stdout",
     "output_type": "stream",
     "text": [
      "Wrote preprocessed data to cache file: preprocessed_data.pkl\n"
     ]
    }
   ],
   "source": [
    "# Preprocess data\n",
    "train_X, test_X, train_y, test_y = preprocess_data(train_X, test_X, train_y, test_y)"
   ]
  },
  {
   "cell_type": "markdown",
   "metadata": {},
   "source": [
    "## Transform the data\n",
    "\n",
    "In the XGBoost notebook we transformed the data from its word representation to a bag-of-words feature representation. For the model we are going to construct in this notebook we will construct a feature representation which is very similar. To start, we will represent each word as an integer. Of course, some of the words that appear in the reviews occur very infrequently and so likely don't contain much information for the purposes of sentiment analysis. The way we will deal with this problem is that we will fix the size of our working vocabulary and we will only include the words that appear most frequently. We will then combine all of the infrequent words into a single category and, in our case, we will label it as `1`.\n",
    "\n",
    "Since we will be using a recurrent neural network, it will be convenient if the length of each review is the same. To do this, we will fix a size for our reviews and then pad short reviews with the category 'no word' (which we will label `0`) and truncate long reviews."
   ]
  },
  {
   "cell_type": "markdown",
   "metadata": {},
   "source": [
    "### (TODO) Create a word dictionary\n",
    "\n",
    "To begin with, we need to construct a way to map words that appear in the reviews to integers. Here we fix the size of our vocabulary (including the 'no word' and 'infrequent' categories) to be `5000` but you may wish to change this to see how it affects the model.\n",
    "\n",
    "> **TODO:** Complete the implementation for the `build_dict()` method below. Note that even though the vocab_size is set to `5000`, we only want to construct a mapping for the most frequently appearing `4998` words. This is because we want to reserve the special labels `0` for 'no word' and `1` for 'infrequent word'."
   ]
  },
  {
   "cell_type": "code",
   "execution_count": 15,
   "metadata": {},
   "outputs": [],
   "source": [
    "import numpy as np\n",
    "from collections import Counter\n",
    "\n",
    "def build_dict(data, vocab_size = 5000):\n",
    "    \"\"\"Construct and return a dictionary mapping each of the most frequently appearing words to a unique integer.\"\"\"\n",
    "    \n",
    "    # TODO: Determine how often each word appears in `data`. Note that `data` is a list of sentences and that a\n",
    "    #       sentence is a list of words.\n",
    "    \n",
    "    word_counts = Counter(np.concatenate( data, axis=0 )) # A dict storing the words that appear in the reviews along with how often they occur\n",
    "    \n",
    "    # TODO: Sort the words found in `data` so that sorted_words[0] is the most frequently appearing word and\n",
    "    #       sorted_words[-1] is the least frequently appearing word.\n",
    "    \n",
    "    sorted_words = sorted(word_counts, key=word_counts.get, reverse=True)\n",
    "    \n",
    "    word_dict = {} # This is what we are building, a dictionary that translates words into integers\n",
    "    for idx, word in enumerate(sorted_words[:vocab_size - 2]): # The -2 is so that we save room for the 'no word'\n",
    "        word_dict[word] = idx + 2                              # 'infrequent' labels\n",
    "        \n",
    "    return word_dict"
   ]
  },
  {
   "cell_type": "code",
   "execution_count": 16,
   "metadata": {},
   "outputs": [
    {
     "name": "stdout",
     "output_type": "stream",
     "text": [
      "{'movi': 2, 'film': 3, 'one': 4, 'like': 5, 'time': 6, 'good': 7, 'make': 8, 'charact': 9, 'get': 10, 'see': 11, 'watch': 12, 'stori': 13, 'even': 14, 'would': 15, 'realli': 16, 'well': 17, 'scene': 18, 'look': 19, 'show': 20, 'much': 21, 'end': 22, 'peopl': 23, 'bad': 24, 'go': 25, 'great': 26, 'also': 27, 'first': 28, 'love': 29, 'think': 30, 'way': 31, 'act': 32, 'play': 33, 'made': 34, 'thing': 35, 'could': 36, 'know': 37, 'say': 38, 'seem': 39, 'work': 40, 'plot': 41, 'two': 42, 'actor': 43, 'year': 44, 'come': 45, 'mani': 46, 'seen': 47, 'take': 48, 'life': 49, 'want': 50, 'never': 51, 'littl': 52, 'best': 53, 'tri': 54, 'man': 55, 'ever': 56, 'give': 57, 'better': 58, 'still': 59, 'perform': 60, 'find': 61, 'feel': 62, 'part': 63, 'back': 64, 'use': 65, 'someth': 66, 'director': 67, 'actual': 68, 'interest': 69, 'lot': 70, 'real': 71, 'old': 72, 'cast': 73, 'though': 74, 'live': 75, 'star': 76, 'enjoy': 77, 'guy': 78, 'anoth': 79, 'new': 80, 'role': 81, 'noth': 82, '10': 83, 'funni': 84, 'music': 85, 'point': 86, 'start': 87, 'set': 88, 'girl': 89, 'origin': 90, 'day': 91, 'world': 92, 'everi': 93, 'believ': 94, 'turn': 95, 'quit': 96, 'direct': 97, 'us': 98, 'thought': 99, 'fact': 100, 'minut': 101, 'horror': 102, 'kill': 103, 'action': 104, 'comedi': 105, 'pretti': 106, 'young': 107, 'wonder': 108, 'happen': 109, 'around': 110, 'got': 111, 'effect': 112, 'right': 113, 'long': 114, 'howev': 115, 'big': 116, 'line': 117, 'famili': 118, 'enough': 119, 'seri': 120, 'may': 121, 'need': 122, 'fan': 123, 'bit': 124, 'script': 125, 'beauti': 126, 'person': 127, 'becom': 128, 'without': 129, 'must': 130, 'alway': 131, 'friend': 132, 'tell': 133, 'reason': 134, 'saw': 135, 'last': 136, 'final': 137, 'kid': 138, 'almost': 139, 'put': 140, 'least': 141, 'sure': 142, 'done': 143, 'whole': 144, 'place': 145, 'complet': 146, 'kind': 147, 'differ': 148, 'expect': 149, 'shot': 150, 'far': 151, 'mean': 152, 'anyth': 153, 'book': 154, 'laugh': 155, 'might': 156, 'name': 157, 'sinc': 158, 'begin': 159, '2': 160, 'probabl': 161, 'woman': 162, 'help': 163, 'entertain': 164, 'let': 165, 'screen': 166, 'call': 167, 'tv': 168, 'moment': 169, 'away': 170, 'read': 171, 'yet': 172, 'rather': 173, 'worst': 174, 'run': 175, 'fun': 176, 'lead': 177, 'hard': 178, 'audienc': 179, 'idea': 180, 'anyon': 181, 'episod': 182, 'american': 183, 'found': 184, 'appear': 185, 'bore': 186, 'especi': 187, 'although': 188, 'hope': 189, 'keep': 190, 'cours': 191, 'anim': 192, 'job': 193, 'goe': 194, 'move': 195, 'sens': 196, 'dvd': 197, 'version': 198, 'war': 199, 'money': 200, 'someon': 201, 'mind': 202, 'mayb': 203, 'problem': 204, 'true': 205, 'hous': 206, 'everyth': 207, 'nice': 208, 'second': 209, 'rate': 210, 'three': 211, 'night': 212, 'face': 213, 'follow': 214, 'recommend': 215, 'main': 216, 'product': 217, 'worth': 218, 'leav': 219, 'human': 220, 'special': 221, 'excel': 222, 'togeth': 223, 'wast': 224, 'sound': 225, 'everyon': 226, 'john': 227, 'hand': 228, '1': 229, 'father': 230, 'later': 231, 'eye': 232, 'said': 233, 'view': 234, 'instead': 235, 'review': 236, 'boy': 237, 'high': 238, 'hour': 239, 'miss': 240, 'classic': 241, 'talk': 242, 'wife': 243, 'understand': 244, 'left': 245, 'care': 246, 'black': 247, 'death': 248, 'open': 249, 'murder': 250, 'write': 251, 'half': 252, 'head': 253, 'rememb': 254, 'chang': 255, 'viewer': 256, 'fight': 257, 'gener': 258, 'surpris': 259, 'includ': 260, 'short': 261, 'die': 262, 'fall': 263, 'less': 264, 'els': 265, 'entir': 266, 'piec': 267, 'involv': 268, 'pictur': 269, 'simpli': 270, 'home': 271, 'top': 272, 'power': 273, 'total': 274, 'usual': 275, 'budget': 276, 'attempt': 277, 'suppos': 278, 'releas': 279, 'hollywood': 280, 'terribl': 281, 'song': 282, 'men': 283, 'possibl': 284, 'featur': 285, 'portray': 286, 'disappoint': 287, 'poor': 288, '3': 289, 'coupl': 290, 'camera': 291, 'stupid': 292, 'dead': 293, 'wrong': 294, 'produc': 295, 'low': 296, 'video': 297, 'either': 298, 'aw': 299, 'definit': 300, 'except': 301, 'rest': 302, 'given': 303, 'absolut': 304, 'women': 305, 'lack': 306, 'word': 307, 'writer': 308, 'titl': 309, 'talent': 310, 'decid': 311, 'full': 312, 'perfect': 313, 'along': 314, 'style': 315, 'close': 316, 'truli': 317, 'school': 318, 'emot': 319, 'save': 320, 'age': 321, 'sex': 322, 'next': 323, 'bring': 324, 'mr': 325, 'case': 326, 'killer': 327, 'heart': 328, 'comment': 329, 'sort': 330, 'creat': 331, 'perhap': 332, 'came': 333, 'brother': 334, 'sever': 335, 'joke': 336, 'art': 337, 'dialogu': 338, 'game': 339, 'small': 340, 'base': 341, 'flick': 342, 'written': 343, 'sequenc': 344, 'meet': 345, 'earli': 346, 'often': 347, 'other': 348, 'mother': 349, 'develop': 350, 'humor': 351, 'actress': 352, 'consid': 353, 'dark': 354, 'guess': 355, 'amaz': 356, 'unfortun': 357, 'lost': 358, 'light': 359, 'exampl': 360, 'cinema': 361, 'drama': 362, 'ye': 363, 'white': 364, 'experi': 365, 'imagin': 366, 'mention': 367, 'stop': 368, 'natur': 369, 'forc': 370, 'manag': 371, 'felt': 372, 'cut': 373, 'present': 374, 'children': 375, 'fail': 376, 'son': 377, 'car': 378, 'support': 379, 'qualiti': 380, 'ask': 381, 'hit': 382, 'side': 383, 'voic': 384, 'extrem': 385, 'impress': 386, 'wors': 387, 'evil': 388, 'stand': 389, 'went': 390, 'certainli': 391, 'basic': 392, 'oh': 393, 'overal': 394, 'favorit': 395, 'horribl': 396, 'mysteri': 397, 'number': 398, 'type': 399, 'danc': 400, 'wait': 401, 'hero': 402, 'alreadi': 403, '5': 404, 'learn': 405, 'matter': 406, '4': 407, 'michael': 408, 'genr': 409, 'fine': 410, 'despit': 411, 'throughout': 412, 'walk': 413, 'success': 414, 'histori': 415, 'question': 416, 'zombi': 417, 'town': 418, 'relationship': 419, 'realiz': 420, 'child': 421, 'past': 422, 'daughter': 423, 'late': 424, 'b': 425, 'wish': 426, 'credit': 427, 'hate': 428, 'event': 429, 'theme': 430, 'touch': 431, 'citi': 432, 'today': 433, 'sometim': 434, 'behind': 435, 'god': 436, 'twist': 437, 'sit': 438, 'stay': 439, 'annoy': 440, 'deal': 441, 'abl': 442, 'rent': 443, 'pleas': 444, 'edit': 445, 'blood': 446, 'deserv': 447, 'anyway': 448, 'comic': 449, 'appar': 450, 'soon': 451, 'gave': 452, 'etc': 453, 'level': 454, 'slow': 455, 'chanc': 456, 'score': 457, 'bodi': 458, 'brilliant': 459, 'incred': 460, 'figur': 461, 'situat': 462, 'self': 463, 'major': 464, 'stuff': 465, 'decent': 466, 'element': 467, 'return': 468, 'dream': 469, 'obvious': 470, 'continu': 471, 'order': 472, 'pace': 473, 'ridicul': 474, 'happi': 475, 'highli': 476, 'group': 477, 'add': 478, 'thank': 479, 'ladi': 480, 'novel': 481, 'speak': 482, 'pain': 483, 'career': 484, 'shoot': 485, 'strang': 486, 'heard': 487, 'sad': 488, 'polic': 489, 'husband': 490, 'import': 491, 'break': 492, 'took': 493, 'strong': 494, 'cannot': 495, 'robert': 496, 'predict': 497, 'violenc': 498, 'hilari': 499, 'recent': 500, 'countri': 501, 'known': 502, 'particularli': 503, 'pick': 504, 'documentari': 505, 'season': 506, 'critic': 507, 'jame': 508, 'compar': 509, 'obviou': 510, 'alon': 511, 'told': 512, 'state': 513, 'rock': 514, 'visual': 515, 'exist': 516, 'offer': 517, 'theater': 518, 'opinion': 519, 'gore': 520, 'crap': 521, 'hold': 522, 'result': 523, 'realiti': 524, 'hear': 525, 'room': 526, 'effort': 527, 'clich': 528, 'thriller': 529, 'caus': 530, 'serious': 531, 'explain': 532, 'sequel': 533, 'king': 534, 'local': 535, 'ago': 536, 'hell': 537, 'none': 538, 'note': 539, 'allow': 540, 'sister': 541, 'david': 542, 'simpl': 543, 'femal': 544, 'deliv': 545, 'ok': 546, 'class': 547, 'convinc': 548, 'check': 549, 'suspens': 550, 'win': 551, 'oscar': 552, 'buy': 553, 'huge': 554, 'valu': 555, 'sexual': 556, 'scari': 557, 'cool': 558, 'excit': 559, 'similar': 560, 'provid': 561, 'exactli': 562, 'apart': 563, 'shown': 564, 'avoid': 565, 'seriou': 566, 'english': 567, 'taken': 568, 'whose': 569, 'cinematographi': 570, 'shock': 571, 'polit': 572, 'spoiler': 573, 'offic': 574, 'across': 575, 'middl': 576, 'pass': 577, 'street': 578, 'messag': 579, 'charm': 580, 'somewhat': 581, 'silli': 582, 'modern': 583, 'confus': 584, 'filmmak': 585, 'form': 586, 'tale': 587, 'singl': 588, 'jack': 589, 'mostli': 590, 'william': 591, 'attent': 592, 'carri': 593, 'sing': 594, 'five': 595, 'subject': 596, 'richard': 597, 'prove': 598, 'team': 599, 'stage': 600, 'unlik': 601, 'cop': 602, 'georg': 603, 'televis': 604, 'monster': 605, 'earth': 606, 'cover': 607, 'villain': 608, 'pay': 609, 'marri': 610, 'toward': 611, 'build': 612, 'pull': 613, 'parent': 614, 'due': 615, 'fill': 616, 'respect': 617, 'dialog': 618, 'four': 619, 'remind': 620, 'futur': 621, 'weak': 622, 'typic': 623, '7': 624, 'cheap': 625, 'intellig': 626, 'british': 627, 'atmospher': 628, '80': 629, 'clearli': 630, 'non': 631, 'paul': 632, 'dog': 633, 'knew': 634, 'fast': 635, 'artist': 636, '8': 637, 'crime': 638, 'easili': 639, 'escap': 640, 'doubt': 641, 'adult': 642, 'detail': 643, 'date': 644, 'member': 645, 'romant': 646, 'fire': 647, 'drive': 648, 'gun': 649, 'straight': 650, 'beyond': 651, 'fit': 652, 'attack': 653, 'imag': 654, 'upon': 655, 'posit': 656, 'whether': 657, 'fantast': 658, 'peter': 659, 'aspect': 660, 'appreci': 661, 'captur': 662, 'ten': 663, 'plan': 664, 'discov': 665, 'remain': 666, 'period': 667, 'near': 668, 'air': 669, 'realist': 670, 'mark': 671, 'red': 672, 'dull': 673, 'adapt': 674, 'within': 675, 'spend': 676, 'lose': 677, 'materi': 678, 'color': 679, 'chase': 680, 'mari': 681, 'storylin': 682, 'forget': 683, 'bunch': 684, 'clear': 685, 'lee': 686, 'victim': 687, 'nearli': 688, 'box': 689, 'york': 690, 'match': 691, 'inspir': 692, 'finish': 693, 'mess': 694, 'standard': 695, 'easi': 696, 'truth': 697, 'suffer': 698, 'busi': 699, 'dramat': 700, 'bill': 701, 'space': 702, 'western': 703, 'e': 704, 'list': 705, 'battl': 706, 'notic': 707, 'de': 708, 'french': 709, 'ad': 710, '9': 711, 'tom': 712, 'larg': 713, 'among': 714, 'eventu': 715, 'accept': 716, 'train': 717, 'agre': 718, 'spirit': 719, 'soundtrack': 720, 'third': 721, 'teenag': 722, 'adventur': 723, 'soldier': 724, 'famou': 725, 'sorri': 726, 'suggest': 727, 'drug': 728, 'cri': 729, 'babi': 730, 'normal': 731, 'ultim': 732, 'troubl': 733, 'contain': 734, 'certain': 735, 'cultur': 736, 'romanc': 737, 'rare': 738, 'lame': 739, 'somehow': 740, 'mix': 741, 'disney': 742, 'gone': 743, 'cartoon': 744, 'student': 745, 'fear': 746, 'reveal': 747, 'suck': 748, 'kept': 749, 'attract': 750, 'appeal': 751, 'premis': 752, 'design': 753, 'greatest': 754, 'secret': 755, 'shame': 756, 'throw': 757, 'scare': 758, 'copi': 759, 'wit': 760, 'america': 761, 'admit': 762, 'brought': 763, 'particular': 764, 'relat': 765, 'screenplay': 766, 'whatev': 767, 'pure': 768, '70': 769, 'averag': 770, 'harri': 771, 'master': 772, 'describ': 773, 'male': 774, 'treat': 775, '20': 776, 'fantasi': 777, 'issu': 778, 'warn': 779, 'inde': 780, 'background': 781, 'forward': 782, 'free': 783, 'project': 784, 'memor': 785, 'japanes': 786, 'poorli': 787, 'award': 788, 'locat': 789, 'amus': 790, 'potenti': 791, 'struggl': 792, 'magic': 793, 'weird': 794, 'societi': 795, 'okay': 796, 'doctor': 797, 'imdb': 798, 'accent': 799, 'water': 800, 'hot': 801, 'alien': 802, '30': 803, 'dr': 804, 'express': 805, 'odd': 806, 'choic': 807, 'crazi': 808, 'fiction': 809, 'studio': 810, 'becam': 811, 'control': 812, 'masterpiec': 813, 'fli': 814, 'difficult': 815, 'joe': 816, 'scream': 817, 'costum': 818, 'lover': 819, 'refer': 820, 'uniqu': 821, 'remak': 822, 'girlfriend': 823, 'vampir': 824, 'prison': 825, 'execut': 826, 'wear': 827, 'jump': 828, 'unless': 829, 'wood': 830, 'creepi': 831, 'cheesi': 832, 'superb': 833, 'otherwis': 834, 'parti': 835, 'ghost': 836, 'roll': 837, 'public': 838, 'mad': 839, 'depict': 840, 'earlier': 841, 'week': 842, 'moral': 843, 'badli': 844, 'jane': 845, 'dumb': 846, 'fi': 847, 'grow': 848, 'flaw': 849, 'deep': 850, 'sci': 851, 'maker': 852, 'cat': 853, 'footag': 854, 'older': 855, 'connect': 856, 'bother': 857, 'plenti': 858, 'outsid': 859, 'stick': 860, 'gay': 861, 'catch': 862, 'plu': 863, 'co': 864, 'popular': 865, 'equal': 866, 'social': 867, 'quickli': 868, 'disturb': 869, 'perfectli': 870, 'dress': 871, '90': 872, 'era': 873, 'mistak': 874, 'lie': 875, 'ride': 876, 'previou': 877, 'combin': 878, 'concept': 879, 'band': 880, 'rich': 881, 'answer': 882, 'surviv': 883, 'front': 884, 'christma': 885, 'sweet': 886, 'insid': 887, 'bare': 888, 'concern': 889, 'eat': 890, 'listen': 891, 'beat': 892, 'ben': 893, 'c': 894, 'serv': 895, 'term': 896, 'la': 897, 'german': 898, 'meant': 899, 'stereotyp': 900, 'hardli': 901, 'law': 902, 'innoc': 903, 'desper': 904, 'promis': 905, 'memori': 906, 'cute': 907, 'intent': 908, 'steal': 909, 'variou': 910, 'inform': 911, 'brain': 912, 'post': 913, 'tone': 914, 'island': 915, 'amount': 916, 'nuditi': 917, 'track': 918, 'compani': 919, 'store': 920, 'claim': 921, '50': 922, 'hair': 923, 'flat': 924, 'univers': 925, 'land': 926, 'danger': 927, 'kick': 928, 'scott': 929, 'fairli': 930, 'player': 931, 'plain': 932, 'step': 933, 'crew': 934, 'toni': 935, 'share': 936, 'tast': 937, 'centuri': 938, 'engag': 939, 'achiev': 940, 'travel': 941, 'cold': 942, 'rip': 943, 'record': 944, 'suit': 945, 'sadli': 946, 'manner': 947, 'wrote': 948, 'tension': 949, 'spot': 950, 'fascin': 951, 'intens': 952, 'familiar': 953, 'burn': 954, 'remark': 955, 'depth': 956, 'destroy': 957, 'histor': 958, 'sleep': 959, 'purpos': 960, 'languag': 961, 'ignor': 962, 'ruin': 963, 'delight': 964, 'italian': 965, 'unbeliev': 966, 'soul': 967, 'abil': 968, 'collect': 969, 'clever': 970, 'detect': 971, 'violent': 972, 'rape': 973, 'reach': 974, 'door': 975, 'trash': 976, 'liter': 977, 'scienc': 978, 'caught': 979, 'reveng': 980, 'commun': 981, 'creatur': 982, 'trip': 983, 'approach': 984, 'intrigu': 985, 'fashion': 986, 'paint': 987, 'introduc': 988, 'skill': 989, 'channel': 990, 'complex': 991, 'camp': 992, 'christian': 993, 'hole': 994, 'extra': 995, 'immedi': 996, 'mental': 997, 'limit': 998, 'ann': 999, 'mere': 1000, 'million': 1001, '6': 1002, 'slightli': 1003, 'comput': 1004, 'conclus': 1005, 'slasher': 1006, 'imposs': 1007, 'suddenli': 1008, 'crimin': 1009, 'neither': 1010, 'teen': 1011, 'physic': 1012, 'spent': 1013, 'nation': 1014, 'respons': 1015, 'planet': 1016, 'receiv': 1017, 'fake': 1018, 'blue': 1019, 'sick': 1020, 'bizarr': 1021, 'embarrass': 1022, 'indian': 1023, '15': 1024, 'ring': 1025, 'pop': 1026, 'drop': 1027, 'drag': 1028, 'haunt': 1029, 'pointless': 1030, 'suspect': 1031, 'edg': 1032, 'search': 1033, 'handl': 1034, 'biggest': 1035, 'common': 1036, 'hurt': 1037, 'faith': 1038, 'arriv': 1039, 'technic': 1040, 'angel': 1041, 'genuin': 1042, 'dad': 1043, 'solid': 1044, 'awesom': 1045, 'f': 1046, 'colleg': 1047, 'former': 1048, 'van': 1049, 'focu': 1050, 'count': 1051, 'tear': 1052, 'heavi': 1053, 'wall': 1054, 'rais': 1055, 'laughabl': 1056, 'younger': 1057, 'visit': 1058, 'fair': 1059, 'sign': 1060, 'excus': 1061, 'cult': 1062, 'tough': 1063, 'key': 1064, 'motion': 1065, 'super': 1066, 'desir': 1067, 'addit': 1068, 'stun': 1069, 'cloth': 1070, 'exploit': 1071, 'smith': 1072, 'tortur': 1073, 'race': 1074, 'davi': 1075, 'cross': 1076, 'author': 1077, 'jim': 1078, 'compel': 1079, 'consist': 1080, 'focus': 1081, 'minor': 1082, 'pathet': 1083, 'chemistri': 1084, 'commit': 1085, 'park': 1086, 'frank': 1087, 'tradit': 1088, 'obsess': 1089, 'grade': 1090, '60': 1091, 'asid': 1092, 'brutal': 1093, 'somewher': 1094, 'steve': 1095, 'explor': 1096, 'grant': 1097, 'depress': 1098, 'u': 1099, 'opportun': 1100, 'rule': 1101, 'besid': 1102, 'honest': 1103, 'dub': 1104, 'anti': 1105, 'trailer': 1106, 'intend': 1107, 'bar': 1108, 'scientist': 1109, 'west': 1110, 'regard': 1111, 'longer': 1112, 'decad': 1113, 'judg': 1114, 'silent': 1115, 'armi': 1116, 'creativ': 1117, 'wild': 1118, 'g': 1119, 'stewart': 1120, 'south': 1121, 'draw': 1122, 'road': 1123, 'govern': 1124, 'ex': 1125, 'boss': 1126, 'practic': 1127, 'surprisingli': 1128, 'gang': 1129, 'motiv': 1130, 'club': 1131, 'festiv': 1132, 'page': 1133, 'green': 1134, 'london': 1135, 'redeem': 1136, 'display': 1137, 'militari': 1138, 'idiot': 1139, 'aliv': 1140, 'machin': 1141, 'thrill': 1142, 'repeat': 1143, 'nobodi': 1144, '100': 1145, 'yeah': 1146, 'folk': 1147, '40': 1148, 'garbag': 1149, 'journey': 1150, 'ground': 1151, 'tire': 1152, 'smile': 1153, 'mood': 1154, 'bought': 1155, 'cost': 1156, 'stone': 1157, 'sam': 1158, 'mouth': 1159, 'noir': 1160, 'agent': 1161, 'terrif': 1162, 'requir': 1163, 'utterli': 1164, 'area': 1165, 'sexi': 1166, 'honestli': 1167, 'report': 1168, 'geniu': 1169, 'humour': 1170, 'glad': 1171, 'enter': 1172, 'investig': 1173, 'serial': 1174, 'passion': 1175, 'narr': 1176, 'occasion': 1177, 'marriag': 1178, 'climax': 1179, 'studi': 1180, 'industri': 1181, 'ship': 1182, 'nowher': 1183, 'center': 1184, 'charli': 1185, 'demon': 1186, 'loos': 1187, 'bear': 1188, 'hors': 1189, 'hang': 1190, 'wow': 1191, 'graphic': 1192, 'admir': 1193, 'giant': 1194, 'send': 1195, 'damn': 1196, 'loud': 1197, 'rel': 1198, 'nake': 1199, 'profession': 1200, 'subtl': 1201, 'blow': 1202, 'bottom': 1203, 'batman': 1204, 'insult': 1205, 'boyfriend': 1206, 'doubl': 1207, 'r': 1208, 'kelli': 1209, 'initi': 1210, 'frame': 1211, 'gem': 1212, 'opera': 1213, 'cinemat': 1214, 'church': 1215, 'drawn': 1216, 'challeng': 1217, 'affect': 1218, 'seek': 1219, 'nightmar': 1220, 'fulli': 1221, 'l': 1222, 'j': 1223, 'evid': 1224, 'arm': 1225, 'conflict': 1226, 'essenti': 1227, 'wind': 1228, 'henri': 1229, 'christoph': 1230, 'grace': 1231, 'narrat': 1232, 'assum': 1233, 'witch': 1234, 'push': 1235, 'hunt': 1236, 'wise': 1237, 'chri': 1238, 'nomin': 1239, 'month': 1240, 'repres': 1241, 'sceneri': 1242, 'hide': 1243, 'affair': 1244, 'avail': 1245, 'bond': 1246, 'justic': 1247, 'smart': 1248, 'thu': 1249, 'flashback': 1250, 'interview': 1251, 'outstand': 1252, 'constantli': 1253, 'satisfi': 1254, 'presenc': 1255, 'bed': 1256, 'central': 1257, 'iron': 1258, 'sell': 1259, 'content': 1260, 'gag': 1261, 'everybodi': 1262, 'hotel': 1263, 'slowli': 1264, 'hire': 1265, 'system': 1266, 'thrown': 1267, 'hey': 1268, 'individu': 1269, 'charl': 1270, 'adam': 1271, 'mediocr': 1272, 'jone': 1273, 'allen': 1274, 'billi': 1275, 'lesson': 1276, 'ray': 1277, 'cameo': 1278, 'photographi': 1279, 'fellow': 1280, 'pari': 1281, 'strike': 1282, 'rise': 1283, 'brief': 1284, 'independ': 1285, 'absurd': 1286, 'neg': 1287, 'phone': 1288, 'impact': 1289, 'born': 1290, 'ill': 1291, 'model': 1292, 'spoil': 1293, 'fresh': 1294, 'angl': 1295, 'abus': 1296, 'likabl': 1297, 'hill': 1298, 'discuss': 1299, 'sight': 1300, 'ahead': 1301, 'photograph': 1302, 'sent': 1303, 'occur': 1304, 'blame': 1305, 'logic': 1306, 'shine': 1307, 'bruce': 1308, 'mainli': 1309, 'skip': 1310, 'forev': 1311, 'commerci': 1312, 'teacher': 1313, 'segment': 1314, 'held': 1315, 'surround': 1316, 'zero': 1317, 'blond': 1318, 'satir': 1319, 'trap': 1320, 'summer': 1321, 'resembl': 1322, 'queen': 1323, 'fool': 1324, 'ball': 1325, 'six': 1326, 'sub': 1327, 'tragedi': 1328, 'twice': 1329, 'reaction': 1330, 'pack': 1331, 'bomb': 1332, 'hospit': 1333, 'will': 1334, 'protagonist': 1335, 'sport': 1336, 'mile': 1337, 'trust': 1338, 'mom': 1339, 'vote': 1340, 'drink': 1341, 'jerri': 1342, 'encount': 1343, 'plane': 1344, 'station': 1345, 'al': 1346, 'current': 1347, 'program': 1348, 'choos': 1349, 'celebr': 1350, 'martin': 1351, 'join': 1352, 'favourit': 1353, 'round': 1354, 'field': 1355, 'tragic': 1356, 'lord': 1357, 'robot': 1358, 'vision': 1359, 'jean': 1360, 'arthur': 1361, 'tie': 1362, 'fortun': 1363, 'random': 1364, 'roger': 1365, 'psycholog': 1366, 'intern': 1367, 'dread': 1368, 'nonsens': 1369, 'improv': 1370, 'epic': 1371, 'prefer': 1372, 'legend': 1373, 'pleasur': 1374, 'formula': 1375, 'highlight': 1376, 'dollar': 1377, 'tape': 1378, '11': 1379, 'object': 1380, 'porn': 1381, 'thin': 1382, 'wide': 1383, 'fox': 1384, 'gorgeou': 1385, 'ugli': 1386, 'buddi': 1387, 'influenc': 1388, 'prepar': 1389, 'ii': 1390, 'nasti': 1391, 'supposedli': 1392, 'progress': 1393, 'warm': 1394, 'reflect': 1395, 'youth': 1396, 'worthi': 1397, 'latter': 1398, 'length': 1399, 'unusu': 1400, 'crash': 1401, 'shop': 1402, 'childhood': 1403, 'superior': 1404, 'seven': 1405, 'theatr': 1406, 'remot': 1407, 'funniest': 1408, 'paid': 1409, 'disgust': 1410, 'pilot': 1411, 'trick': 1412, 'fell': 1413, 'castl': 1414, 'convers': 1415, 'establish': 1416, 'disast': 1417, 'gangster': 1418, 'rob': 1419, 'heaven': 1420, 'mine': 1421, 'ident': 1422, 'suicid': 1423, 'disappear': 1424, 'singer': 1425, 'tend': 1426, 'decis': 1427, 'forgotten': 1428, 'mask': 1429, 'heroin': 1430, 'brian': 1431, 'partner': 1432, 'desert': 1433, 'alan': 1434, 'recogn': 1435, 'stuck': 1436, 'thoroughli': 1437, 'sky': 1438, 'ms': 1439, 'p': 1440, 'accur': 1441, 'replac': 1442, 'market': 1443, 'seemingli': 1444, 'uncl': 1445, 'eddi': 1446, 'commentari': 1447, 'danni': 1448, 'clue': 1449, 'andi': 1450, 'jackson': 1451, 'devil': 1452, 'that': 1453, 'therefor': 1454, 'refus': 1455, 'pair': 1456, 'fate': 1457, 'fault': 1458, 'unit': 1459, 'accid': 1460, 'river': 1461, 'ed': 1462, 'tune': 1463, 'afraid': 1464, 'clean': 1465, 'hidden': 1466, 'russian': 1467, 'stephen': 1468, 'quick': 1469, 'irrit': 1470, 'readi': 1471, 'convey': 1472, 'test': 1473, 'instanc': 1474, 'captain': 1475, 'european': 1476, 'frustrat': 1477, 'insan': 1478, 'daniel': 1479, 'food': 1480, 'rescu': 1481, 'wed': 1482, '1950': 1483, 'chines': 1484, 'dirti': 1485, 'angri': 1486, 'lock': 1487, 'joy': 1488, 'steven': 1489, 'price': 1490, 'cage': 1491, 'bland': 1492, 'anymor': 1493, 'rang': 1494, 'wooden': 1495, 'n': 1496, 'jason': 1497, 'news': 1498, 'rush': 1499, 'board': 1500, 'twenti': 1501, 'led': 1502, '12': 1503, 'worri': 1504, 'martial': 1505, 'hunter': 1506, 'cgi': 1507, 'transform': 1508, 'symbol': 1509, 'onto': 1510, 'sentiment': 1511, 'invent': 1512, 'piti': 1513, 'x': 1514, 'johnni': 1515, 'explan': 1516, 'process': 1517, 'attitud': 1518, 'owner': 1519, 'awar': 1520, 'aim': 1521, 'floor': 1522, 'energi': 1523, 'necessari': 1524, 'target': 1525, 'favor': 1526, 'opposit': 1527, 'religi': 1528, 'window': 1529, 'blind': 1530, 'insight': 1531, 'chick': 1532, 'movement': 1533, 'research': 1534, 'possess': 1535, 'mountain': 1536, 'deepli': 1537, 'comparison': 1538, 'rain': 1539, 'comed': 1540, 'whatsoev': 1541, 'grand': 1542, 'began': 1543, 'mid': 1544, 'shadow': 1545, 'bank': 1546, 'parodi': 1547, 'princ': 1548, 'credibl': 1549, 'pre': 1550, 'weapon': 1551, 'friendship': 1552, 'taylor': 1553, 'dougla': 1554, 'teach': 1555, 'flesh': 1556, 'bloodi': 1557, 'protect': 1558, 'terror': 1559, 'hint': 1560, 'marvel': 1561, 'load': 1562, 'superman': 1563, 'drunk': 1564, 'watchabl': 1565, 'anybodi': 1566, 'leader': 1567, 'accord': 1568, 'freddi': 1569, 'brown': 1570, 'seat': 1571, 'tim': 1572, 'jeff': 1573, 'hitler': 1574, 'appropri': 1575, 'villag': 1576, 'unknown': 1577, 'charg': 1578, 'knock': 1579, 'keaton': 1580, 'empti': 1581, 'media': 1582, 'unnecessari': 1583, 'enemi': 1584, 'england': 1585, 'utter': 1586, 'strength': 1587, 'buck': 1588, 'dare': 1589, 'perspect': 1590, 'wave': 1591, 'craft': 1592, 'correct': 1593, 'contrast': 1594, 'ford': 1595, 'kiss': 1596, 'nativ': 1597, 'chill': 1598, 'knowledg': 1599, 'soap': 1600, 'distract': 1601, 'anywher': 1602, 'nazi': 1603, 'speed': 1604, 'magnific': 1605, 'mission': 1606, 'fred': 1607, 'ice': 1608, 'breath': 1609, '1980': 1610, 'crowd': 1611, 'joan': 1612, 'jr': 1613, 'moon': 1614, 'frighten': 1615, 'kate': 1616, 'soft': 1617, '000': 1618, 'dan': 1619, 'dick': 1620, 'hundr': 1621, 'nick': 1622, 'radio': 1623, 'somebodi': 1624, 'simon': 1625, 'dozen': 1626, 'academi': 1627, 'shakespear': 1628, 'thousand': 1629, 'andrew': 1630, 'loss': 1631, 'vehicl': 1632, 'sum': 1633, 'quot': 1634, 'account': 1635, 'root': 1636, 'leg': 1637, 'behavior': 1638, '1970': 1639, 'convent': 1640, 'gold': 1641, 'regular': 1642, 'compet': 1643, 'demand': 1644, 'worker': 1645, 'pretenti': 1646, 'japan': 1647, 'privat': 1648, 'lynch': 1649, 'explos': 1650, 'candi': 1651, 'notabl': 1652, 'interpret': 1653, 'stretch': 1654, 'constant': 1655, 'debut': 1656, 'tarzan': 1657, 'sea': 1658, 'spi': 1659, 'translat': 1660, 'prais': 1661, 'revolv': 1662, 'sat': 1663, 'technolog': 1664, 'jesu': 1665, 'failur': 1666, 'quiet': 1667, 'threaten': 1668, 'franc': 1669, 'ass': 1670, 'aid': 1671, 'punch': 1672, 'higher': 1673, 'met': 1674, 'toy': 1675, 'kevin': 1676, 'abandon': 1677, 'interact': 1678, 'vh': 1679, 'mike': 1680, 'separ': 1681, 'bet': 1682, 'command': 1683, 'confront': 1684, 'recal': 1685, 'stunt': 1686, 'gotten': 1687, 'servic': 1688, 'belong': 1689, 'techniqu': 1690, 'site': 1691, 'foot': 1692, 'freak': 1693, 'cabl': 1694, 'bug': 1695, 'fu': 1696, 'bright': 1697, 'capabl': 1698, 'jimmi': 1699, 'african': 1700, 'clark': 1701, 'stock': 1702, 'presid': 1703, 'boat': 1704, 'succeed': 1705, 'fat': 1706, 'structur': 1707, 'spanish': 1708, 'gene': 1709, 'paper': 1710, 'kidnap': 1711, 'belief': 1712, 'whilst': 1713, 'factor': 1714, 'witti': 1715, 'attend': 1716, 'realism': 1717, 'realis': 1718, 'tree': 1719, 'educ': 1720, 'bob': 1721, 'complic': 1722, 'finest': 1723, 'broken': 1724, 'santa': 1725, 'assist': 1726, 'smoke': 1727, 'depart': 1728, 'observ': 1729, 'v': 1730, 'determin': 1731, 'up': 1732, 'oper': 1733, 'fame': 1734, 'domin': 1735, 'lewi': 1736, 'rubbish': 1737, 'routin': 1738, 'hat': 1739, 'advanc': 1740, 'lone': 1741, 'morgan': 1742, 'kinda': 1743, 'foreign': 1744, 'hook': 1745, 'safe': 1746, 'rank': 1747, 'numer': 1748, 'rose': 1749, 'washington': 1750, 'vs': 1751, 'civil': 1752, 'shallow': 1753, 'werewolf': 1754, 'shape': 1755, 'morn': 1756, 'gari': 1757, 'accomplish': 1758, 'ordinari': 1759, 'winner': 1760, 'kong': 1761, 'virtual': 1762, 'grab': 1763, 'peac': 1764, 'whenev': 1765, 'offens': 1766, 'luck': 1767, 'h': 1768, 'patient': 1769, 'complain': 1770, 'activ': 1771, 'bigger': 1772, 'welcom': 1773, 'contriv': 1774, 'unfunni': 1775, 'con': 1776, 'pretend': 1777, 'dimension': 1778, 'trek': 1779, 'code': 1780, 'lesbian': 1781, 'dri': 1782, 'wake': 1783, 'flash': 1784, 'cain': 1785, 'eric': 1786, 'statu': 1787, 'dancer': 1788, 'corrupt': 1789, 'manipul': 1790, 'guard': 1791, 'albert': 1792, 'awkward': 1793, 'sourc': 1794, 'gain': 1795, 'speech': 1796, 'signific': 1797, 'context': 1798, 'anthoni': 1799, '13': 1800, 'psycho': 1801, 'clip': 1802, 'corni': 1803, 'sean': 1804, 'theatric': 1805, 'reli': 1806, 'curiou': 1807, 'religion': 1808, 'advic': 1809, 'w': 1810, 'priest': 1811, 'flow': 1812, 'addict': 1813, 'asian': 1814, 'jennif': 1815, 'skin': 1816, 'secur': 1817, 'howard': 1818, 'specif': 1819, 'core': 1820, 'luke': 1821, 'comfort': 1822, 'organ': 1823, 'golden': 1824, 'promot': 1825, 'cash': 1826, 'lucki': 1827, 'cheat': 1828, 'associ': 1829, 'dislik': 1830, 'lower': 1831, 'devic': 1832, 'contribut': 1833, 'frankli': 1834, 'regret': 1835, 'degre': 1836, 'spell': 1837, 'balanc': 1838, 'wing': 1839, 'frequent': 1840, 'sake': 1841, 'print': 1842, 'lake': 1843, 'forgiv': 1844, 'thoma': 1845, 'mass': 1846, 'betti': 1847, 'crack': 1848, 'unexpect': 1849, 'gordon': 1850, 'unfold': 1851, 'depend': 1852, 'amateur': 1853, 'categori': 1854, 'grown': 1855, 'construct': 1856, 'invit': 1857, 'walter': 1858, 'intellectu': 1859, 'grew': 1860, 'anna': 1861, 'condit': 1862, 'matur': 1863, 'honor': 1864, 'mirror': 1865, 'spectacular': 1866, 'veteran': 1867, 'sole': 1868, 'sudden': 1869, 'robin': 1870, 'meanwhil': 1871, 'experienc': 1872, 'card': 1873, 'liner': 1874, 'gift': 1875, 'freedom': 1876, 'demonstr': 1877, 'grip': 1878, 'overli': 1879, 'brilliantli': 1880, 'sheriff': 1881, 'circumst': 1882, 'subtitl': 1883, 'crappi': 1884, 'unabl': 1885, 'section': 1886, 'oliv': 1887, 'theori': 1888, 'drew': 1889, 'colour': 1890, 'altern': 1891, 'laughter': 1892, 'parker': 1893, 'matt': 1894, 'pile': 1895, 'path': 1896, 'sheer': 1897, 'cook': 1898, 'hall': 1899, 'relief': 1900, 'accident': 1901, 'defin': 1902, 'treatment': 1903, 'wander': 1904, 'lawyer': 1905, 'sinatra': 1906, 'dragon': 1907, 'captiv': 1908, 'hank': 1909, 'gratuit': 1910, 'halloween': 1911, 'moor': 1912, 'kung': 1913, 'barbara': 1914, 'wound': 1915, 'unintent': 1916, 'k': 1917, 'cowboy': 1918, 'broadway': 1919, 'wayn': 1920, 'jacki': 1921, 'winter': 1922, 'surreal': 1923, 'canadian': 1924, 'spoof': 1925, 'statement': 1926, 'fare': 1927, 'compos': 1928, 'cheer': 1929, 'fish': 1930, 'treasur': 1931, 'gonna': 1932, 'emerg': 1933, 'unrealist': 1934, 'sensit': 1935, 'victor': 1936, 'woodi': 1937, 'neighbor': 1938, 'driven': 1939, 'sympathet': 1940, 'ran': 1941, 'expos': 1942, 'menac': 1943, 'overlook': 1944, 'authent': 1945, 'glass': 1946, 'topic': 1947, 'chief': 1948, 'gross': 1949, 'ancient': 1950, 'michel': 1951, 'handsom': 1952, 'feet': 1953, 'cinderella': 1954, 'pleasant': 1955, 'russel': 1956, 'built': 1957, 'comedian': 1958, 'nevertheless': 1959, 'contemporari': 1960, 'stranger': 1961, 'network': 1962, 'gori': 1963, 'blockbust': 1964, 'earn': 1965, 'letter': 1966, 'underr': 1967, 'consider': 1968, 'endless': 1969, 'miser': 1970, 'solv': 1971, 'brook': 1972, 'switch': 1973, 'bullet': 1974, 'convict': 1975, 'joseph': 1976, 'virgin': 1977, 'edward': 1978, 'victoria': 1979, 'chosen': 1980, 'cynic': 1981, 'scale': 1982, '0': 1983, 'scenario': 1984, 'alex': 1985, 'sword': 1986, 'curs': 1987, 'outrag': 1988, 'com': 1989, 'gut': 1990, 'wrap': 1991, 'monkey': 1992, 'screenwrit': 1993, 'driver': 1994, 'juli': 1995, 'uk': 1996, 'substanc': 1997, 'proper': 1998, 'bird': 1999, 'court': 2000, 'indic': 2001, 'par': 2002, 'remov': 2003, 'rental': 2004, 'grave': 2005, 'advertis': 2006, 'naiv': 2007, 'nanci': 2008, 'consequ': 2009, 'roy': 2010, 'loser': 2011, 'inevit': 2012, 'bridg': 2013, 'fatal': 2014, 'invis': 2015, 'slap': 2016, 'brave': 2017, 'le': 2018, 'germani': 2019, 'ador': 2020, 'anger': 2021, 'provok': 2022, 'footbal': 2023, 'loui': 2024, 'alcohol': 2025, 'chan': 2026, 'anderson': 2027, 'professor': 2028, 'ryan': 2029, 'stumbl': 2030, 'willi': 2031, 'bat': 2032, 'sharp': 2033, '1930': 2034, 'assassin': 2035, 'australian': 2036, 'patrick': 2037, 'strongli': 2038, 'eight': 2039, 'lousi': 2040, 'trilog': 2041, 'liber': 2042, 'cell': 2043, 'ape': 2044, 'heck': 2045, 'refresh': 2046, 'saturday': 2047, 'amateurish': 2048, 'deni': 2049, 'sin': 2050, 'san': 2051, 'justifi': 2052, 'vagu': 2053, 'resid': 2054, 'sympathi': 2055, 'indi': 2056, 'defeat': 2057, 'reput': 2058, 'creator': 2059, 'terrifi': 2060, 'mini': 2061, 'tediou': 2062, 'prevent': 2063, 'endur': 2064, 'expert': 2065, 'tabl': 2066, 'task': 2067, 'che': 2068, 'employ': 2069, 'rival': 2070, 'trial': 2071, 'imit': 2072, 'basebal': 2073, 'offend': 2074, 'pitch': 2075, 'complaint': 2076, 'weekend': 2077, 'europ': 2078, 'beach': 2079, 'max': 2080, 'dig': 2081, 'fairi': 2082, 'murphi': 2083, 'purchas': 2084, 'risk': 2085, 'format': 2086, 'bite': 2087, 'titan': 2088, 'reminisc': 2089, 'hype': 2090, 'glimps': 2091, 'harsh': 2092, 'tini': 2093, 'nois': 2094, 'powel': 2095, 'strip': 2096, 'fals': 2097, '14': 2098, 'north': 2099, 'till': 2100, 'asleep': 2101, 'prime': 2102, 'texa': 2103, 'destruct': 2104, 'revel': 2105, 'descript': 2106, 'africa': 2107, 'excess': 2108, 'semi': 2109, 'surfac': 2110, 'arrest': 2111, 'sitcom': 2112, 'uninterest': 2113, 'spin': 2114, 'inner': 2115, 'maintain': 2116, 'dinosaur': 2117, 'massiv': 2118, 'makeup': 2119, 'twin': 2120, 'argu': 2121, 'controversi': 2122, 'hitchcock': 2123, 'stare': 2124, 'melodrama': 2125, 'ideal': 2126, 'expens': 2127, 'ludicr': 2128, 'kim': 2129, 'insist': 2130, 'reject': 2131, 'ga': 2132, 'host': 2133, 'atroci': 2134, 'supernatur': 2135, 'press': 2136, 'erot': 2137, 'subplot': 2138, 'forest': 2139, 'nail': 2140, 'ala': 2141, 'columbo': 2142, 'notch': 2143, 'cant': 2144, 'presum': 2145, 'identifi': 2146, 'dude': 2147, 'guest': 2148, 'method': 2149, 'character': 2150, 'forgett': 2151, 'plagu': 2152, 'crude': 2153, 'closer': 2154, 'ear': 2155, 'beast': 2156, 'lion': 2157, 'foster': 2158, 'border': 2159, 'landscap': 2160, 'princess': 2161, 'birth': 2162, 'urban': 2163, 'jungl': 2164, 'storytel': 2165, 'pacino': 2166, 'bound': 2167, 'previous': 2168, 'damag': 2169, 'aunt': 2170, 'accus': 2171, 'chose': 2172, 'nude': 2173, 'jess': 2174, 'doll': 2175, 'thirti': 2176, 'propaganda': 2177, 'emma': 2178, 'guid': 2179, '25': 2180, 'mate': 2181, 'whoever': 2182, 'pet': 2183, 'mainstream': 2184, 'warrior': 2185, 'poster': 2186, 'size': 2187, 'merit': 2188, 'exact': 2189, 'deadli': 2190, 'latest': 2191, 'gritti': 2192, 'upset': 2193, 'friday': 2194, 'cooper': 2195, 'corps': 2196, 'warner': 2197, 'sun': 2198, 'contest': 2199, 'contact': 2200, 'popul': 2201, 'ton': 2202, 'settl': 2203, 'wilson': 2204, 'citizen': 2205, '1990': 2206, 'blend': 2207, 'rough': 2208, 'buff': 2209, 'select': 2210, 'widow': 2211, 'environ': 2212, 'rat': 2213, 'metal': 2214, 'overcom': 2215, 'bu': 2216, 'alic': 2217, 'pitt': 2218, 'mgm': 2219, 'link': 2220, 'guilti': 2221, 'lift': 2222, 'revolut': 2223, 'particip': 2224, 'ted': 2225, 'johnson': 2226, 'prostitut': 2227, 'moron': 2228, 'corner': 2229, 'exagger': 2230, 'corpor': 2231, 'afternoon': 2232, '1960': 2233, 'accompani': 2234, 'matrix': 2235, 'leagu': 2236, 'doom': 2237, 'sincer': 2238, 'hood': 2239, 'clair': 2240, 'multipl': 2241, 'instal': 2242, 'holm': 2243, 'friendli': 2244, 'blah': 2245, 'campi': 2246, 'advis': 2247, 'irish': 2248, 'junk': 2249, 'sunday': 2250, 'defend': 2251, 'string': 2252, 'grim': 2253, 'examin': 2254, 'hip': 2255, 'aka': 2256, 'lugosi': 2257, 'rachel': 2258, 'shake': 2259, 'icon': 2260, 'tight': 2261, 'pro': 2262, 'confid': 2263, 'varieti': 2264, 'shut': 2265, 'medic': 2266, 'directli': 2267, 'denni': 2268, 'jaw': 2269, 'goal': 2270, 'mexican': 2271, 'attach': 2272, 'sullivan': 2273, 'duke': 2274, 'breast': 2275, 'bourn': 2276, 'prior': 2277, 'dean': 2278, 'sentenc': 2279, 'terrorist': 2280, 'sarah': 2281, 'courag': 2282, 'truck': 2283, 'legendari': 2284, 'vietnam': 2285, 'nose': 2286, 'donald': 2287, 'split': 2288, 'proceed': 2289, 'yell': 2290, 'behav': 2291, 'entri': 2292, 'hong': 2293, 'un': 2294, 'everywher': 2295, 'unconvinc': 2296, 'jerk': 2297, 'forth': 2298, 'confess': 2299, 'gather': 2300, 'concentr': 2301, 'lifetim': 2302, 'swim': 2303, 'buri': 2304, 'borrow': 2305, 'stolen': 2306, 'crush': 2307, 'spite': 2308, 'turkey': 2309, 'california': 2310, 'deliveri': 2311, 'julia': 2312, 'lip': 2313, 'pan': 2314, 'offici': 2315, 'reward': 2316, 'flight': 2317, 'freeman': 2318, 'quest': 2319, 'downright': 2320, 'china': 2321, 'proud': 2322, 'hoffman': 2323, 'inept': 2324, 'sink': 2325, 'fabul': 2326, 'sir': 2327, 'worthwhil': 2328, 'betray': 2329, 'lazi': 2330, 'encourag': 2331, 'jail': 2332, 'fade': 2333, 'notori': 2334, 'jon': 2335, 'survivor': 2336, 'shower': 2337, 'bag': 2338, 'relev': 2339, 'storm': 2340, 'retard': 2341, 'cousin': 2342, 'teeth': 2343, 'branagh': 2344, 'susan': 2345, 'imageri': 2346, 'lisa': 2347, 'bell': 2348, 'bride': 2349, 'stab': 2350, 'mexico': 2351, 'summari': 2352, 'shark': 2353, 'quirki': 2354, 'trade': 2355, 'toler': 2356, 'hugh': 2357, 'finger': 2358, 'alright': 2359, 'facial': 2360, 'tremend': 2361, 'blown': 2362, 'pose': 2363, 'bitter': 2364, 'von': 2365, 'ha': 2366, 'hyster': 2367, 'scheme': 2368, 'bone': 2369, 'ron': 2370, 'ned': 2371, 'afterward': 2372, 'cruel': 2373, 'address': 2374, 'larri': 2375, 'christ': 2376, 'swear': 2377, 'beg': 2378, 'snake': 2379, 'screw': 2380, 'tour': 2381, 'distinct': 2382, 'thumb': 2383, 'pursu': 2384, 'traci': 2385, 'feed': 2386, 'photo': 2387, 'stomach': 2388, 'obscur': 2389, 'chair': 2390, 'mechan': 2391, 'occas': 2392, 'raw': 2393, 'chain': 2394, 'heavili': 2395, 'resist': 2396, 'southern': 2397, 'argument': 2398, 'cabin': 2399, 'necessarili': 2400, 'gruesom': 2401, 'holiday': 2402, 'render': 2403, 'hardi': 2404, 'sidney': 2405, 'understood': 2406, 'india': 2407, 'indulg': 2408, 'philip': 2409, 'racist': 2410, 'satan': 2411, 'pregnant': 2412, 'tongu': 2413, 'obnoxi': 2414, 'fourth': 2415, 'belov': 2416, 'stalk': 2417, 'lay': 2418, 'outfit': 2419, 'integr': 2420, 'forgot': 2421, 'midnight': 2422, 'slapstick': 2423, 'inhabit': 2424, 'deeper': 2425, 'ticket': 2426, 'restor': 2427, 'garden': 2428, 'magazin': 2429, 'carol': 2430, '17': 2431, 'shoe': 2432, 'devot': 2433, 'brad': 2434, 'incid': 2435, 'lincoln': 2436, 'disbelief': 2437, 'benefit': 2438, 'lili': 2439, 'underground': 2440, 'divorc': 2441, 'elizabeth': 2442, 'guarante': 2443, 'maria': 2444, 'sandler': 2445, 'anticip': 2446, 'explod': 2447, 'cring': 2448, 'greater': 2449, 'creation': 2450, 'amazingli': 2451, 'princip': 2452, 'mildli': 2453, 'capit': 2454, 'bbc': 2455, 'slave': 2456, 'introduct': 2457, 'halfway': 2458, 'funnier': 2459, 'lesli': 2460, 'extraordinari': 2461, 'extent': 2462, 'wreck': 2463, 'overwhelm': 2464, 'text': 2465, 'tap': 2466, 'transfer': 2467, 'punish': 2468, 'advantag': 2469, 'enhanc': 2470, 'horrif': 2471, 'preview': 2472, 'jessica': 2473, 'deliber': 2474, 'dynam': 2475, 'error': 2476, 'lo': 2477, 'east': 2478, 'plant': 2479, 'lane': 2480, 'homosexu': 2481, 'ensu': 2482, 'basi': 2483, 'appli': 2484, '2000': 2485, 'vacat': 2486, 'vincent': 2487, 'sophist': 2488, 'miller': 2489, 'miscast': 2490, 'mansion': 2491, 'elev': 2492, 'extend': 2493, 'reed': 2494, 'sleazi': 2495, 'via': 2496, 'measur': 2497, 'spoken': 2498, 'steel': 2499, 'bollywood': 2500, 'uncomfort': 2501, 'beer': 2502, 'daili': 2503, 'goofi': 2504, 'breathtak': 2505, 'alter': 2506, 'blair': 2507, 'fix': 2508, 'mous': 2509, 'cathol': 2510, 'melt': 2511, 'conceiv': 2512, 'dentist': 2513, 'savag': 2514, 'assign': 2515, 'overact': 2516, 'hippi': 2517, 'stanley': 2518, 'sacrific': 2519, 'burt': 2520, 'subsequ': 2521, 'succe': 2522, 'oppos': 2523, 'everyday': 2524, 'nowaday': 2525, 'carpent': 2526, 'inspector': 2527, 'properli': 2528, 'neck': 2529, 'massacr': 2530, 'block': 2531, 'laura': 2532, 'circl': 2533, 'lesser': 2534, 'fay': 2535, 'fallen': 2536, 'portrait': 2537, 'seagal': 2538, 'christi': 2539, 'pool': 2540, 'access': 2541, 'mob': 2542, 'concert': 2543, 'grey': 2544, 'chees': 2545, 'isol': 2546, 'usa': 2547, 'relax': 2548, 'react': 2549, 'sinist': 2550, 'jewish': 2551, 'jake': 2552, 'competit': 2553, 'appal': 2554, 'spiritu': 2555, 'nonetheless': 2556, '2006': 2557, 'immens': 2558, 'suitabl': 2559, 'chop': 2560, 'ironi': 2561, 'lyric': 2562, 'stink': 2563, 'creep': 2564, 'nine': 2565, 'franchis': 2566, 'needless': 2567, 'reduc': 2568, 'sold': 2569, 'showcas': 2570, 'navi': 2571, 'nut': 2572, 'adopt': 2573, 'luci': 2574, 'user': 2575, 'retir': 2576, 'shirt': 2577, 'rage': 2578, 'spring': 2579, 'zone': 2580, 'jay': 2581, 'digit': 2582, 'asham': 2583, 'uninspir': 2584, 'per': 2585, 'bath': 2586, 'bulli': 2587, 'stanwyck': 2588, 'nurs': 2589, 'upper': 2590, 'sutherland': 2591, 'oddli': 2592, '1940': 2593, 'broadcast': 2594, '2001': 2595, 'amongst': 2596, 'laid': 2597, 'illustr': 2598, 'throat': 2599, 'aspir': 2600, 'stylish': 2601, 'disguis': 2602, 'fulfil': 2603, 'brando': 2604, 'baker': 2605, 'thief': 2606, '18': 2607, 'wanna': 2608, 'impli': 2609, 'em': 2610, 'pride': 2611, 'pound': 2612, 'nobl': 2613, 'endear': 2614, 'wwii': 2615, 'neighborhood': 2616, 'coher': 2617, 'dawn': 2618, 'distribut': 2619, '16': 2620, 'cinematograph': 2621, 'rochest': 2622, 'diseas': 2623, 'prop': 2624, 'bett': 2625, 'shoulder': 2626, 'shift': 2627, 'dinner': 2628, 'albeit': 2629, 'tens': 2630, 'bo': 2631, 'contract': 2632, 'forti': 2633, 'surf': 2634, 'shout': 2635, 'knife': 2636, 'silenc': 2637, 'wash': 2638, 'poignant': 2639, 'function': 2640, 'snow': 2641, 'matthau': 2642, 'rebel': 2643, 'widmark': 2644, 'heat': 2645, 'height': 2646, 'henc': 2647, 'proof': 2648, 'mindless': 2649, 'chuck': 2650, 'internet': 2651, 'silver': 2652, 'derek': 2653, 'cancel': 2654, 'eeri': 2655, 'cannib': 2656, 'elvira': 2657, 'horrend': 2658, 'instinct': 2659, 'duti': 2660, 'reunion': 2661, 'innov': 2662, 'greatli': 2663, 'torn': 2664, 'repetit': 2665, 'mill': 2666, 'incoher': 2667, 'pie': 2668, 'premier': 2669, 'absorb': 2670, 'etern': 2671, 'glori': 2672, 'musician': 2673, 'neat': 2674, 'alik': 2675, 'elvi': 2676, 'spielberg': 2677, 'infam': 2678, 'announc': 2679, 'blank': 2680, 'diamond': 2681, 'wealthi': 2682, 'bang': 2683, 'redempt': 2684, 'nelson': 2685, 'lovabl': 2686, 'homag': 2687, 'crisi': 2688, 'trite': 2689, 'britain': 2690, 'racism': 2691, 'precis': 2692, 'horrifi': 2693, 'fbi': 2694, 'itali': 2695, 'burton': 2696, 'parallel': 2697, 'ensembl': 2698, 'flop': 2699, 'wilder': 2700, 'pat': 2701, 'dedic': 2702, 'helen': 2703, 'hammer': 2704, 'happili': 2705, 'chaplin': 2706, 'resolut': 2707, 'streisand': 2708, 'oil': 2709, 'conclud': 2710, 'factori': 2711, 'disagre': 2712, 'broke': 2713, 'carter': 2714, 'triumph': 2715, 'st': 2716, 'mar': 2717, 'plastic': 2718, 'cube': 2719, 'fighter': 2720, 'march': 2721, 'chuckl': 2722, 'own': 2723, 'vega': 2724, 'row': 2725, 'bush': 2726, 'climb': 2727, 'weight': 2728, 'rocket': 2729, 'dane': 2730, 'dump': 2731, 'boot': 2732, 'spare': 2733, 'meaning': 2734, 'thug': 2735, 'unforgett': 2736, 'lust': 2737, 'enorm': 2738, 'wherea': 2739, 'luca': 2740, 'kurt': 2741, 'sensibl': 2742, 'mst3k': 2743, 'dear': 2744, 'brand': 2745, 'engin': 2746, 'butt': 2747, 'stress': 2748, 'bobbi': 2749, 'fifti': 2750, 'arnold': 2751, 'threat': 2752, 'rap': 2753, 'difficulti': 2754, 'adequ': 2755, 'karloff': 2756, 'caricatur': 2757, 'fest': 2758, 'swing': 2759, 'arrog': 2760, 'polish': 2761, 'elabor': 2762, 'journalist': 2763, 'hamlet': 2764, 'ego': 2765, 'secretari': 2766, 'homeless': 2767, 'barri': 2768, 'flynn': 2769, 'ralph': 2770, 'resort': 2771, 'float': 2772, 'induc': 2773, 'spike': 2774, 'unbear': 2775, 'tool': 2776, 'puppet': 2777, 'conspiraci': 2778, 'arrang': 2779, 'fanci': 2780, 'simpson': 2781, 'grate': 2782, 'cruis': 2783, 'basement': 2784, 'pig': 2785, 'guilt': 2786, 'tribut': 2787, 'phillip': 2788, 'choreograph': 2789, 'boll': 2790, 'exercis': 2791, 'muppet': 2792, 'scarecrow': 2793, 'babe': 2794, 'document': 2795, 'fianc': 2796, 'editor': 2797, 'ham': 2798, 'korean': 2799, 'slip': 2800, 'puzzl': 2801, 'toilet': 2802, 'tower': 2803, 'file': 2804, '24': 2805, 'layer': 2806, 'item': 2807, 'ward': 2808, 'medium': 2809, 'stan': 2810, 'minim': 2811, 'denzel': 2812, 'doc': 2813, 'inexplic': 2814, 'territori': 2815, 'orient': 2816, 'portion': 2817, 'glover': 2818, 'assur': 2819, 'slaughter': 2820, 'persona': 2821, 'catherin': 2822, 'librari': 2823, 'superfici': 2824, 'spark': 2825, 'philosoph': 2826, 'transit': 2827, 'larger': 2828, 'dorothi': 2829, 'jeremi': 2830, 'boredom': 2831, 'pg': 2832, 'jet': 2833, 'sneak': 2834, 'owe': 2835, 'financi': 2836, 'shi': 2837, 'curti': 2838, 'wolf': 2839, 'walken': 2840, 'ban': 2841, 'hudson': 2842, 'eleph': 2843, 'cusack': 2844, 'backdrop': 2845, 'multi': 2846, 'ambigu': 2847, 'metaphor': 2848, 'profound': 2849, 'whale': 2850, 'elsewher': 2851, 'rave': 2852, 'ultra': 2853, 'implaus': 2854, 'notion': 2855, 'hack': 2856, 'gadget': 2857, 'stiff': 2858, 'birthday': 2859, 'union': 2860, 'viru': 2861, '2005': 2862, 'afford': 2863, 'poison': 2864, 'superhero': 2865, 'bibl': 2866, 'lloyd': 2867, 'reader': 2868, 'urg': 2869, 'distanc': 2870, 'pad': 2871, 'newspap': 2872, 'deriv': 2873, 'eastwood': 2874, 'disc': 2875, 'canada': 2876, '1st': 2877, 'eva': 2878, 'slight': 2879, 'squar': 2880, 'hawk': 2881, 'montag': 2882, 'cure': 2883, 'button': 2884, 'heston': 2885, 'drown': 2886, 'sadist': 2887, 'spread': 2888, 'huh': 2889, 'restaur': 2890, 'essenc': 2891, 'charisma': 2892, 'health': 2893, 'skit': 2894, 'godfath': 2895, 'scoobi': 2896, 'invest': 2897, 'estat': 2898, 'companion': 2899, 'lab': 2900, 'gradual': 2901, 'dealt': 2902, 'fetch': 2903, 'muslim': 2904, 'peak': 2905, 'maniac': 2906, 'servant': 2907, 'subtleti': 2908, 'alli': 2909, 'countless': 2910, 'ritter': 2911, 'kane': 2912, 'tea': 2913, 'gothic': 2914, 'cup': 2915, 'miik': 2916, 'electr': 2917, 'briefli': 2918, 'charismat': 2919, 'elect': 2920, 'heroic': 2921, 'salli': 2922, 'iii': 2923, 'nuanc': 2924, 'ingredi': 2925, 'tender': 2926, 'cole': 2927, 'toss': 2928, 'resourc': 2929, 'admittedli': 2930, 'bud': 2931, 'grandmoth': 2932, 'neil': 2933, 'wannab': 2934, 'reel': 2935, 'pit': 2936, 'reev': 2937, 'carrey': 2938, 'gate': 2939, 'mild': 2940, 'poverti': 2941, 'punk': 2942, 'dawson': 2943, 'mafia': 2944, 'pauli': 2945, 'shall': 2946, 'label': 2947, 'stood': 2948, 'stronger': 2949, 'kubrick': 2950, 'burst': 2951, 'useless': 2952, 'fond': 2953, 'cox': 2954, 'smash': 2955, 'easier': 2956, 'smooth': 2957, 'outcom': 2958, 'terri': 2959, 'updat': 2960, 'assault': 2961, 'ian': 2962, 'tag': 2963, 'cardboard': 2964, 'astair': 2965, 'bakshi': 2966, 'exchang': 2967, 'qualifi': 2968, 'increasingli': 2969, 'resolv': 2970, 'rex': 2971, 'coincid': 2972, 'vari': 2973, '2002': 2974, 'melodramat': 2975, 'fist': 2976, 'vulner': 2977, 'divers': 2978, 'samurai': 2979, 'sketch': 2980, 'reynold': 2981, 'conveni': 2982, 'suspend': 2983, 'templ': 2984, 'be': 2985, 'scratch': 2986, 'brillianc': 2987, 'blast': 2988, 'insert': 2989, 'luckili': 2990, 'tame': 2991, 'walker': 2992, 'pin': 2993, 'seventi': 2994, 'soprano': 2995, 'ambiti': 2996, 'farm': 2997, 'strictli': 2998, 'fisher': 2999, 'nuclear': 3000, 'matthew': 3001, 'meat': 3002, 'gotta': 3003, 'coach': 3004, 'jami': 3005, 'hamilton': 3006, 'timeless': 3007, 'grasp': 3008, 'butcher': 3009, 'clock': 3010, 'recreat': 3011, 'kudo': 3012, 'struck': 3013, 'discoveri': 3014, 'cave': 3015, 'empir': 3016, 'ninja': 3017, 'revers': 3018, 'closet': 3019, 'instantli': 3020, 'brosnan': 3021, 'worthless': 3022, 'spooki': 3023, 'convolut': 3024, 'monk': 3025, 'eccentr': 3026, 'joey': 3027, 'inconsist': 3028, 'selfish': 3029, 'clown': 3030, 'partli': 3031, 'sidekick': 3032, 'cliff': 3033, 'pal': 3034, 'fifteen': 3035, 'eighti': 3036, 'seller': 3037, 'miracl': 3038, 'mitchel': 3039, 'communist': 3040, 'evok': 3041, 'sloppi': 3042, 'gray': 3043, 'wipe': 3044, 'declar': 3045, 'bleak': 3046, 'norman': 3047, 'importantli': 3048, 'chew': 3049, 'cheek': 3050, 'superbl': 3051, 'piano': 3052, 'lifestyl': 3053, '45': 3054, 'debat': 3055, 'enthusiast': 3056, 'aforement': 3057, 'destin': 3058, 'seed': 3059, 'psychiatrist': 3060, 'websit': 3061, 'farc': 3062, 'flawless': 3063, 'australia': 3064, 'ho': 3065, 'stoog': 3066, 'kitchen': 3067, 'regardless': 3068, 'dash': 3069, 'drivel': 3070, 'pressur': 3071, 'splatter': 3072, 'dire': 3073, 'anni': 3074, 'akshay': 3075, 'soviet': 3076, 'directori': 3077, 'wick': 3078, 'wrestl': 3079, 'emili': 3080, 'incompet': 3081, 'bash': 3082, 'slice': 3083, 'abc': 3084, 'helicopt': 3085, 'doo': 3086, 'boil': 3087, 'curios': 3088, 'pleasantli': 3089, 'suppli': 3090, 'duo': 3091, 'glow': 3092, 'artifici': 3093, 'cia': 3094, 'chapter': 3095, 'flower': 3096, 'judi': 3097, 'ken': 3098, 'recov': 3099, 'increas': 3100, 'seduc': 3101, 'cameron': 3102, 'mann': 3103, 'prize': 3104, 'distant': 3105, 'beaten': 3106, 'dave': 3107, 'jar': 3108, 'cagney': 3109, 'lou': 3110, 'blob': 3111, 'craven': 3112, 'panic': 3113, 'psychot': 3114, 'francisco': 3115, 'splendid': 3116, 'turner': 3117, 'ellen': 3118, 'hop': 3119, 'goldberg': 3120, 'combat': 3121, 'craig': 3122, 'eleg': 3123, 'drunken': 3124, 'glenn': 3125, 'favour': 3126, 'laurel': 3127, 'ranger': 3128, 'web': 3129, 'perri': 3130, 'fx': 3131, 'hatr': 3132, 'min': 3133, 'slightest': 3134, 'graduat': 3135, 'wizard': 3136, 'falk': 3137, '20th': 3138, 'flip': 3139, 'greek': 3140, 'plausibl': 3141, 'gentl': 3142, 'shortli': 3143, 'philosophi': 3144, 'gandhi': 3145, 'alexand': 3146, 'modesti': 3147, 'ruth': 3148, 'rid': 3149, 'we': 3150, 'lend': 3151, 'holi': 3152, 'jealou': 3153, 'harm': 3154, 'futurist': 3155, 'preciou': 3156, 'fund': 3157, 'ocean': 3158, 'legal': 3159, 'unpleas': 3160, 'tall': 3161, 'manhattan': 3162, 'knight': 3163, 'dracula': 3164, 'felix': 3165, 'bless': 3166, 'overdon': 3167, 'explicit': 3168, 'thread': 3169, 'nod': 3170, 'scientif': 3171, 'mock': 3172, 'tank': 3173, 'digniti': 3174, 'ami': 3175, 'giallo': 3176, 'reviv': 3177, 'forbidden': 3178, 'childish': 3179, '99': 3180, 'thick': 3181, 'nerv': 3182, 'elderli': 3183, 'margaret': 3184, 'eve': 3185, 'awaken': 3186, 'mel': 3187, '2004': 3188, 'torment': 3189, 'repeatedli': 3190, 'yesterday': 3191, 'awe': 3192, 'pirat': 3193, 'verhoeven': 3194, 'fever': 3195, 'unwatch': 3196, 'broad': 3197, 'lean': 3198, 'publish': 3199, 'kay': 3200, 'uniform': 3201, 'timothi': 3202, 'romero': 3203, 'royal': 3204, 'eas': 3205, 'roman': 3206, 'automat': 3207, 'ambit': 3208, 'custom': 3209, 'stiller': 3210, 'acclaim': 3211, 'ah': 3212, 'bin': 3213, 'griffith': 3214, 'absenc': 3215, 'rivet': 3216, 'launch': 3217, 'politician': 3218, 'sunshin': 3219, 'transport': 3220, 'bathroom': 3221, 'purpl': 3222, 'antic': 3223, 'warren': 3224, 'crook': 3225, 'termin': 3226, 'phrase': 3227, 'darker': 3228, 'homicid': 3229, 'pierc': 3230, 'pulp': 3231, 'stinker': 3232, 'tomato': 3233, 'gabriel': 3234, 'foul': 3235, 'wallac': 3236, '2003': 3237, 'pray': 3238, 'revolutionari': 3239, 'q': 3240, 'packag': 3241, 'juvenil': 3242, 'awak': 3243, 'marin': 3244, 'choreographi': 3245, 'kenneth': 3246, 'contrari': 3247, 'evolv': 3248, 'donna': 3249, 'li': 3250, 'coloni': 3251, 'album': 3252, 'karen': 3253, 'hollow': 3254, 'rambo': 3255, 'horrid': 3256, 'sixti': 3257, 'brazil': 3258, 'saint': 3259, 'eyr': 3260, 'viciou': 3261, 'ought': 3262, 'prom': 3263, 'conserv': 3264, 'beatti': 3265, 'nerd': 3266, 'mummi': 3267, 'blade': 3268, 'boast': 3269, 'overr': 3270, 'stole': 3271, 'defi': 3272, 'twelv': 3273, 'kapoor': 3274, 'option': 3275, 'dose': 3276, 'ramon': 3277, 'candid': 3278, 'ireland': 3279, 'mildr': 3280, 'confirm': 3281, 'fulci': 3282, 'jazz': 3283, 'astonish': 3284, 'global': 3285, 'collabor': 3286, 'altman': 3287, 'protest': 3288, 'flame': 3289, 'funer': 3290, 'trio': 3291, 'kirk': 3292, 'natali': 3293, 'detract': 3294, 'spit': 3295, 'tommi': 3296, 'mystic': 3297, 'bull': 3298, 'leap': 3299, 'destini': 3300, 'delici': 3301, 'yellow': 3302, 'nicholson': 3303, 'blake': 3304, 'enterpris': 3305, 'shade': 3306, 'racial': 3307, 'bottl': 3308, 'whip': 3309, 'audio': 3310, 'popcorn': 3311, 'todd': 3312, 'adolesc': 3313, 'pseudo': 3314, 'vivid': 3315, 'altogeth': 3316, 'enchant': 3317, 'meaningless': 3318, 'threw': 3319, 'neo': 3320, 'bedroom': 3321, 'merci': 3322, 'reunit': 3323, 'harder': 3324, 'swedish': 3325, 'staff': 3326, 'visibl': 3327, 'inherit': 3328, 'fonda': 3329, 'suspici': 3330, 'decor': 3331, 'befriend': 3332, 'uneven': 3333, 'ruthless': 3334, 'madonna': 3335, 'respond': 3336, 'voight': 3337, 'reserv': 3338, 'await': 3339, 'kennedi': 3340, 'lawrenc': 3341, 'exhibit': 3342, 'bust': 3343, 'lemmon': 3344, 'tip': 3345, 'jew': 3346, 'fanat': 3347, 'edi': 3348, 'roommat': 3349, 'moodi': 3350, 'wire': 3351, 'atlanti': 3352, 'synopsi': 3353, 'leonard': 3354, 'crocodil': 3355, 'unsettl': 3356, 'ventur': 3357, 'clumsi': 3358, 'carl': 3359, 'centr': 3360, 'clint': 3361, 'rural': 3362, 'palma': 3363, 'bradi': 3364, '2007': 3365, 'dimens': 3366, 'incident': 3367, 'bargain': 3368, 'abysm': 3369, 'garner': 3370, 'voyag': 3371, 'chao': 3372, 'audit': 3373, 'bold': 3374, 'holli': 3375, 'wealth': 3376, 'elimin': 3377, 'trail': 3378, 'cd': 3379, 'hart': 3380, 'tiger': 3381, 'imperson': 3382, 'echo': 3383, 'poetic': 3384, 'neglect': 3385, 'mall': 3386, 'nearbi': 3387, 'acknowledg': 3388, 'lit': 3389, 'cuba': 3390, 'characterist': 3391, 'cari': 3392, 'troop': 3393, 'versu': 3394, 'immigr': 3395, '2nd': 3396, 'humili': 3397, 'daddi': 3398, 'timon': 3399, 'ant': 3400, 'infect': 3401, 'paus': 3402, 'pun': 3403, 'domest': 3404, 'repuls': 3405, 'collaps': 3406, 'jeffrey': 3407, 'prejudic': 3408, 'saga': 3409, 'celluloid': 3410, 'solo': 3411, 'marshal': 3412, 'mistaken': 3413, 'homer': 3414, 'mickey': 3415, 'chest': 3416, 'cake': 3417, 'sore': 3418, 'inan': 3419, 'gear': 3420, 'inappropri': 3421, 'coat': 3422, 'harvey': 3423, 'assembl': 3424, 'apolog': 3425, 'olivi': 3426, '1996': 3427, 'tribe': 3428, 'undoubtedli': 3429, 'milk': 3430, 'coffe': 3431, 'leon': 3432, 'promin': 3433, 'hbo': 3434, 'pant': 3435, 'equip': 3436, 'interrupt': 3437, 'ginger': 3438, 'consum': 3439, 'aveng': 3440, 'exot': 3441, 'retain': 3442, 'colleagu': 3443, 'primari': 3444, 'brooklyn': 3445, 'polanski': 3446, 'maggi': 3447, 'pen': 3448, 'furthermor': 3449, 'vulgar': 3450, 'instant': 3451, 'devast': 3452, 'highest': 3453, 'florida': 3454, 'humbl': 3455, 'trace': 3456, 'colonel': 3457, 'embrac': 3458, 'institut': 3459, 'airplan': 3460, 'jenni': 3461, 'pot': 3462, 'solut': 3463, 'poke': 3464, 'godzilla': 3465, 'illog': 3466, 'ya': 3467, 'strain': 3468, 'cope': 3469, 'principl': 3470, 'dian': 3471, 'linda': 3472, 'rick': 3473, '1999': 3474, 'outer': 3475, 'bowl': 3476, '3rd': 3477, 'descend': 3478, 'dutch': 3479, 'sale': 3480, 'disabl': 3481, 'seduct': 3482, 'smaller': 3483, 'wive': 3484, 'gender': 3485, 'bubbl': 3486, 'blatant': 3487, 'mixtur': 3488, 'hal': 3489, 'cue': 3490, 'secondli': 3491, 'devoid': 3492, 'rabbit': 3493, 'vast': 3494, 'lol': 3495, 'dud': 3496, 'predecessor': 3497, 'yard': 3498, 'glamor': 3499, 'scope': 3500, 'inferior': 3501, 'primarili': 3502, 'dive': 3503, 'gloriou': 3504, 'beneath': 3505, 'gundam': 3506, 'shelf': 3507, 'alert': 3508, 'senseless': 3509, 'z': 3510, 'shirley': 3511, 'trademark': 3512, 'garbo': 3513, 'alfr': 3514, 'aggress': 3515, 'countrysid': 3516, 'domino': 3517, 'invas': 3518, 'et': 3519, 'museum': 3520, 'disjoint': 3521, 'hideou': 3522, 'breed': 3523, 'talki': 3524, 'arab': 3525, 'myer': 3526, 'pearl': 3527, 'april': 3528, 'streep': 3529, 'simplist': 3530, 'grinch': 3531, 'casual': 3532, 'stack': 3533, 'boom': 3534, 'stir': 3535, 'experiment': 3536, 'rendit': 3537, 'vanish': 3538, 'mail': 3539, 'hopeless': 3540, 'slide': 3541, 'oz': 3542, 'defens': 3543, 'loyal': 3544, 'acid': 3545, 'khan': 3546, 'applaud': 3547, 'obtain': 3548, 'illeg': 3549, 'robinson': 3550, 'disgrac': 3551, 'sh': 3552, 'hardcor': 3553, 'uwe': 3554, 'robberi': 3555, 'mayor': 3556, 'maci': 3557, 'stellar': 3558, 'unhappi': 3559, 'counter': 3560, 'craze': 3561, 'span': 3562, 'declin': 3563, 'hartley': 3564, 'diana': 3565, 'spider': 3566, 'emphasi': 3567, 'tenant': 3568, 'wont': 3569, 'topless': 3570, 'scroog': 3571, 'incomprehens': 3572, 'psychic': 3573, 'rifl': 3574, 'soccer': 3575, 'dismiss': 3576, 'dicken': 3577, 'fri': 3578, 'blew': 3579, 'berlin': 3580, 'amanda': 3581, 'grandfath': 3582, 'recruit': 3583, 'tempt': 3584, 'shed': 3585, 'faster': 3586, 'resurrect': 3587, 'wet': 3588, 'parad': 3589, 'trashi': 3590, 'sympath': 3591, 'bitch': 3592, 'woo': 3593, 'sibl': 3594, 'goer': 3595, 'ethnic': 3596, 'niro': 3597, 'porno': 3598, 'justin': 3599, 'revolt': 3600, 'intim': 3601, 'riot': 3602, 'shaw': 3603, 'lumet': 3604, 'ration': 3605, 'immort': 3606, 'lena': 3607, 'partial': 3608, 'unreal': 3609, 'region': 3610, 'patriot': 3611, 'weakest': 3612, 'wheel': 3613, 'wendi': 3614, 'honesti': 3615, 'farmer': 3616, 'slick': 3617, 'commend': 3618, 'biographi': 3619, 'jonathan': 3620, 'enlighten': 3621, 'dealer': 3622, 'gap': 3623, 'eager': 3624, 'nephew': 3625, 'andr': 3626, 'feminist': 3627, 'ballet': 3628, 'ensur': 3629, 'worm': 3630, 'mario': 3631, 'hopper': 3632, 'choru': 3633, 'steam': 3634, 'hesit': 3635, '00': 3636, 'rider': 3637, 'similarli': 3638, 'util': 3639, 'hung': 3640, 'sappi': 3641, 'owen': 3642, 'confin': 3643, 'charlott': 3644, 'kingdom': 3645, 'vice': 3646, 'blunt': 3647, 'franco': 3648, 'skull': 3649, 'repress': 3650, 'properti': 3651, 'sandra': 3652, 'nostalg': 3653, 'prequel': 3654, 'psychopath': 3655, 'victori': 3656, 'leo': 3657, 'wore': 3658, 'composit': 3659, 'snap': 3660, 'macarthur': 3661, 'safeti': 3662, 'mutant': 3663, 'morri': 3664, 'dust': 3665, 'del': 3666, 'rocki': 3667, 'dalton': 3668, 'rambl': 3669, 'recycl': 3670, 'snl': 3671, 'hyde': 3672, 'whoopi': 3673, '1972': 3674, 'thru': 3675, 'strand': 3676, 'bergman': 3677, 'nervou': 3678, 'tail': 3679, 'acquir': 3680, 'rope': 3681, 'farrel': 3682, 'despair': 3683, 'bumbl': 3684, 'tad': 3685, 'miseri': 3686, 'cg': 3687, 'pattern': 3688, 'bonu': 3689, 'heartbreak': 3690, 'latin': 3691, 'valuabl': 3692, 'deed': 3693, 'drum': 3694, 'exit': 3695, 'compass': 3696, 'repli': 3697, 'drain': 3698, 'campbel': 3699, 'compens': 3700, 'bow': 3701, 'montana': 3702, 'emperor': 3703, 'speci': 3704, 'kyle': 3705, 'mistress': 3706, 'rotten': 3707, 'da': 3708, 'romp': 3709, 'rapist': 3710, 'orson': 3711, 'pour': 3712, 'wacki': 3713, 'chess': 3714, 'gal': 3715, 'slug': 3716, 'martian': 3717, 'airport': 3718, 'radic': 3719, 'downhil': 3720, 'tonight': 3721, 'roth': 3722, 'oppress': 3723, '35': 3724, 'gimmick': 3725, 'contempl': 3726, 'percept': 3727, 'olli': 3728, 'bleed': 3729, 'carradin': 3730, 'arguabl': 3731, 'taught': 3732, 'banal': 3733, 'programm': 3734, 'shelley': 3735, 'unpredict': 3736, 'mislead': 3737, 'slash': 3738, 'arc': 3739, 'belt': 3740, 'pervers': 3741, '1983': 3742, 'pervert': 3743, 'preach': 3744, 'melodi': 3745, 'pursuit': 3746, 'tooth': 3747, 'dazzl': 3748, 'tackl': 3749, 'champion': 3750, 'paltrow': 3751, 'heal': 3752, 'stilt': 3753, 'attorney': 3754, 'edgar': 3755, 'maid': 3756, 'chicken': 3757, 'passeng': 3758, 'mesmer': 3759, 'tiresom': 3760, 'gambl': 3761, 'poem': 3762, 'franki': 3763, 'employe': 3764, 'plight': 3765, 'vengeanc': 3766, 'uplift': 3767, 'graham': 3768, 'cleverli': 3769, 'closest': 3770, 'vocal': 3771, 'conneri': 3772, 'rubi': 3773, 'dixon': 3774, 'sensat': 3775, 'orang': 3776, 'duval': 3777, 'bela': 3778, 'raymond': 3779, 'virginia': 3780, 'marti': 3781, 'sirk': 3782, 'inject': 3783, 'whine': 3784, 'paranoia': 3785, 'bay': 3786, 'profan': 3787, 'numb': 3788, 'volum': 3789, 'climact': 3790, 'calm': 3791, 'secretli': 3792, 'engross': 3793, 'crystal': 3794, 'tube': 3795, 'habit': 3796, 'giggl': 3797, 'monologu': 3798, 'extens': 3799, 'mute': 3800, 'outing': 3801, 'gerard': 3802, 'suffic': 3803, 'amitabh': 3804, 'iran': 3805, 'convincingli': 3806, 'clone': 3807, 'scottish': 3808, '1968': 3809, 'swallow': 3810, 'lundgren': 3811, 'pokemon': 3812, 'abraham': 3813, 'yawn': 3814, 'quarter': 3815, 'underst': 3816, 'surpass': 3817, 'poetri': 3818, 'meander': 3819, 'chicago': 3820, 'frankenstein': 3821, 'lowest': 3822, 'richardson': 3823, 'septemb': 3824, 'dispos': 3825, 'ethan': 3826, 'bend': 3827, 'grotesqu': 3828, 'fed': 3829, 'earl': 3830, 'im': 3831, 'backward': 3832, 'junior': 3833, 'abort': 3834, 'franci': 3835, 'expand': 3836, 'taxi': 3837, 'austen': 3838, 'linger': 3839, 'nichola': 3840, 'spock': 3841, 'trend': 3842, 'plod': 3843, 'profess': 3844, 'dysfunct': 3845, 'rant': 3846, 'der': 3847, 'eugen': 3848, 'spoke': 3849, 'compliment': 3850, 'cannon': 3851, 'tourist': 3852, 'stallon': 3853, 'catchi': 3854, 'literatur': 3855, 'household': 3856, 'hum': 3857, 'mundan': 3858, 'rubber': 3859, 'econom': 3860, 'lure': 3861, 'waitress': 3862, 'myth': 3863, 'instrument': 3864, 'muddl': 3865, 'simplic': 3866, 'descent': 3867, 'greedi': 3868, 'nostalgia': 3869, 'sue': 3870, 'bacal': 3871, 'hello': 3872, 'firstli': 3873, 'dictat': 3874, 'furi': 3875, 'equival': 3876, 'stale': 3877, 'sissi': 3878, 'map': 3879, 'cent': 3880, 'eaten': 3881, 'flee': 3882, 'recognit': 3883, 'coast': 3884, 'dement': 3885, 'june': 3886, 'lang': 3887, 'recognis': 3888, 'crucial': 3889, 'phantom': 3890, 'damon': 3891, 'alongsid': 3892, 'molli': 3893, 'louis': 3894, 'phoni': 3895, 'occupi': 3896, 'randi': 3897, 'carel': 3898, 'insur': 3899, 'irrelev': 3900, 'mankind': 3901, 'mortal': 3902, 'duck': 3903, 'omen': 3904, 'deaf': 3905, 'onlin': 3906, 'bump': 3907, 'rude': 3908, 'blackmail': 3909, 'freez': 3910, 'distinguish': 3911, 'daisi': 3912, 'loyalti': 3913, 'dreari': 3914, 'rooney': 3915, 'heel': 3916, 'antwon': 3917, 'wisdom': 3918, 'bike': 3919, 'drake': 3920, 'lengthi': 3921, 'biko': 3922, 'ashley': 3923, 'damm': 3924, 'newli': 3925, 'labor': 3926, '1973': 3927, 'likewis': 3928, 'grayson': 3929, 'twilight': 3930, 'buffalo': 3931, 'reign': 3932, 'cyborg': 3933, 'proce': 3934, 'ridden': 3935, 'approv': 3936, 'baddi': 3937, 'prey': 3938, 'barrymor': 3939, 'pink': 3940, 'inher': 3941, 'tunnel': 3942, 'unorigin': 3943, 'vein': 3944, 'nineti': 3945, 'interior': 3946, 'provoc': 3947, 'exposur': 3948, 'keith': 3949, 'attribut': 3950, 'incorpor': 3951, 'analysi': 3952, 'boxer': 3953, 'chronicl': 3954, 'startl': 3955, 'butler': 3956, 'basketbal': 3957, 'sailor': 3958, 'emphas': 3959, 'worn': 3960, 'underli': 3961, 'meyer': 3962, 'elm': 3963, 'substitut': 3964, 'indiffer': 3965, 'barrel': 3966, 'othello': 3967, 'unrel': 3968, 'stalker': 3969, 'belushi': 3970, 'nicol': 3971, 'undeni': 3972, 'julian': 3973, 'bunni': 3974, 'condemn': 3975, 'millionair': 3976, 'predat': 3977, 'robbin': 3978, 'degrad': 3979, 'drift': 3980, 'mormon': 3981, 'er': 3982, 'fleet': 3983, 'simmon': 3984, 'hypnot': 3985, 'meg': 3986, 'improvis': 3987, 'mighti': 3988, 'walsh': 3989, 'carla': 3990, 'hay': 3991, 'alison': 3992, 'lampoon': 3993, 'shove': 3994, 'vital': 3995, 'agenda': 3996, 'novak': 3997, 'warmth': 3998, 'priceless': 3999, 'palac': 4000, 'mtv': 4001, 'edgi': 4002, 'enthusiasm': 4003, 'roof': 4004, 'disord': 4005, '3d': 4006, 'greed': 4007, 'marion': 4008, 'unawar': 4009, 'reid': 4010, 'alarm': 4011, 'firm': 4012, 'nyc': 4013, 'rukh': 4014, 'dolph': 4015, 'watson': 4016, 'errol': 4017, 'exquisit': 4018, 'peck': 4019, 'orlean': 4020, 'ponder': 4021, 'spain': 4022, 'iraq': 4023, 'minimum': 4024, 'coup': 4025, 'profit': 4026, 'sergeant': 4027, 'petti': 4028, 'session': 4029, 'crown': 4030, 'thompson': 4031, 'randomli': 4032, 'peril': 4033, 'eastern': 4034, '13th': 4035, 'nun': 4036, 'drip': 4037, 'distort': 4038, 'cassidi': 4039, 'showdown': 4040, 'simultan': 4041, 'glanc': 4042, 'what': 4043, 'pamela': 4044, 'angela': 4045, 'israel': 4046, 'campaign': 4047, 'unleash': 4048, 'testament': 4049, 'preserv': 4050, 'valentin': 4051, '1933': 4052, 'gestur': 4053, 'championship': 4054, 'zizek': 4055, 'beatl': 4056, 'wig': 4057, 'climat': 4058, 'unimagin': 4059, 'stroke': 4060, 'miyazaki': 4061, 'calib': 4062, 'cooki': 4063, '1984': 4064, 'shootout': 4065, 'contradict': 4066, 'stake': 4067, 'buster': 4068, 'crow': 4069, 'regist': 4070, 'realm': 4071, 'jan': 4072, 'rout': 4073, 'gentleman': 4074, 'perpetu': 4075, 'crawl': 4076, 'restrain': 4077, 'quinn': 4078, 'empathi': 4079, 'travesti': 4080, 'valley': 4081, 'cream': 4082, 'reson': 4083, 'scotland': 4084, 'han': 4085, 'exposit': 4086, 'bro': 4087, 'brenda': 4088, 'fido': 4089, 'represent': 4090, 'din': 4091, 'kurosawa': 4092, 'sabrina': 4093, 'mon': 4094, 'spacey': 4095, 'derang': 4096, '1997': 4097, 'sammi': 4098, 'unseen': 4099, 'soderbergh': 4100, 'mclaglen': 4101, 'traumat': 4102, 'demis': 4103, 'censor': 4104, 'unsatisfi': 4105, 'absent': 4106, 'greg': 4107, 'fuller': 4108, 'delic': 4109, 'crawford': 4110, 'tacki': 4111, 'sucker': 4112, 'darren': 4113, 'josh': 4114, 'ross': 4115, 'shoddi': 4116, 'perceiv': 4117, 'geek': 4118, 'passabl': 4119, 'cloud': 4120, 'compromis': 4121, 'dana': 4122, 'femm': 4123, 'abomin': 4124, 'shaki': 4125, 'distress': 4126, 'painter': 4127, 'wax': 4128, 'meryl': 4129, '1987': 4130, 'warrant': 4131, 'baldwin': 4132, 'businessman': 4133, 'pretens': 4134, 'pole': 4135, 'monoton': 4136, 'stargat': 4137, 'ustinov': 4138, 'norm': 4139, '1993': 4140, 'exclus': 4141, 'tarantino': 4142, 'uncov': 4143, 'polici': 4144, 'sid': 4145, 'fog': 4146, 'judgment': 4147, 'dee': 4148, 'wholli': 4149, 'kumar': 4150, 'seal': 4151, 'anchor': 4152, 'accuraci': 4153, 'verbal': 4154, 'antonioni': 4155, 'austin': 4156, 'jewel': 4157, 'valid': 4158, 'primit': 4159, 'tech': 4160, 'clash': 4161, 'expedit': 4162, 'reluct': 4163, 'deceas': 4164, 'unravel': 4165, 'click': 4166, 'nathan': 4167, 'correctli': 4168, 'deniro': 4169, 'furiou': 4170, 'fenc': 4171, '2008': 4172, 'malon': 4173, 'alec': 4174, 'fart': 4175, 'patienc': 4176, 'bake': 4177, 'dreck': 4178, 'fabric': 4179, 'pocket': 4180, 'clerk': 4181, 'seldom': 4182, '1971': 4183, '1995': 4184, 'slam': 4185, 'unfair': 4186, 'shanghai': 4187, 'hallucin': 4188, 'trait': 4189, 'joel': 4190, 'temper': 4191, 'murray': 4192, 'enforc': 4193, 'mode': 4194, 'debt': 4195, 'sheet': 4196, 'nicola': 4197, 'sand': 4198, '3000': 4199, 'sustain': 4200, 'logan': 4201, 'vanc': 4202, 'wretch': 4203, 'behold': 4204, 'roller': 4205, 'ritual': 4206, 'wang': 4207, 'crippl': 4208, 'darn': 4209, 'conduct': 4210, 'tax': 4211, 'sunni': 4212, 'fought': 4213, 'technicolor': 4214, 'robber': 4215, 'canyon': 4216, 'phil': 4217, 'schedul': 4218, 'tactic': 4219, 'shell': 4220, 'runner': 4221, 'stark': 4222, 'clau': 4223, 'bias': 4224, 'scriptwrit': 4225, 'bridget': 4226, 'legaci': 4227, 'rita': 4228, 'grief': 4229, 'soup': 4230, 'preposter': 4231, 'helpless': 4232, 'critiqu': 4233, 'squad': 4234, 'fundament': 4235, 'divid': 4236, 'exhaust': 4237, 'isabel': 4238, 'guitar': 4239, 'outlin': 4240, 'sweep': 4241, 'preston': 4242, 'conscious': 4243, 'despis': 4244, 'penni': 4245, 'pete': 4246, 'stuart': 4247, 'palanc': 4248, 'restrict': 4249, 'cigarett': 4250, 'bloom': 4251, 'marc': 4252, 'vomit': 4253, 'jodi': 4254, 'lacklust': 4255, 'delv': 4256, 'culmin': 4257, 'invad': 4258, 'sniper': 4259, 'drove': 4260, 'jacket': 4261, 'inabl': 4262, 'sentinel': 4263, 'newman': 4264, 'unexpectedli': 4265, 'downey': 4266, 'alicia': 4267, 'passag': 4268, 'alley': 4269, 'flair': 4270, 'kansa': 4271, 'rehash': 4272, 'rear': 4273, 'connor': 4274, 'liberti': 4275, 'agenc': 4276, 'propos': 4277, 'boyl': 4278, 'sugar': 4279, 'consciou': 4280, 'implic': 4281, 'russia': 4282, 'gregori': 4283, 'lush': 4284, '22': 4285, 'chainsaw': 4286, 'rampag': 4287, 'yeti': 4288, 'tripe': 4289, 'kolchak': 4290, 'cap': 4291, 'delet': 4292, 'wrench': 4293, 'pale': 4294, 'karl': 4295, 'mccoy': 4296, 'awhil': 4297, 'feat': 4298, 'rod': 4299, 'asylum': 4300, 'arrow': 4301, '1936': 4302, 'behaviour': 4303, 'horn': 4304, 'bacon': 4305, 'rehears': 4306, 'improb': 4307, 'foxx': 4308, 'vet': 4309, 'tendenc': 4310, 'ladder': 4311, 'sharon': 4312, 'aesthet': 4313, 'rumor': 4314, 'paradis': 4315, 'hulk': 4316, 'newcom': 4317, '1978': 4318, 'globe': 4319, 'tasteless': 4320, 'hungri': 4321, 'stream': 4322, 'basing': 4323, 'weav': 4324, 'elit': 4325, 'aristocrat': 4326, 'shortcom': 4327, 'amazon': 4328, 'paramount': 4329, '1988': 4330, 'rhythm': 4331, 'tomorrow': 4332, 'prank': 4333, 'loneli': 4334, 'minu': 4335, 'filler': 4336, 'financ': 4337, 'suffici': 4338, 'lurk': 4339, 'spice': 4340, 'wagner': 4341, 'sung': 4342, 'thunderbird': 4343, 'wildli': 4344, 'coaster': 4345, 'suspicion': 4346, 'visitor': 4347, 'fright': 4348, 'hackney': 4349, 'scoop': 4350, 'el': 4351, '19th': 4352, 'conscienc': 4353, 'underneath': 4354, '1920': 4355, 'hopkin': 4356, 'posey': 4357, 'ingeni': 4358, 'brit': 4359, 'bread': 4360, 'heist': 4361, 'smell': 4362, 'standout': 4363, 'worship': 4364, '1939': 4365, 'secondari': 4366, 'en': 4367, 'chavez': 4368, 'impos': 4369, 'atroc': 4370, 'leigh': 4371, 'beverli': 4372, 'entranc': 4373, 'choppi': 4374, 'cancer': 4375, 'lectur': 4376, 'paxton': 4377, 'dirt': 4378, 'literari': 4379, 'iv': 4380, 'minist': 4381, 'counterpart': 4382, 'rub': 4383, 'couch': 4384, 'penn': 4385, 'ram': 4386, 'teas': 4387, 'straightforward': 4388, 'quietli': 4389, '1989': 4390, 'immers': 4391, 'abrupt': 4392, 'inmat': 4393, 'grudg': 4394, 'recogniz': 4395, 'naughti': 4396, '75': 4397, 'curli': 4398, 'wwe': 4399, 'chamberlain': 4400, 'springer': 4401, 'tierney': 4402, 'variat': 4403, 'injuri': 4404, 'convert': 4405, 'moreov': 4406, 'ace': 4407, 'misguid': 4408, 'heartfelt': 4409, 'transcend': 4410, 'duel': 4411, 'laurenc': 4412, 'enthral': 4413, 'sassi': 4414, '1986': 4415, 'entitl': 4416, 'policeman': 4417, 'attenborough': 4418, 'esther': 4419, 'yearn': 4420, 'skeptic': 4421, 'sublim': 4422, 'net': 4423, 'morbid': 4424, 'nemesi': 4425, 'geni': 4426, 'bernard': 4427, 'cattl': 4428, 'clan': 4429, 'missil': 4430, 'quaid': 4431, 'watcher': 4432, 'lindsay': 4433, 'nolan': 4434, 'ratso': 4435, '1979': 4436, 'dont': 4437, 'reliabl': 4438, 'brood': 4439, 'steadi': 4440, 'obstacl': 4441, 'unexplain': 4442, 'graini': 4443, 'artsi': 4444, 'hopelessli': 4445, 'characteris': 4446, 'bye': 4447, 'uncut': 4448, 'diari': 4449, 'mytholog': 4450, 'cruelti': 4451, 'tyler': 4452, 'egg': 4453, 'enabl': 4454, 'puppi': 4455, 'grin': 4456, 'facil': 4457, 'carlito': 4458, 'moder': 4459, 'youngest': 4460, 'buzz': 4461, 'out': 4462, 'hk': 4463, 'vader': 4464, 'spiral': 4465, 'setup': 4466, 'kitti': 4467, 'bean': 4468, 'kidman': 4469, 'rosemari': 4470, 'poe': 4471, 'fuel': 4472, 'oblig': 4473, 'disastr': 4474, 'spontan': 4475, 'underworld': 4476, 'baffl': 4477, '1969': 4478, 'patricia': 4479, 'exterior': 4480, 'heap': 4481, 'narrow': 4482, 'kline': 4483, 'clueless': 4484, 'weather': 4485, 'bounc': 4486, 'sweat': 4487, 'athlet': 4488, 'despic': 4489, 'gina': 4490, 'hain': 4491, 'acquaint': 4492, 'christin': 4493, 'niec': 4494, 'decept': 4495, 'hammi': 4496, 'effici': 4497, 'gillian': 4498, 'bronson': 4499, 'bewar': 4500, 'martha': 4501, 'brendan': 4502, 'preming': 4503, 'tick': 4504, '19': 4505, 'outlaw': 4506, 'preachi': 4507, 'housewif': 4508, 'uh': 4509, 'angst': 4510, 'shatter': 4511, 'suprem': 4512, 'injur': 4513, 'analyz': 4514, 'rome': 4515, 'astound': 4516, 'hepburn': 4517, 'enlist': 4518, 'viewpoint': 4519, 'biker': 4520, 'sooner': 4521, 'sleepwalk': 4522, 'goof': 4523, 'trigger': 4524, '73': 4525, 'dandi': 4526, 'headach': 4527, 'fontain': 4528, 'taboo': 4529, 'insipid': 4530, 'candl': 4531, 'mermaid': 4532, 'lester': 4533, 'renaiss': 4534, 'mayhem': 4535, 'loi': 4536, 'scar': 4537, 'loath': 4538, 'virtu': 4539, 'harmless': 4540, 'dilemma': 4541, 'circu': 4542, 'whore': 4543, 'claustrophob': 4544, 'guin': 4545, 'foolish': 4546, 'tripl': 4547, 'steer': 4548, 'dish': 4549, 'hostag': 4550, 'immatur': 4551, 'oldest': 4552, 'hokey': 4553, 'sox': 4554, 'stair': 4555, 'idol': 4556, 'ebert': 4557, 'amor': 4558, 'filth': 4559, 'intric': 4560, 'camcord': 4561, 'redund': 4562, 'hooker': 4563, 'bent': 4564, 'glorifi': 4565, 'zoom': 4566, 'stimul': 4567, 'overlong': 4568, 'surgeri': 4569, 'cassavet': 4570, 'gere': 4571, 'dismal': 4572, 'boston': 4573, 'phenomenon': 4574, 'macho': 4575, 'salt': 4576, 'fluff': 4577, 'corbett': 4578, 'contempt': 4579, 'scorses': 4580, 'slimi': 4581, 'spade': 4582, 'ariel': 4583, 'beard': 4584, 'cow': 4585, 'flirt': 4586, 'harold': 4587, 'obligatori': 4588, 'trivia': 4589, 'shield': 4590, 'alvin': 4591, 'antagonist': 4592, 'mutual': 4593, 'conquer': 4594, 'gasp': 4595, 'proport': 4596, 'assert': 4597, 'widescreen': 4598, 'margin': 4599, 'joker': 4600, 'schlock': 4601, '1981': 4602, 'perman': 4603, 'radiat': 4604, 'astronaut': 4605, 'faint': 4606, 'cush': 4607, 'down': 4608, '1976': 4609, 'spree': 4610, 'flashi': 4611, 'messi': 4612, 'nolt': 4613, 'muscl': 4614, 'gabl': 4615, 'dwarf': 4616, 'zane': 4617, 'frantic': 4618, 'remad': 4619, 'strongest': 4620, 'fascist': 4621, 'rhyme': 4622, 'transplant': 4623, 'spinal': 4624, 'keen': 4625, 'mount': 4626, 'corman': 4627, 'cohen': 4628, 'shred': 4629, 'flag': 4630, 'preced': 4631, 'naschi': 4632, 'flock': 4633, 'bitten': 4634, 'instruct': 4635, 'bachelor': 4636, 'departur': 4637, '28': 4638, 'archiv': 4639, 'wield': 4640, 'brush': 4641, 'raj': 4642, 'persuad': 4643, 'discern': 4644, 'fishburn': 4645, 'someday': 4646, 'strive': 4647, 'repris': 4648, 'ritchi': 4649, 'scandal': 4650, 'interestingli': 4651, 'claud': 4652, 'barn': 4653, 'danish': 4654, 'vaniti': 4655, 'boob': 4656, 'neurot': 4657, 'aborigin': 4658, 'off': 4659, 'sensual': 4660, '95': 4661, 'www': 4662, 'resum': 4663, 'mobil': 4664, 'hara': 4665, 'deer': 4666, 'info': 4667, 'triangl': 4668, '1945': 4669, 'inflict': 4670, 'divin': 4671, 'carey': 4672, 'mol': 4673, 'cb': 4674, 'casino': 4675, 'clad': 4676, 'cycl': 4677, 'prophet': 4678, 'miracul': 4679, 'heartwarm': 4680, 'carlo': 4681, 'dim': 4682, 'vibrant': 4683, 'luka': 4684, 'earnest': 4685, 'biblic': 4686, 'traffic': 4687, 'pixar': 4688, 'senior': 4689, 'fragil': 4690, 'pacif': 4691, 'recit': 4692, 'mobster': 4693, 'hapless': 4694, 'colin': 4695, 'helm': 4696, 'parson': 4697, 'undermin': 4698, 'artwork': 4699, 'banter': 4700, 'proclaim': 4701, 'hilar': 4702, 'timberlak': 4703, 'europa': 4704, 'frontier': 4705, 'anton': 4706, 'harrison': 4707, 'neill': 4708, 'axe': 4709, 'bate': 4710, 'jade': 4711, 'rot': 4712, 'submit': 4713, 'dylan': 4714, 'kathryn': 4715, 'ish': 4716, 'melissa': 4717, 'wendigo': 4718, 'dame': 4719, 'hug': 4720, 'cliffhang': 4721, 'cher': 4722, 'loretta': 4723, 'pickford': 4724, 'flavor': 4725, 'wardrob': 4726, 'jo': 4727, 'token': 4728, 'nope': 4729, 'antholog': 4730, 'static': 4731, 'northern': 4732, 'isra': 4733, 'http': 4734, 'articl': 4735, 'electron': 4736, 'feast': 4737, 'toronto': 4738, 'aris': 4739, 'redneck': 4740, 'seedi': 4741, 'eli': 4742, 'cerebr': 4743, 'illus': 4744, 'akin': 4745, 'winchest': 4746, 'jordan': 4747, 'choke': 4748, 'vile': 4749, 'mason': 4750, 'bondag': 4751, 'breakfast': 4752, 'trier': 4753, 'misfortun': 4754, 'rooki': 4755, 'foil': 4756, 'estrang': 4757, 'shepherd': 4758, 'lucil': 4759, 'sicken': 4760, 'orphan': 4761, 'pc': 4762, 'blatantli': 4763, 'legitim': 4764, 'vanessa': 4765, 'uma': 4766, 'bikini': 4767, 'lui': 4768, 'milo': 4769, 'alexandr': 4770, 'marlon': 4771, 'razor': 4772, 'venom': 4773, 'holocaust': 4774, 'mathieu': 4775, 'howl': 4776, 'turd': 4777, 'frog': 4778, 'charlton': 4779, 'styliz': 4780, 'ideolog': 4781, 'fifth': 4782, 'magician': 4783, 'swept': 4784, 'audrey': 4785, 'shorter': 4786, 'psych': 4787, 'knightley': 4788, 'abund': 4789, 'tack': 4790, 'smack': 4791, 'deem': 4792, 'gilbert': 4793, 'disregard': 4794, 'linear': 4795, 'outdat': 4796, 'comprehend': 4797, 'peer': 4798, 'affleck': 4799, 'boyer': 4800, 'retriev': 4801, 'cartoonish': 4802, 'clinic': 4803, 'wrestler': 4804, 'dudley': 4805, 'glare': 4806, 'oppon': 4807, 'ceremoni': 4808, 'nightclub': 4809, 'highway': 4810, 'gunga': 4811, 'leather': 4812, 'huston': 4813, 'feminin': 4814, 'lighter': 4815, 'monument': 4816, 'spine': 4817, 'greet': 4818, 'lifeless': 4819, 'collector': 4820, 'breakdown': 4821, '1991': 4822, 'sleaz': 4823, 'bastard': 4824, 'bogu': 4825, 'whack': 4826, 'energet': 4827, '4th': 4828, 'conrad': 4829, 'lavish': 4830, 'cuban': 4831, 'snatch': 4832, 'newer': 4833, 'toe': 4834, 'tara': 4835, 'boo': 4836, 'compris': 4837, 'summar': 4838, 'phenomen': 4839, 'spawn': 4840, 'btw': 4841, 'cemeteri': 4842, '1994': 4843, 'uniformli': 4844, 'client': 4845, 'salman': 4846, 'corn': 4847, 'plate': 4848, 'durat': 4849, 'potter': 4850, 'moe': 4851, 'senat': 4852, 'goldsworthi': 4853, 'chip': 4854, 'evolut': 4855, 'deliver': 4856, 'braveheart': 4857, 'einstein': 4858, 'mitch': 4859, 'ie': 4860, 'luxuri': 4861, 'wtf': 4862, 'spectacl': 4863, '1974': 4864, 'eleven': 4865, 'constitut': 4866, 'creek': 4867, 'inaccuraci': 4868, 'replay': 4869, 'historian': 4870, 'judd': 4871, 'trauma': 4872, 'bulk': 4873, '1977': 4874, 'appl': 4875, 'jule': 4876, 'embark': 4877, 'healthi': 4878, 'belli': 4879, 'armstrong': 4880, 'jam': 4881, 'cecil': 4882, 'undead': 4883, 'neatli': 4884, 'kent': 4885, 'lex': 4886, 'jare': 4887, 'clara': 4888, 'pronounc': 4889, 'randolph': 4890, 'bori': 4891, 'liu': 4892, 'jedi': 4893, 'outright': 4894, 'signal': 4895, 'occup': 4896, 'ol': 4897, 'fluid': 4898, 'sorrow': 4899, 'evelyn': 4900, 'undertak': 4901, 'nina': 4902, 'gilliam': 4903, 'capot': 4904, 'alleg': 4905, 'mcqueen': 4906, 'kazan': 4907, 'firmli': 4908, 'lauren': 4909, 'porter': 4910, 'vain': 4911, 'aussi': 4912, 'miami': 4913, 'unattract': 4914, 'groan': 4915, 'fruit': 4916, 'blur': 4917, 'vignett': 4918, 'goldblum': 4919, 'galaxi': 4920, 'inaccur': 4921, 'pioneer': 4922, 'paula': 4923, 'comprehens': 4924, 'pepper': 4925, 'propheci': 4926, '1985': 4927, 'mum': 4928, 'id': 4929, 'roar': 4930, 'lanc': 4931, 'congratul': 4932, 'unsuspect': 4933, 'cape': 4934, 'spray': 4935, 'curtain': 4936, 'bait': 4937, 'carmen': 4938, 'genet': 4939, 'inclus': 4940, 'walt': 4941, 'ash': 4942, 'antonio': 4943, 'sacrif': 4944, 'kiddi': 4945, 'meal': 4946, 'rosario': 4947, 'forgiven': 4948, 'tokyo': 4949, 'basket': 4950, 'conan': 4951, 'decapit': 4952, 'palm': 4953, 'subtli': 4954, 'knee': 4955, 'poker': 4956, 'truman': 4957, 'miniseri': 4958, 'comb': 4959, 'abound': 4960, 'relentless': 4961, 'bsg': 4962, 'sidewalk': 4963, 'scariest': 4964, 'hackman': 4965, 'macabr': 4966, 'incorrect': 4967, 'rapidli': 4968, 'sparkl': 4969, 'profil': 4970, 'spill': 4971, 'omin': 4972, 'weaker': 4973, 'weari': 4974, 'dubiou': 4975, 'assort': 4976, 'jill': 4977, 'optimist': 4978, 'motorcycl': 4979, 'drone': 4980, 'modest': 4981, 'epitom': 4982, 'verg': 4983, 'scarfac': 4984, 'mice': 4985, 'victorian': 4986, '21st': 4987, 'sophi': 4988, 'casper': 4989, 'detach': 4990, 'reincarn': 4991, 'bach': 4992, 'growth': 4993, 'hostil': 4994, 'monti': 4995, 'cypher': 4996, 'playboy': 4997, 'masterson': 4998, 'turtl': 4999}\n"
     ]
    }
   ],
   "source": [
    "word_dict = build_dict(train_X)\n",
    "print(word_dict)"
   ]
  },
  {
   "cell_type": "markdown",
   "metadata": {},
   "source": [
    "**Question:** What are the five most frequently appearing (tokenized) words in the training set? Does it makes sense that these words appear frequently in the training set?"
   ]
  },
  {
   "cell_type": "markdown",
   "metadata": {},
   "source": [
    "**Answer:**\n",
    "'movi', 'film', 'one', 'like', 'time'\n",
    "\n",
    "\"movi\" word appears 51695 times\n",
    "\n",
    "it doesn't make sence in training because 'movi', 'film', 'one', 'time' has no sentiment."
   ]
  },
  {
   "cell_type": "code",
   "execution_count": 18,
   "metadata": {},
   "outputs": [
    {
     "name": "stdout",
     "output_type": "stream",
     "text": [
      "['movi', 'film', 'one', 'like', 'time']\n",
      "51695\n"
     ]
    }
   ],
   "source": [
    "# TODO: Use this space to determine the five most frequently appearing words in the training set.\n",
    "word_counts = Counter(np.concatenate( train_X, axis=0 ))\n",
    "sorted_words = sorted(word_counts, key=word_counts.get, reverse=True)\n",
    "print(sorted_words[0:5])\n",
    "print(word_counts['movi'])"
   ]
  },
  {
   "cell_type": "markdown",
   "metadata": {},
   "source": [
    "### Save `word_dict`\n",
    "\n",
    "Later on when we construct an endpoint which processes a submitted review we will need to make use of the `word_dict` which we have created. As such, we will save it to a file now for future use."
   ]
  },
  {
   "cell_type": "code",
   "execution_count": 19,
   "metadata": {},
   "outputs": [],
   "source": [
    "data_dir = '../data/pytorch' # The folder we will use for storing data\n",
    "if not os.path.exists(data_dir): # Make sure that the folder exists\n",
    "    os.makedirs(data_dir)"
   ]
  },
  {
   "cell_type": "code",
   "execution_count": 20,
   "metadata": {},
   "outputs": [],
   "source": [
    "with open(os.path.join(data_dir, 'word_dict.pkl'), \"wb\") as f:\n",
    "    pickle.dump(word_dict, f)"
   ]
  },
  {
   "cell_type": "markdown",
   "metadata": {},
   "source": [
    "### Transform the reviews\n",
    "\n",
    "Now that we have our word dictionary which allows us to transform the words appearing in the reviews into integers, it is time to make use of it and convert our reviews to their integer sequence representation, making sure to pad or truncate to a fixed length, which in our case is `500`."
   ]
  },
  {
   "cell_type": "code",
   "execution_count": 21,
   "metadata": {},
   "outputs": [],
   "source": [
    "def convert_and_pad(word_dict, sentence, pad=500):\n",
    "    NOWORD = 0 # We will use 0 to represent the 'no word' category\n",
    "    INFREQ = 1 # and we use 1 to represent the infrequent words, i.e., words not appearing in word_dict\n",
    "    \n",
    "    working_sentence = [NOWORD] * pad\n",
    "    \n",
    "    for word_index, word in enumerate(sentence[:pad]):\n",
    "        if word in word_dict:\n",
    "            working_sentence[word_index] = word_dict[word]\n",
    "        else:\n",
    "            working_sentence[word_index] = INFREQ\n",
    "            \n",
    "    return working_sentence, min(len(sentence), pad)\n",
    "\n",
    "def convert_and_pad_data(word_dict, data, pad=500):\n",
    "    result = []\n",
    "    lengths = []\n",
    "    \n",
    "    for sentence in data:\n",
    "        converted, leng = convert_and_pad(word_dict, sentence, pad)\n",
    "        result.append(converted)\n",
    "        lengths.append(leng)\n",
    "        \n",
    "    return np.array(result), np.array(lengths)"
   ]
  },
  {
   "cell_type": "code",
   "execution_count": 22,
   "metadata": {},
   "outputs": [],
   "source": [
    "train_X, train_X_len = convert_and_pad_data(word_dict, train_X)\n",
    "test_X, test_X_len = convert_and_pad_data(word_dict, test_X)"
   ]
  },
  {
   "cell_type": "markdown",
   "metadata": {},
   "source": [
    "As a quick check to make sure that things are working as intended, check to see what one of the reviews in the training set looks like after having been processeed. Does this look reasonable? What is the length of a review in the training set?"
   ]
  },
  {
   "cell_type": "code",
   "execution_count": 23,
   "metadata": {},
   "outputs": [
    {
     "name": "stdout",
     "output_type": "stream",
     "text": [
      "500\n",
      "[167]\n"
     ]
    }
   ],
   "source": [
    "# Use this cell to examine one of the processed reviews to make sure everything is working as intended.\n",
    "print(len(train_X[0]))\n",
    "print(train_X_len[0:1]) "
   ]
  },
  {
   "cell_type": "markdown",
   "metadata": {},
   "source": [
    "**Question:** In the cells above we use the `preprocess_data` and `convert_and_pad_data` methods to process both the training and testing set. Why or why not might this be a problem?"
   ]
  },
  {
   "cell_type": "markdown",
   "metadata": {},
   "source": [
    "**Answer:**\n",
    "+ **preprocess_data function**  cuts the data preparation cost, since it is one time process and the result are saved in a file. In case if the notebook instance terminal connection is broken then we need to restart from begining in that case we can skip the data preparation step and proceed to training by directly loading the preprocessed data from file\n",
    "+ **convert_and_pad_data**  function helps to maintain a constant data length. As we are using LSTM Clasifier with Embedding so we need to maintain a constant batch size throughout the training"
   ]
  },
  {
   "cell_type": "markdown",
   "metadata": {},
   "source": [
    "## Step 3: Upload the data to S3\n",
    "\n",
    "As in the XGBoost notebook, we will need to upload the training dataset to S3 in order for our training code to access it. For now we will save it locally and we will upload to S3 later on.\n",
    "\n",
    "### Save the processed training dataset locally\n",
    "\n",
    "It is important to note the format of the data that we are saving as we will need to know it when we write the training code. In our case, each row of the dataset has the form `label`, `length`, `review[500]` where `review[500]` is a sequence of `500` integers representing the words in the review."
   ]
  },
  {
   "cell_type": "code",
   "execution_count": 24,
   "metadata": {},
   "outputs": [],
   "source": [
    "import pandas as pd\n",
    "    \n",
    "pd.concat([pd.DataFrame(train_y), pd.DataFrame(train_X_len), pd.DataFrame(train_X)], axis=1) \\\n",
    "        .to_csv(os.path.join(data_dir, 'train.csv'), header=False, index=False)"
   ]
  },
  {
   "cell_type": "markdown",
   "metadata": {},
   "source": [
    "### Uploading the training data\n",
    "\n",
    "\n",
    "Next, we need to upload the training data to the SageMaker default S3 bucket so that we can provide access to it while training our model."
   ]
  },
  {
   "cell_type": "code",
   "execution_count": 25,
   "metadata": {},
   "outputs": [],
   "source": [
    "import sagemaker\n",
    "\n",
    "sagemaker_session = sagemaker.Session()\n",
    "\n",
    "bucket = sagemaker_session.default_bucket()\n",
    "prefix = 'sagemaker/sentiment_rnn'\n",
    "\n",
    "role = sagemaker.get_execution_role()"
   ]
  },
  {
   "cell_type": "code",
   "execution_count": 26,
   "metadata": {},
   "outputs": [],
   "source": [
    "input_data = sagemaker_session.upload_data(path=data_dir, bucket=bucket, key_prefix=prefix)"
   ]
  },
  {
   "cell_type": "markdown",
   "metadata": {},
   "source": [
    "**NOTE:** The cell above uploads the entire contents of our data directory. This includes the `word_dict.pkl` file. This is fortunate as we will need this later on when we create an endpoint that accepts an arbitrary review. For now, we will just take note of the fact that it resides in the data directory (and so also in the S3 training bucket) and that we will need to make sure it gets saved in the model directory."
   ]
  },
  {
   "cell_type": "markdown",
   "metadata": {},
   "source": [
    "## Step 4: Build and Train the PyTorch Model\n",
    "\n",
    "In the XGBoost notebook we discussed what a model is in the SageMaker framework. In particular, a model comprises three objects\n",
    "\n",
    " - Model Artifacts,\n",
    " - Training Code, and\n",
    " - Inference Code,\n",
    " \n",
    "each of which interact with one another. In the XGBoost example we used training and inference code that was provided by Amazon. Here we will still be using containers provided by Amazon with the added benefit of being able to include our own custom code.\n",
    "\n",
    "We will start by implementing our own neural network in PyTorch along with a training script. For the purposes of this project we have provided the necessary model object in the `model.py` file, inside of the `train` folder. You can see the provided implementation by running the cell below."
   ]
  },
  {
   "cell_type": "code",
   "execution_count": 27,
   "metadata": {},
   "outputs": [
    {
     "name": "stdout",
     "output_type": "stream",
     "text": [
      "\u001b[34mimport\u001b[39;49;00m \u001b[04m\u001b[36mtorch.nn\u001b[39;49;00m \u001b[34mas\u001b[39;49;00m \u001b[04m\u001b[36mnn\u001b[39;49;00m\r\n",
      "\r\n",
      "\u001b[34mclass\u001b[39;49;00m \u001b[04m\u001b[32mLSTMClassifier\u001b[39;49;00m(nn.Module):\r\n",
      "    \u001b[33m\"\"\"\u001b[39;49;00m\r\n",
      "\u001b[33m    This is the simple RNN model we will be using to perform Sentiment Analysis.\u001b[39;49;00m\r\n",
      "\u001b[33m    \"\"\"\u001b[39;49;00m\r\n",
      "\r\n",
      "    \u001b[34mdef\u001b[39;49;00m \u001b[32m__init__\u001b[39;49;00m(\u001b[36mself\u001b[39;49;00m, embedding_dim, hidden_dim, vocab_size):\r\n",
      "        \u001b[33m\"\"\"\u001b[39;49;00m\r\n",
      "\u001b[33m        Initialize the model by settingg up the various layers.\u001b[39;49;00m\r\n",
      "\u001b[33m        \"\"\"\u001b[39;49;00m\r\n",
      "        \u001b[36msuper\u001b[39;49;00m(LSTMClassifier, \u001b[36mself\u001b[39;49;00m).\u001b[32m__init__\u001b[39;49;00m()\r\n",
      "\r\n",
      "        \u001b[36mself\u001b[39;49;00m.embedding = nn.Embedding(vocab_size, embedding_dim, padding_idx=\u001b[34m0\u001b[39;49;00m)\r\n",
      "        \u001b[36mself\u001b[39;49;00m.lstm = nn.LSTM(embedding_dim, hidden_dim)\r\n",
      "        \u001b[36mself\u001b[39;49;00m.dense = nn.Linear(in_features=hidden_dim, out_features=\u001b[34m1\u001b[39;49;00m)\r\n",
      "        \u001b[36mself\u001b[39;49;00m.sig = nn.Sigmoid()\r\n",
      "        \r\n",
      "        \u001b[36mself\u001b[39;49;00m.word_dict = \u001b[36mNone\u001b[39;49;00m\r\n",
      "\r\n",
      "    \u001b[34mdef\u001b[39;49;00m \u001b[32mforward\u001b[39;49;00m(\u001b[36mself\u001b[39;49;00m, x):\r\n",
      "        \u001b[33m\"\"\"\u001b[39;49;00m\r\n",
      "\u001b[33m        Perform a forward pass of our model on some input.\u001b[39;49;00m\r\n",
      "\u001b[33m        \"\"\"\u001b[39;49;00m\r\n",
      "        x = x.t()\r\n",
      "        lengths = x[\u001b[34m0\u001b[39;49;00m,:]\r\n",
      "        reviews = x[\u001b[34m1\u001b[39;49;00m:,:]\r\n",
      "        embeds = \u001b[36mself\u001b[39;49;00m.embedding(reviews)\r\n",
      "        lstm_out, _ = \u001b[36mself\u001b[39;49;00m.lstm(embeds)\r\n",
      "        out = \u001b[36mself\u001b[39;49;00m.dense(lstm_out)\r\n",
      "        out = out[lengths - \u001b[34m1\u001b[39;49;00m, \u001b[36mrange\u001b[39;49;00m(\u001b[36mlen\u001b[39;49;00m(lengths))]\r\n",
      "        \u001b[34mreturn\u001b[39;49;00m \u001b[36mself\u001b[39;49;00m.sig(out.squeeze())\r\n"
     ]
    }
   ],
   "source": [
    "!pygmentize train/model.py"
   ]
  },
  {
   "cell_type": "markdown",
   "metadata": {},
   "source": [
    "The important takeaway from the implementation provided is that there are three parameters that we may wish to tweak to improve the performance of our model. These are the embedding dimension, the hidden dimension and the size of the vocabulary. We will likely want to make these parameters configurable in the training script so that if we wish to modify them we do not need to modify the script itself. We will see how to do this later on. To start we will write some of the training code in the notebook so that we can more easily diagnose any issues that arise.\n",
    "\n",
    "First we will load a small portion of the training data set to use as a sample. It would be very time consuming to try and train the model completely in the notebook as we do not have access to a gpu and the compute instance that we are using is not particularly powerful. However, we can work on a small bit of the data to get a feel for how our training script is behaving."
   ]
  },
  {
   "cell_type": "code",
   "execution_count": 28,
   "metadata": {},
   "outputs": [],
   "source": [
    "import torch\n",
    "import torch.utils.data\n",
    "\n",
    "# Read in only the first 250 rows\n",
    "train_sample = pd.read_csv(os.path.join(data_dir, 'train.csv'), header=None, names=None, nrows=250)\n",
    "\n",
    "# Turn the input pandas dataframe into tensors\n",
    "train_sample_y = torch.from_numpy(train_sample[[0]].values).float().squeeze()\n",
    "train_sample_X = torch.from_numpy(train_sample.drop([0], axis=1).values).long()\n",
    "\n",
    "# Build the dataset\n",
    "train_sample_ds = torch.utils.data.TensorDataset(train_sample_X, train_sample_y)\n",
    "# Build the dataloader\n",
    "train_sample_dl = torch.utils.data.DataLoader(train_sample_ds, batch_size=50)"
   ]
  },
  {
   "cell_type": "markdown",
   "metadata": {},
   "source": [
    "### (TODO) Writing the training method\n",
    "\n",
    "Next we need to write the training code itself. This should be very similar to training methods that you have written before to train PyTorch models. We will leave any difficult aspects such as model saving / loading and parameter loading until a little later."
   ]
  },
  {
   "cell_type": "code",
   "execution_count": 29,
   "metadata": {},
   "outputs": [],
   "source": [
    "def train(model, train_loader, epochs, optimizer, loss_fn, device):\n",
    "    for epoch in range(1, epochs + 1):\n",
    "        model.train()\n",
    "        total_loss = 0\n",
    "        for batch in train_loader:         \n",
    "            batch_X, batch_y = batch\n",
    "            \n",
    "            batch_X = batch_X.to(device)\n",
    "            batch_y = batch_y.to(device)\n",
    "            \n",
    "            # TODO: Complete this train method to train the model provided.\n",
    "            optimizer.zero_grad()\n",
    "            output = model(batch_X)\n",
    "            loss = loss_fn(output, batch_y)\n",
    "            loss.backward()\n",
    "            optimizer.step()\n",
    "            \n",
    "            total_loss += loss.data.item()\n",
    "        print(\"Epoch: {}, BCELoss: {}\".format(epoch, total_loss / len(train_loader)))"
   ]
  },
  {
   "cell_type": "markdown",
   "metadata": {},
   "source": [
    "Supposing we have the training method above, we will test that it is working by writing a bit of code in the notebook that executes our training method on the small sample training set that we loaded earlier. The reason for doing this in the notebook is so that we have an opportunity to fix any errors that arise early when they are easier to diagnose."
   ]
  },
  {
   "cell_type": "code",
   "execution_count": 30,
   "metadata": {},
   "outputs": [
    {
     "name": "stdout",
     "output_type": "stream",
     "text": [
      "Epoch: 1, BCELoss: 0.6970168352127075\n",
      "Epoch: 2, BCELoss: 0.6875119090080262\n",
      "Epoch: 3, BCELoss: 0.6796146035194397\n",
      "Epoch: 4, BCELoss: 0.6712680339813233\n",
      "Epoch: 5, BCELoss: 0.6615508317947387\n"
     ]
    }
   ],
   "source": [
    "import torch.optim as optim\n",
    "from train.model import LSTMClassifier\n",
    "\n",
    "device = torch.device(\"cuda\" if torch.cuda.is_available() else \"cpu\")\n",
    "model = LSTMClassifier(32, 100, 5000).to(device)\n",
    "optimizer = optim.Adam(model.parameters())\n",
    "loss_fn = torch.nn.BCELoss()\n",
    "\n",
    "train(model, train_sample_dl, 5, optimizer, loss_fn, device)"
   ]
  },
  {
   "cell_type": "markdown",
   "metadata": {},
   "source": [
    "In order to construct a PyTorch model using SageMaker we must provide SageMaker with a training script. We may optionally include a directory which will be copied to the container and from which our training code will be run. When the training container is executed it will check the uploaded directory (if there is one) for a `requirements.txt` file and install any required Python libraries, after which the training script will be run."
   ]
  },
  {
   "cell_type": "markdown",
   "metadata": {},
   "source": [
    "### (TODO) Training the model\n",
    "\n",
    "When a PyTorch model is constructed in SageMaker, an entry point must be specified. This is the Python file which will be executed when the model is trained. Inside of the `train` directory is a file called `train.py` which has been provided and which contains most of the necessary code to train our model. The only thing that is missing is the implementation of the `train()` method which you wrote earlier in this notebook.\n",
    "\n",
    "**TODO**: Copy the `train()` method written above and paste it into the `train/train.py` file where required.\n",
    "\n",
    "The way that SageMaker passes hyperparameters to the training script is by way of arguments. These arguments can then be parsed and used in the training script. To see how this is done take a look at the provided `train/train.py` file."
   ]
  },
  {
   "cell_type": "code",
   "execution_count": 33,
   "metadata": {},
   "outputs": [],
   "source": [
    "from sagemaker.pytorch import PyTorch\n",
    "\n",
    "estimator = PyTorch(entry_point=\"train.py\",\n",
    "                    source_dir=\"train\",\n",
    "                    role=role,\n",
    "                    framework_version='0.4.0',\n",
    "                    train_instance_count=1,\n",
    "                    train_instance_type='ml.c5.4xlarge',\n",
    "                    hyperparameters={\n",
    "                        'epochs': 10,\n",
    "                        'hidden_dim': 200,\n",
    "                    })"
   ]
  },
  {
   "cell_type": "code",
   "execution_count": 34,
   "metadata": {},
   "outputs": [
    {
     "name": "stdout",
     "output_type": "stream",
     "text": [
      "2019-05-17 19:48:41 Starting - Starting the training job...\n",
      "2019-05-17 19:48:43 Starting - Launching requested ML instances......\n",
      "2019-05-17 19:49:54 Starting - Preparing the instances for training............\n",
      "2019-05-17 19:51:59 Downloading - Downloading input data\n",
      "2019-05-17 19:51:59 Training - Training image download completed. Training in progress.\n",
      "\u001b[31mbash: cannot set terminal process group (-1): Inappropriate ioctl for device\u001b[0m\n",
      "\u001b[31mbash: no job control in this shell\u001b[0m\n",
      "\u001b[31m2019-05-17 19:51:58,666 sagemaker-containers INFO     Imported framework sagemaker_pytorch_container.training\u001b[0m\n",
      "\u001b[31m2019-05-17 19:51:58,668 sagemaker-containers INFO     No GPUs detected (normal if no gpus installed)\u001b[0m\n",
      "\u001b[31m2019-05-17 19:51:58,678 sagemaker_pytorch_container.training INFO     Block until all host DNS lookups succeed.\u001b[0m\n",
      "\u001b[31m2019-05-17 19:52:00,087 sagemaker_pytorch_container.training INFO     Invoking user training script.\u001b[0m\n",
      "\u001b[31m2019-05-17 19:52:00,443 sagemaker-containers INFO     Module train does not provide a setup.py. \u001b[0m\n",
      "\u001b[31mGenerating setup.py\u001b[0m\n",
      "\u001b[31m2019-05-17 19:52:00,443 sagemaker-containers INFO     Generating setup.cfg\u001b[0m\n",
      "\u001b[31m2019-05-17 19:52:00,443 sagemaker-containers INFO     Generating MANIFEST.in\u001b[0m\n",
      "\u001b[31m2019-05-17 19:52:00,443 sagemaker-containers INFO     Installing module with the following command:\u001b[0m\n",
      "\u001b[31m/usr/bin/python -m pip install -U . -r requirements.txt\u001b[0m\n",
      "\u001b[31mProcessing /opt/ml/code\u001b[0m\n",
      "\u001b[31mCollecting pandas (from -r requirements.txt (line 1))\n",
      "  Downloading https://files.pythonhosted.org/packages/74/24/0cdbf8907e1e3bc5a8da03345c23cbed7044330bb8f73bb12e711a640a00/pandas-0.24.2-cp35-cp35m-manylinux1_x86_64.whl (10.0MB)\u001b[0m\n",
      "\u001b[31mCollecting numpy (from -r requirements.txt (line 2))\n",
      "  Downloading https://files.pythonhosted.org/packages/f6/f3/cc6c6745347c1e997cc3e58390584a250b8e22b6dfc45414a7d69a3df016/numpy-1.16.3-cp35-cp35m-manylinux1_x86_64.whl (17.2MB)\u001b[0m\n",
      "\u001b[31mCollecting nltk (from -r requirements.txt (line 3))\n",
      "  Downloading https://files.pythonhosted.org/packages/73/56/90178929712ce427ebad179f8dc46c8deef4e89d4c853092bee1efd57d05/nltk-3.4.1.zip (3.1MB)\u001b[0m\n",
      "\u001b[31mCollecting beautifulsoup4 (from -r requirements.txt (line 4))\n",
      "  Downloading https://files.pythonhosted.org/packages/1d/5d/3260694a59df0ec52f8b4883f5d23b130bc237602a1411fa670eae12351e/beautifulsoup4-4.7.1-py3-none-any.whl (94kB)\u001b[0m\n",
      "\u001b[31mCollecting html5lib (from -r requirements.txt (line 5))\n",
      "  Downloading https://files.pythonhosted.org/packages/a5/62/bbd2be0e7943ec8504b517e62bab011b4946e1258842bc159e5dfde15b96/html5lib-1.0.1-py2.py3-none-any.whl (117kB)\u001b[0m\n",
      "\u001b[31mRequirement already satisfied, skipping upgrade: python-dateutil>=2.5.0 in /usr/local/lib/python3.5/dist-packages (from pandas->-r requirements.txt (line 1)) (2.7.5)\u001b[0m\n",
      "\u001b[31mCollecting pytz>=2011k (from pandas->-r requirements.txt (line 1))\n",
      "  Downloading https://files.pythonhosted.org/packages/3d/73/fe30c2daaaa0713420d0382b16fbb761409f532c56bdcc514bf7b6262bb6/pytz-2019.1-py2.py3-none-any.whl (510kB)\u001b[0m\n",
      "\u001b[31mRequirement already satisfied, skipping upgrade: six in /usr/local/lib/python3.5/dist-packages (from nltk->-r requirements.txt (line 3)) (1.11.0)\u001b[0m\n",
      "\u001b[31mCollecting soupsieve>=1.2 (from beautifulsoup4->-r requirements.txt (line 4))\n",
      "  Downloading https://files.pythonhosted.org/packages/b9/a5/7ea40d0f8676bde6e464a6435a48bc5db09b1a8f4f06d41dd997b8f3c616/soupsieve-1.9.1-py2.py3-none-any.whl\u001b[0m\n",
      "\u001b[31mCollecting webencodings (from html5lib->-r requirements.txt (line 5))\n",
      "  Downloading https://files.pythonhosted.org/packages/f4/24/2a3e3df732393fed8b3ebf2ec078f05546de641fe1b667ee316ec1dcf3b7/webencodings-0.5.1-py2.py3-none-any.whl\u001b[0m\n",
      "\u001b[31mBuilding wheels for collected packages: nltk, train\n",
      "  Running setup.py bdist_wheel for nltk: started\u001b[0m\n",
      "\u001b[31m  Running setup.py bdist_wheel for nltk: finished with status 'done'\n",
      "  Stored in directory: /root/.cache/pip/wheels/97/8a/10/d646015f33c525688e91986c4544c68019b19a473cb33d3b55\n",
      "  Running setup.py bdist_wheel for train: started\n",
      "  Running setup.py bdist_wheel for train: finished with status 'done'\n",
      "  Stored in directory: /tmp/pip-ephem-wheel-cache-6a3rq6cz/wheels/35/24/16/37574d11bf9bde50616c67372a334f94fa8356bc7164af8ca3\u001b[0m\n",
      "\u001b[31mSuccessfully built nltk train\u001b[0m\n",
      "\u001b[31mInstalling collected packages: numpy, pytz, pandas, nltk, soupsieve, beautifulsoup4, webencodings, html5lib, train\n",
      "  Found existing installation: numpy 1.15.4\n",
      "    Uninstalling numpy-1.15.4:\u001b[0m\n",
      "\u001b[31m      Successfully uninstalled numpy-1.15.4\u001b[0m\n",
      "\u001b[31mSuccessfully installed beautifulsoup4-4.7.1 html5lib-1.0.1 nltk-3.4.1 numpy-1.16.3 pandas-0.24.2 pytz-2019.1 soupsieve-1.9.1 train-1.0.0 webencodings-0.5.1\u001b[0m\n",
      "\u001b[31mYou are using pip version 18.1, however version 19.1.1 is available.\u001b[0m\n",
      "\u001b[31mYou should consider upgrading via the 'pip install --upgrade pip' command.\u001b[0m\n",
      "\u001b[31m2019-05-17 19:52:09,314 sagemaker-containers INFO     No GPUs detected (normal if no gpus installed)\u001b[0m\n",
      "\u001b[31m2019-05-17 19:52:09,324 sagemaker-containers INFO     Invoking user script\n",
      "\u001b[0m\n",
      "\u001b[31mTraining Env:\n",
      "\u001b[0m\n",
      "\u001b[31m{\n",
      "    \"input_config_dir\": \"/opt/ml/input/config\",\n",
      "    \"channel_input_dirs\": {\n",
      "        \"training\": \"/opt/ml/input/data/training\"\n",
      "    },\n",
      "    \"current_host\": \"algo-1\",\n",
      "    \"input_data_config\": {\n",
      "        \"training\": {\n",
      "            \"RecordWrapperType\": \"None\",\n",
      "            \"TrainingInputMode\": \"File\",\n",
      "            \"S3DistributionType\": \"FullyReplicated\"\n",
      "        }\n",
      "    },\n",
      "    \"resource_config\": {\n",
      "        \"hosts\": [\n",
      "            \"algo-1\"\n",
      "        ],\n",
      "        \"current_host\": \"algo-1\",\n",
      "        \"network_interface_name\": \"ethwe\"\n",
      "    },\n",
      "    \"output_intermediate_dir\": \"/opt/ml/output/intermediate\",\n",
      "    \"module_dir\": \"s3://sagemaker-us-east-1-554359668021/sagemaker-pytorch-2019-05-17-19-48-40-899/source/sourcedir.tar.gz\",\n",
      "    \"framework_module\": \"sagemaker_pytorch_container.training:main\",\n",
      "    \"network_interface_name\": \"ethwe\",\n",
      "    \"log_level\": 20,\n",
      "    \"output_data_dir\": \"/opt/ml/output/data\",\n",
      "    \"hyperparameters\": {\n",
      "        \"epochs\": 10,\n",
      "        \"hidden_dim\": 200\n",
      "    },\n",
      "    \"job_name\": \"sagemaker-pytorch-2019-05-17-19-48-40-899\",\n",
      "    \"input_dir\": \"/opt/ml/input\",\n",
      "    \"module_name\": \"train\",\n",
      "    \"model_dir\": \"/opt/ml/model\",\n",
      "    \"hosts\": [\n",
      "        \"algo-1\"\n",
      "    ],\n",
      "    \"num_gpus\": 0,\n",
      "    \"user_entry_point\": \"train.py\",\n",
      "    \"num_cpus\": 16,\n",
      "    \"output_dir\": \"/opt/ml/output\",\n",
      "    \"additional_framework_parameters\": {}\u001b[0m\n",
      "\u001b[31m}\n",
      "\u001b[0m\n",
      "\u001b[31mEnvironment variables:\n",
      "\u001b[0m\n",
      "\u001b[31mSM_LOG_LEVEL=20\u001b[0m\n",
      "\u001b[31mSM_USER_ENTRY_POINT=train.py\u001b[0m\n",
      "\u001b[31mSM_NUM_GPUS=0\u001b[0m\n",
      "\u001b[31mSM_CURRENT_HOST=algo-1\u001b[0m\n",
      "\u001b[31mSM_CHANNELS=[\"training\"]\u001b[0m\n",
      "\u001b[31mSM_INPUT_DATA_CONFIG={\"training\":{\"RecordWrapperType\":\"None\",\"S3DistributionType\":\"FullyReplicated\",\"TrainingInputMode\":\"File\"}}\u001b[0m\n",
      "\u001b[31mSM_CHANNEL_TRAINING=/opt/ml/input/data/training\u001b[0m\n",
      "\u001b[31mSM_RESOURCE_CONFIG={\"current_host\":\"algo-1\",\"hosts\":[\"algo-1\"],\"network_interface_name\":\"ethwe\"}\u001b[0m\n",
      "\u001b[31mSM_OUTPUT_DATA_DIR=/opt/ml/output/data\u001b[0m\n",
      "\u001b[31mSM_NUM_CPUS=16\u001b[0m\n",
      "\u001b[31mSM_NETWORK_INTERFACE_NAME=ethwe\u001b[0m\n",
      "\u001b[31mSM_HPS={\"epochs\":10,\"hidden_dim\":200}\u001b[0m\n",
      "\u001b[31mSM_FRAMEWORK_MODULE=sagemaker_pytorch_container.training:main\u001b[0m\n",
      "\u001b[31mSM_MODULE_DIR=s3://sagemaker-us-east-1-554359668021/sagemaker-pytorch-2019-05-17-19-48-40-899/source/sourcedir.tar.gz\u001b[0m\n",
      "\u001b[31mSM_FRAMEWORK_PARAMS={}\u001b[0m\n",
      "\u001b[31mSM_INPUT_DIR=/opt/ml/input\u001b[0m\n",
      "\u001b[31mSM_OUTPUT_INTERMEDIATE_DIR=/opt/ml/output/intermediate\u001b[0m\n",
      "\u001b[31mSM_TRAINING_ENV={\"additional_framework_parameters\":{},\"channel_input_dirs\":{\"training\":\"/opt/ml/input/data/training\"},\"current_host\":\"algo-1\",\"framework_module\":\"sagemaker_pytorch_container.training:main\",\"hosts\":[\"algo-1\"],\"hyperparameters\":{\"epochs\":10,\"hidden_dim\":200},\"input_config_dir\":\"/opt/ml/input/config\",\"input_data_config\":{\"training\":{\"RecordWrapperType\":\"None\",\"S3DistributionType\":\"FullyReplicated\",\"TrainingInputMode\":\"File\"}},\"input_dir\":\"/opt/ml/input\",\"job_name\":\"sagemaker-pytorch-2019-05-17-19-48-40-899\",\"log_level\":20,\"model_dir\":\"/opt/ml/model\",\"module_dir\":\"s3://sagemaker-us-east-1-554359668021/sagemaker-pytorch-2019-05-17-19-48-40-899/source/sourcedir.tar.gz\",\"module_name\":\"train\",\"network_interface_name\":\"ethwe\",\"num_cpus\":16,\"num_gpus\":0,\"output_data_dir\":\"/opt/ml/output/data\",\"output_dir\":\"/opt/ml/output\",\"output_intermediate_dir\":\"/opt/ml/output/intermediate\",\"resource_config\":{\"current_host\":\"algo-1\",\"hosts\":[\"algo-1\"],\"network_interface_name\":\"ethwe\"},\"user_entry_point\":\"train.py\"}\u001b[0m\n",
      "\u001b[31mSM_HOSTS=[\"algo-1\"]\u001b[0m\n",
      "\u001b[31mPYTHONPATH=/usr/local/bin:/usr/lib/python35.zip:/usr/lib/python3.5:/usr/lib/python3.5/plat-x86_64-linux-gnu:/usr/lib/python3.5/lib-dynload:/usr/local/lib/python3.5/dist-packages:/usr/lib/python3/dist-packages\u001b[0m\n",
      "\u001b[31mSM_INPUT_CONFIG_DIR=/opt/ml/input/config\u001b[0m\n",
      "\u001b[31mSM_HP_EPOCHS=10\u001b[0m\n",
      "\u001b[31mSM_MODEL_DIR=/opt/ml/model\u001b[0m\n",
      "\u001b[31mSM_MODULE_NAME=train\u001b[0m\n",
      "\u001b[31mSM_USER_ARGS=[\"--epochs\",\"10\",\"--hidden_dim\",\"200\"]\u001b[0m\n",
      "\u001b[31mSM_HP_HIDDEN_DIM=200\u001b[0m\n",
      "\u001b[31mSM_OUTPUT_DIR=/opt/ml/output\n",
      "\u001b[0m\n",
      "\u001b[31mInvoking script with the following command:\n",
      "\u001b[0m\n",
      "\u001b[31m/usr/bin/python -m train --epochs 10 --hidden_dim 200\n",
      "\n",
      "\u001b[0m\n",
      "\u001b[31mUsing device cpu.\u001b[0m\n",
      "\u001b[31mGet train data loader.\u001b[0m\n",
      "\u001b[31mModel loaded with embedding_dim 32, hidden_dim 200, vocab_size 5000.\u001b[0m\n"
     ]
    },
    {
     "name": "stdout",
     "output_type": "stream",
     "text": [
      "\u001b[31mEpoch: 1, BCELoss: 0.6767470824475191\u001b[0m\n",
      "\u001b[31mEpoch: 2, BCELoss: 0.6540116838046482\u001b[0m\n",
      "\u001b[31mEpoch: 3, BCELoss: 0.5738629789984956\u001b[0m\n",
      "\u001b[31mEpoch: 4, BCELoss: 0.4730883258946088\u001b[0m\n",
      "\u001b[31mEpoch: 5, BCELoss: 0.4325586149887163\u001b[0m\n",
      "\u001b[31mEpoch: 6, BCELoss: 0.3882953263058954\u001b[0m\n",
      "\u001b[31mEpoch: 7, BCELoss: 0.3529440584231396\u001b[0m\n",
      "\u001b[31mEpoch: 8, BCELoss: 0.32031080491688785\u001b[0m\n",
      "\u001b[31mEpoch: 9, BCELoss: 0.30184060304748767\u001b[0m\n",
      "\u001b[31mEpoch: 10, BCELoss: 0.29235275302614483\u001b[0m\n",
      "\u001b[31m2019-05-17 20:30:10,675 sagemaker-containers INFO     Reporting training SUCCESS\u001b[0m\n",
      "\n",
      "2019-05-17 20:30:21 Uploading - Uploading generated training model\n",
      "2019-05-17 20:30:21 Completed - Training job completed\n",
      "Billable seconds: 2314\n"
     ]
    }
   ],
   "source": [
    "estimator.fit({'training': input_data})"
   ]
  },
  {
   "cell_type": "markdown",
   "metadata": {},
   "source": [
    "## Step 5: Testing the model\n",
    "\n",
    "As mentioned at the top of this notebook, we will be testing this model by first deploying it and then sending the testing data to the deployed endpoint. We will do this so that we can make sure that the deployed model is working correctly.\n",
    "\n",
    "## Step 6: Deploy the model for testing\n",
    "\n",
    "Now that we have trained our model, we would like to test it to see how it performs. Currently our model takes input of the form `review_length, review[500]` where `review[500]` is a sequence of `500` integers which describe the words present in the review, encoded using `word_dict`. Fortunately for us, SageMaker provides built-in inference code for models with simple inputs such as this.\n",
    "\n",
    "There is one thing that we need to provide, however, and that is a function which loads the saved model. This function must be called `model_fn()` and takes as its only parameter a path to the directory where the model artifacts are stored. This function must also be present in the python file which we specified as the entry point. In our case the model loading function has been provided and so no changes need to be made.\n",
    "\n",
    "**NOTE**: When the built-in inference code is run it must import the `model_fn()` method from the `train.py` file. This is why the training code is wrapped in a main guard ( ie, `if __name__ == '__main__':` )\n",
    "\n",
    "Since we don't need to change anything in the code that was uploaded during training, we can simply deploy the current model as-is.\n",
    "\n",
    "**NOTE:** When deploying a model you are asking SageMaker to launch an compute instance that will wait for data to be sent to it. As a result, this compute instance will continue to run until *you* shut it down. This is important to know since the cost of a deployed endpoint depends on how long it has been running for.\n",
    "\n",
    "In other words **If you are no longer using a deployed endpoint, shut it down!**\n",
    "\n",
    "**TODO:** Deploy the trained model."
   ]
  },
  {
   "cell_type": "code",
   "execution_count": 35,
   "metadata": {},
   "outputs": [
    {
     "name": "stdout",
     "output_type": "stream",
     "text": [
      "----------------------------------------------------------------------------------------!"
     ]
    }
   ],
   "source": [
    "# TODO: Deploy the trained model\n",
    "predictor = estimator.deploy(initial_instance_count=1, instance_type='ml.m4.xlarge')"
   ]
  },
  {
   "cell_type": "markdown",
   "metadata": {},
   "source": [
    "## Step 7 - Use the model for testing\n",
    "\n",
    "Once deployed, we can read in the test data and send it off to our deployed model to get some results. Once we collect all of the results we can determine how accurate our model is."
   ]
  },
  {
   "cell_type": "code",
   "execution_count": 36,
   "metadata": {},
   "outputs": [],
   "source": [
    "test_X = pd.concat([pd.DataFrame(test_X_len), pd.DataFrame(test_X)], axis=1)"
   ]
  },
  {
   "cell_type": "code",
   "execution_count": 37,
   "metadata": {},
   "outputs": [],
   "source": [
    "# We split the data into chunks and send each chunk seperately, accumulating the results.\n",
    "\n",
    "def predict(data, rows=512):\n",
    "    split_array = np.array_split(data, int(data.shape[0] / float(rows) + 1))\n",
    "    predictions = np.array([])\n",
    "    for array in split_array:\n",
    "        predictions = np.append(predictions, predictor.predict(array))\n",
    "    \n",
    "    return predictions"
   ]
  },
  {
   "cell_type": "code",
   "execution_count": 38,
   "metadata": {},
   "outputs": [],
   "source": [
    "predictions = predict(test_X.values)\n",
    "predictions = [round(num) for num in predictions]"
   ]
  },
  {
   "cell_type": "code",
   "execution_count": 39,
   "metadata": {},
   "outputs": [
    {
     "data": {
      "text/plain": [
       "0.83444"
      ]
     },
     "execution_count": 39,
     "metadata": {},
     "output_type": "execute_result"
    }
   ],
   "source": [
    "from sklearn.metrics import accuracy_score\n",
    "accuracy_score(test_y, predictions)"
   ]
  },
  {
   "cell_type": "markdown",
   "metadata": {},
   "source": [
    "**Question:** How does this model compare to the XGBoost model you created earlier? Why might these two models perform differently on this dataset? Which do *you* think is better for sentiment analysis?"
   ]
  },
  {
   "cell_type": "markdown",
   "metadata": {},
   "source": [
    "**Answer:**\n",
    "XGBoost is an gradient boosting library and handles smaller variable problems with lesser training and more accuracy. But Deep learning is designed for large variable data supervised/un-supervised learning but it need more training For sentiment analysis XGBoost is better because XGBoost is the state of the art in most regression and classification problems with better result and less training. Since it is mono label classification problem"
   ]
  },
  {
   "cell_type": "markdown",
   "metadata": {},
   "source": [
    "### (TODO) More testing\n",
    "\n",
    "We now have a trained model which has been deployed and which we can send processed reviews to and which returns the predicted sentiment. However, ultimately we would like to be able to send our model an unprocessed review. That is, we would like to send the review itself as a string. For example, suppose we wish to send the following review to our model."
   ]
  },
  {
   "cell_type": "code",
   "execution_count": 40,
   "metadata": {},
   "outputs": [],
   "source": [
    "test_review = 'The simplest pleasures in life are the best, and this film is one of them. Combining a rather basic storyline of love and adventure this movie transcends the usual weekend fair with wit and unmitigated charm.'"
   ]
  },
  {
   "cell_type": "markdown",
   "metadata": {},
   "source": [
    "The question we now need to answer is, how do we send this review to our model?\n",
    "\n",
    "Recall in the first section of this notebook we did a bunch of data processing to the IMDb dataset. In particular, we did two specific things to the provided reviews.\n",
    " - Removed any html tags and stemmed the input\n",
    " - Encoded the review as a sequence of integers using `word_dict`\n",
    " \n",
    "In order process the review we will need to repeat these two steps.\n",
    "\n",
    "**TODO**: Using the `review_to_words` and `convert_and_pad` methods from section one, convert `test_review` into a numpy array `test_data` suitable to send to our model. Remember that our model expects input of the form `review_length, review[500]`."
   ]
  },
  {
   "cell_type": "code",
   "execution_count": 41,
   "metadata": {},
   "outputs": [
    {
     "name": "stdout",
     "output_type": "stream",
     "text": [
      "    0     0     1     2     3     4     5     6     7    8   ...   490  491  \\\n",
      "0     8     1     1     1  1440  1222   704     1     1    0 ...     0    0   \n",
      "1     7  1440  1222   704     1     1  1099  1208     0    0 ...     0    0   \n",
      "2     4  1222     1  1046   704     0     0     0     0    0 ...     0    0   \n",
      "3     4   425   704     1     1     0     0     0     0    0 ...     0    0   \n",
      "4     4  1046     1  1222     1     0     0     0     0    0 ...     0    0   \n",
      "5     3     1  1496   704     0     0     0     0     0    0 ...     0    0   \n",
      "6     6   894     1     1   425     1  1496     0     0    0 ...     0    0   \n",
      "7     6  1208     1     1  1768   704  1208     0     0    0 ...     0    0   \n",
      "8     5   425     1     1     1   894     0     0     0    0 ...     0    0   \n",
      "9     8     1     1     1  1208     1  1222     1  1496    0 ...     0    0   \n",
      "10    4  1222     1  1730   704     0     0     0     0    0 ...     0    0   \n",
      "11    8     1     1  1730   704  1496     1  1099  1208    0 ...     0    0   \n",
      "12    4     1     1  1730     1     0     0     0     0    0 ...     0    0   \n",
      "13    9     1  1208     1  1496     1   894   704  1496    1 ...     0    0   \n",
      "14    5  1099     1  1099     1  1222     0     0     0    0 ...     0    0   \n",
      "15    7  1810   704   704  1917   704  1496     1     0    0 ...     0    0   \n",
      "16    4  1046     1     1  1208     0     0     0     0    0 ...     0    0   \n",
      "17    3  1810     1     1     0     0     0     0     0    0 ...     0    0   \n",
      "18    7  1099  1496     1     1     1     1  1119     0    0 ...     0    0   \n",
      "19    5   894  1768     1  1208     1     0     0     0    0 ...     0    0   \n",
      "\n",
      "    492  493  494  495  496  497  498  499  \n",
      "0     0    0    0    0    0    0    0    0  \n",
      "1     0    0    0    0    0    0    0    0  \n",
      "2     0    0    0    0    0    0    0    0  \n",
      "3     0    0    0    0    0    0    0    0  \n",
      "4     0    0    0    0    0    0    0    0  \n",
      "5     0    0    0    0    0    0    0    0  \n",
      "6     0    0    0    0    0    0    0    0  \n",
      "7     0    0    0    0    0    0    0    0  \n",
      "8     0    0    0    0    0    0    0    0  \n",
      "9     0    0    0    0    0    0    0    0  \n",
      "10    0    0    0    0    0    0    0    0  \n",
      "11    0    0    0    0    0    0    0    0  \n",
      "12    0    0    0    0    0    0    0    0  \n",
      "13    0    0    0    0    0    0    0    0  \n",
      "14    0    0    0    0    0    0    0    0  \n",
      "15    0    0    0    0    0    0    0    0  \n",
      "16    0    0    0    0    0    0    0    0  \n",
      "17    0    0    0    0    0    0    0    0  \n",
      "18    0    0    0    0    0    0    0    0  \n",
      "19    0    0    0    0    0    0    0    0  \n",
      "\n",
      "[20 rows x 501 columns]\n"
     ]
    }
   ],
   "source": [
    "# TODO: Convert test_review into a form usable by the model and save the results in test_data\n",
    "data_X = None\n",
    "data_len = None\n",
    "input_data_words = review_to_words(test_review)\n",
    "data_X, data_len = convert_and_pad_data(word_dict, input_data_words)\n",
    "data_pack = np.column_stack((data_len, data_X))\n",
    "data_pack = data_pack.reshape(1, -1)\n",
    "data = torch.from_numpy(data_pack)\n",
    "data = data.to(device)\n",
    "\n",
    "test_data = None\n",
    "predictions = None\n",
    "test_review_words = review_to_words(test_review)\n",
    "test_data, test_data_len = convert_and_pad_data(word_dict, test_review_words)\n",
    "test_data = pd.concat([pd.DataFrame(test_data_len), pd.DataFrame(test_data)], axis=1)\n",
    "print(test_data)"
   ]
  },
  {
   "cell_type": "markdown",
   "metadata": {},
   "source": [
    "Now that we have processed the review, we can send the resulting array to our model to predict the sentiment of the review."
   ]
  },
  {
   "cell_type": "code",
   "execution_count": 42,
   "metadata": {},
   "outputs": [
    {
     "data": {
      "text/plain": [
       "array([0.34843168, 0.58547676, 0.18862195, 0.5101879 , 0.38761103,\n",
       "       0.32263702, 0.53339803, 0.48367825, 0.4835504 , 0.50123364,\n",
       "       0.27136225, 0.6593043 , 0.44749323, 0.5046722 , 0.66799563,\n",
       "       0.58428043, 0.43109435, 0.5023426 , 0.4629912 , 0.56629753],\n",
       "      dtype=float32)"
      ]
     },
     "execution_count": 42,
     "metadata": {},
     "output_type": "execute_result"
    }
   ],
   "source": [
    "predictor.predict(test_data)"
   ]
  },
  {
   "cell_type": "markdown",
   "metadata": {},
   "source": [
    "Since the return value of our model is close to `1`, we can be certain that the review we submitted is positive."
   ]
  },
  {
   "cell_type": "markdown",
   "metadata": {},
   "source": [
    "### Delete the endpoint\n",
    "\n",
    "Of course, just like in the XGBoost notebook, once we've deployed an endpoint it continues to run until we tell it to shut down. Since we are done using our endpoint for now, we can delete it."
   ]
  },
  {
   "cell_type": "code",
   "execution_count": 43,
   "metadata": {},
   "outputs": [],
   "source": [
    "estimator.delete_endpoint()"
   ]
  },
  {
   "cell_type": "markdown",
   "metadata": {},
   "source": [
    "## Step 6 (again) - Deploy the model for the web app\n",
    "\n",
    "Now that we know that our model is working, it's time to create some custom inference code so that we can send the model a review which has not been processed and have it determine the sentiment of the review.\n",
    "\n",
    "As we saw above, by default the estimator which we created, when deployed, will use the entry script and directory which we provided when creating the model. However, since we now wish to accept a string as input and our model expects a processed review, we need to write some custom inference code.\n",
    "\n",
    "We will store the code that we write in the `serve` directory. Provided in this directory is the `model.py` file that we used to construct our model, a `utils.py` file which contains the `review_to_words` and `convert_and_pad` pre-processing functions which we used during the initial data processing, and `predict.py`, the file which will contain our custom inference code. Note also that `requirements.txt` is present which will tell SageMaker what Python libraries are required by our custom inference code.\n",
    "\n",
    "When deploying a PyTorch model in SageMaker, you are expected to provide four functions which the SageMaker inference container will use.\n",
    " - `model_fn`: This function is the same function that we used in the training script and it tells SageMaker how to load our model.\n",
    " - `input_fn`: This function receives the raw serialized input that has been sent to the model's endpoint and its job is to de-serialize and make the input available for the inference code.\n",
    " - `output_fn`: This function takes the output of the inference code and its job is to serialize this output and return it to the caller of the model's endpoint.\n",
    " - `predict_fn`: The heart of the inference script, this is where the actual prediction is done and is the function which you will need to complete.\n",
    "\n",
    "For the simple website that we are constructing during this project, the `input_fn` and `output_fn` methods are relatively straightforward. We only require being able to accept a string as input and we expect to return a single value as output. You might imagine though that in a more complex application the input or output may be image data or some other binary data which would require some effort to serialize.\n",
    "\n",
    "### (TODO) Writing inference code\n",
    "\n",
    "Before writing our custom inference code, we will begin by taking a look at the code which has been provided."
   ]
  },
  {
   "cell_type": "code",
   "execution_count": 44,
   "metadata": {},
   "outputs": [
    {
     "name": "stdout",
     "output_type": "stream",
     "text": [
      "\u001b[34mimport\u001b[39;49;00m \u001b[04m\u001b[36margparse\u001b[39;49;00m\r\n",
      "\u001b[34mimport\u001b[39;49;00m \u001b[04m\u001b[36mjson\u001b[39;49;00m\r\n",
      "\u001b[34mimport\u001b[39;49;00m \u001b[04m\u001b[36mos\u001b[39;49;00m\r\n",
      "\u001b[34mimport\u001b[39;49;00m \u001b[04m\u001b[36mpickle\u001b[39;49;00m\r\n",
      "\u001b[34mimport\u001b[39;49;00m \u001b[04m\u001b[36msys\u001b[39;49;00m\r\n",
      "\u001b[34mimport\u001b[39;49;00m \u001b[04m\u001b[36msagemaker_containers\u001b[39;49;00m\r\n",
      "\u001b[34mimport\u001b[39;49;00m \u001b[04m\u001b[36mpandas\u001b[39;49;00m \u001b[34mas\u001b[39;49;00m \u001b[04m\u001b[36mpd\u001b[39;49;00m\r\n",
      "\u001b[34mimport\u001b[39;49;00m \u001b[04m\u001b[36mnumpy\u001b[39;49;00m \u001b[34mas\u001b[39;49;00m \u001b[04m\u001b[36mnp\u001b[39;49;00m\r\n",
      "\u001b[34mimport\u001b[39;49;00m \u001b[04m\u001b[36mtorch\u001b[39;49;00m\r\n",
      "\u001b[34mimport\u001b[39;49;00m \u001b[04m\u001b[36mtorch.nn\u001b[39;49;00m \u001b[34mas\u001b[39;49;00m \u001b[04m\u001b[36mnn\u001b[39;49;00m\r\n",
      "\u001b[34mimport\u001b[39;49;00m \u001b[04m\u001b[36mtorch.optim\u001b[39;49;00m \u001b[34mas\u001b[39;49;00m \u001b[04m\u001b[36moptim\u001b[39;49;00m\r\n",
      "\u001b[34mimport\u001b[39;49;00m \u001b[04m\u001b[36mtorch.utils.data\u001b[39;49;00m\r\n",
      "\r\n",
      "\u001b[34mfrom\u001b[39;49;00m \u001b[04m\u001b[36mmodel\u001b[39;49;00m \u001b[34mimport\u001b[39;49;00m LSTMClassifier\r\n",
      "\r\n",
      "\u001b[34mfrom\u001b[39;49;00m \u001b[04m\u001b[36mutils\u001b[39;49;00m \u001b[34mimport\u001b[39;49;00m review_to_words, convert_and_pad\r\n",
      "\r\n",
      "\u001b[34mdef\u001b[39;49;00m \u001b[32mmodel_fn\u001b[39;49;00m(model_dir):\r\n",
      "    \u001b[33m\"\"\"Load the PyTorch model from the `model_dir` directory.\"\"\"\u001b[39;49;00m\r\n",
      "    \u001b[34mprint\u001b[39;49;00m(\u001b[33m\"\u001b[39;49;00m\u001b[33mLoading model.\u001b[39;49;00m\u001b[33m\"\u001b[39;49;00m)\r\n",
      "\r\n",
      "    \u001b[37m# First, load the parameters used to create the model.\u001b[39;49;00m\r\n",
      "    model_info = {}\r\n",
      "    model_info_path = os.path.join(model_dir, \u001b[33m'\u001b[39;49;00m\u001b[33mmodel_info.pth\u001b[39;49;00m\u001b[33m'\u001b[39;49;00m)\r\n",
      "    \u001b[34mwith\u001b[39;49;00m \u001b[36mopen\u001b[39;49;00m(model_info_path, \u001b[33m'\u001b[39;49;00m\u001b[33mrb\u001b[39;49;00m\u001b[33m'\u001b[39;49;00m) \u001b[34mas\u001b[39;49;00m f:\r\n",
      "        model_info = torch.load(f)\r\n",
      "\r\n",
      "    \u001b[34mprint\u001b[39;49;00m(\u001b[33m\"\u001b[39;49;00m\u001b[33mmodel_info: {}\u001b[39;49;00m\u001b[33m\"\u001b[39;49;00m.format(model_info))\r\n",
      "\r\n",
      "    \u001b[37m# Determine the device and construct the model.\u001b[39;49;00m\r\n",
      "    device = torch.device(\u001b[33m\"\u001b[39;49;00m\u001b[33mcuda\u001b[39;49;00m\u001b[33m\"\u001b[39;49;00m \u001b[34mif\u001b[39;49;00m torch.cuda.is_available() \u001b[34melse\u001b[39;49;00m \u001b[33m\"\u001b[39;49;00m\u001b[33mcpu\u001b[39;49;00m\u001b[33m\"\u001b[39;49;00m)\r\n",
      "    model = LSTMClassifier(model_info[\u001b[33m'\u001b[39;49;00m\u001b[33membedding_dim\u001b[39;49;00m\u001b[33m'\u001b[39;49;00m], model_info[\u001b[33m'\u001b[39;49;00m\u001b[33mhidden_dim\u001b[39;49;00m\u001b[33m'\u001b[39;49;00m], model_info[\u001b[33m'\u001b[39;49;00m\u001b[33mvocab_size\u001b[39;49;00m\u001b[33m'\u001b[39;49;00m])\r\n",
      "\r\n",
      "    \u001b[37m# Load the store model parameters.\u001b[39;49;00m\r\n",
      "    model_path = os.path.join(model_dir, \u001b[33m'\u001b[39;49;00m\u001b[33mmodel.pth\u001b[39;49;00m\u001b[33m'\u001b[39;49;00m)\r\n",
      "    \u001b[34mwith\u001b[39;49;00m \u001b[36mopen\u001b[39;49;00m(model_path, \u001b[33m'\u001b[39;49;00m\u001b[33mrb\u001b[39;49;00m\u001b[33m'\u001b[39;49;00m) \u001b[34mas\u001b[39;49;00m f:\r\n",
      "        model.load_state_dict(torch.load(f))\r\n",
      "\r\n",
      "    \u001b[37m# Load the saved word_dict.\u001b[39;49;00m\r\n",
      "    word_dict_path = os.path.join(model_dir, \u001b[33m'\u001b[39;49;00m\u001b[33mword_dict.pkl\u001b[39;49;00m\u001b[33m'\u001b[39;49;00m)\r\n",
      "    \u001b[34mwith\u001b[39;49;00m \u001b[36mopen\u001b[39;49;00m(word_dict_path, \u001b[33m'\u001b[39;49;00m\u001b[33mrb\u001b[39;49;00m\u001b[33m'\u001b[39;49;00m) \u001b[34mas\u001b[39;49;00m f:\r\n",
      "        model.word_dict = pickle.load(f)\r\n",
      "\r\n",
      "    model.to(device).eval()\r\n",
      "\r\n",
      "    \u001b[34mprint\u001b[39;49;00m(\u001b[33m\"\u001b[39;49;00m\u001b[33mDone loading model.\u001b[39;49;00m\u001b[33m\"\u001b[39;49;00m)\r\n",
      "    \u001b[34mreturn\u001b[39;49;00m model\r\n",
      "\r\n",
      "\u001b[34mdef\u001b[39;49;00m \u001b[32minput_fn\u001b[39;49;00m(serialized_input_data, content_type):\r\n",
      "    \u001b[34mprint\u001b[39;49;00m(\u001b[33m'\u001b[39;49;00m\u001b[33mDeserializing the input data.\u001b[39;49;00m\u001b[33m'\u001b[39;49;00m)\r\n",
      "    \u001b[34mif\u001b[39;49;00m content_type == \u001b[33m'\u001b[39;49;00m\u001b[33mtext/plain\u001b[39;49;00m\u001b[33m'\u001b[39;49;00m:\r\n",
      "        data = serialized_input_data.decode(\u001b[33m'\u001b[39;49;00m\u001b[33mutf-8\u001b[39;49;00m\u001b[33m'\u001b[39;49;00m)\r\n",
      "        \u001b[34mreturn\u001b[39;49;00m data\r\n",
      "    \u001b[34mraise\u001b[39;49;00m \u001b[36mException\u001b[39;49;00m(\u001b[33m'\u001b[39;49;00m\u001b[33mRequested unsupported ContentType in content_type: \u001b[39;49;00m\u001b[33m'\u001b[39;49;00m + content_type)\r\n",
      "\r\n",
      "\u001b[34mdef\u001b[39;49;00m \u001b[32moutput_fn\u001b[39;49;00m(prediction_output, accept):\r\n",
      "    \u001b[34mprint\u001b[39;49;00m(\u001b[33m'\u001b[39;49;00m\u001b[33mSerializing the generated output.\u001b[39;49;00m\u001b[33m'\u001b[39;49;00m)\r\n",
      "    \u001b[34mreturn\u001b[39;49;00m \u001b[36mstr\u001b[39;49;00m(prediction_output)\r\n",
      "\r\n",
      "\u001b[34mdef\u001b[39;49;00m \u001b[32mpredict_fn\u001b[39;49;00m(input_data, model):\r\n",
      "    \u001b[34mprint\u001b[39;49;00m(\u001b[33m'\u001b[39;49;00m\u001b[33mInferring sentiment of input data.\u001b[39;49;00m\u001b[33m'\u001b[39;49;00m)\r\n",
      "\r\n",
      "    device = torch.device(\u001b[33m\"\u001b[39;49;00m\u001b[33mcuda\u001b[39;49;00m\u001b[33m\"\u001b[39;49;00m \u001b[34mif\u001b[39;49;00m torch.cuda.is_available() \u001b[34melse\u001b[39;49;00m \u001b[33m\"\u001b[39;49;00m\u001b[33mcpu\u001b[39;49;00m\u001b[33m\"\u001b[39;49;00m)\r\n",
      "    \r\n",
      "    \u001b[34mif\u001b[39;49;00m model.word_dict \u001b[35mis\u001b[39;49;00m \u001b[36mNone\u001b[39;49;00m:\r\n",
      "        \u001b[34mraise\u001b[39;49;00m \u001b[36mException\u001b[39;49;00m(\u001b[33m'\u001b[39;49;00m\u001b[33mModel has not been loaded properly, no word_dict.\u001b[39;49;00m\u001b[33m'\u001b[39;49;00m)\r\n",
      "    \r\n",
      "    \u001b[37m# TODO: Process input_data so that it is ready to be sent to our model.\u001b[39;49;00m\r\n",
      "    \u001b[37m#       You should produce two variables:\u001b[39;49;00m\r\n",
      "    \u001b[37m#         data_X   - A sequence of length 500 which represents the converted review\u001b[39;49;00m\r\n",
      "    \u001b[37m#         data_len - The length of the review\u001b[39;49;00m\r\n",
      "\r\n",
      "    data_X = \u001b[36mNone\u001b[39;49;00m\r\n",
      "    data_len = \u001b[36mNone\u001b[39;49;00m\r\n",
      "    input_data_words = review_to_words(input_data)\r\n",
      "    data_X, data_len = convert_and_pad(model.word_dict, input_data_words)\r\n",
      "    \u001b[37m# Using data_X and data_len we construct an appropriate input tensor. Remember\u001b[39;49;00m\r\n",
      "    \u001b[37m# that our model expects input data of the form 'len, review[500]'.\u001b[39;49;00m\r\n",
      "    data_pack = np.hstack((data_len, data_X))\r\n",
      "    data_pack = data_pack.reshape(\u001b[34m1\u001b[39;49;00m, -\u001b[34m1\u001b[39;49;00m)\r\n",
      "    \r\n",
      "    data = torch.from_numpy(data_pack)\r\n",
      "    data = data.to(device)\r\n",
      "\r\n",
      "    \u001b[37m# Make sure to put the model into evaluation mode\u001b[39;49;00m\r\n",
      "    model.eval()\r\n",
      "\r\n",
      "    \u001b[37m# TODO: Compute the result of applying the model to the input data. The variable `result` should\u001b[39;49;00m\r\n",
      "    \u001b[37m#       be a numpy array which contains a single integer which is either 1 or 0\u001b[39;49;00m\r\n",
      "    \u001b[34mwith\u001b[39;49;00m torch.no_grad():\r\n",
      "        output = model.forward(data)\r\n",
      "        \r\n",
      "    result = np.round(output.numpy())\r\n",
      "\r\n",
      "    \u001b[34mreturn\u001b[39;49;00m result\r\n"
     ]
    }
   ],
   "source": [
    "!pygmentize serve/predict.py"
   ]
  },
  {
   "cell_type": "markdown",
   "metadata": {},
   "source": [
    "As mentioned earlier, the `model_fn` method is the same as the one provided in the training code and the `input_fn` and `output_fn` methods are very simple and your task will be to complete the `predict_fn` method. Make sure that you save the completed file as `predict.py` in the `serve` directory.\n",
    "\n",
    "**TODO**: Complete the `predict_fn()` method in the `serve/predict.py` file."
   ]
  },
  {
   "cell_type": "markdown",
   "metadata": {},
   "source": [
    "### Deploying the model\n",
    "\n",
    "Now that the custom inference code has been written, we will create and deploy our model. To begin with, we need to construct a new PyTorchModel object which points to the model artifacts created during training and also points to the inference code that we wish to use. Then we can call the deploy method to launch the deployment container.\n",
    "\n",
    "**NOTE**: The default behaviour for a deployed PyTorch model is to assume that any input passed to the predictor is a `numpy` array. In our case we want to send a string so we need to construct a simple wrapper around the `RealTimePredictor` class to accomodate simple strings. In a more complicated situation you may want to provide a serialization object, for example if you wanted to sent image data."
   ]
  },
  {
   "cell_type": "code",
   "execution_count": 45,
   "metadata": {},
   "outputs": [
    {
     "name": "stdout",
     "output_type": "stream",
     "text": [
      "----------------------------------------------------------------------------------------!"
     ]
    }
   ],
   "source": [
    "from sagemaker.predictor import RealTimePredictor\n",
    "from sagemaker.pytorch import PyTorchModel\n",
    "\n",
    "class StringPredictor(RealTimePredictor):\n",
    "    def __init__(self, endpoint_name, sagemaker_session):\n",
    "        super(StringPredictor, self).__init__(endpoint_name, sagemaker_session, content_type='text/plain')\n",
    "\n",
    "model = PyTorchModel(model_data=estimator.model_data,\n",
    "                     role = role,\n",
    "                     framework_version='0.4.0',\n",
    "                     entry_point='predict.py',\n",
    "                     source_dir='serve',\n",
    "                     predictor_cls=StringPredictor)\n",
    "predictor = model.deploy(initial_instance_count=1, instance_type='ml.m4.xlarge')"
   ]
  },
  {
   "cell_type": "markdown",
   "metadata": {},
   "source": [
    "### Testing the model\n",
    "\n",
    "Now that we have deployed our model with the custom inference code, we should test to see if everything is working. Here we test our model by loading the first `250` positive and negative reviews and send them to the endpoint, then collect the results. The reason for only sending some of the data is that the amount of time it takes for our model to process the input and then perform inference is quite long and so testing the entire data set would be prohibitive."
   ]
  },
  {
   "cell_type": "code",
   "execution_count": 51,
   "metadata": {},
   "outputs": [],
   "source": [
    "import glob\n",
    "\n",
    "def test_reviews(data_dir='../data/aclImdb', stop=250):\n",
    "    \n",
    "    results = []\n",
    "    ground = []\n",
    "    \n",
    "    # We make sure to test both positive and negative reviews    \n",
    "    for sentiment in ['pos', 'neg']:\n",
    "        \n",
    "        path = os.path.join(data_dir, 'test', sentiment, '*.txt')\n",
    "        files = glob.glob(path)\n",
    "        \n",
    "        files_read = 0\n",
    "        \n",
    "        print('Starting ', sentiment, ' files')\n",
    "        \n",
    "        # Iterate through the files and send them to the predictor\n",
    "        for f in files:\n",
    "            with open(f) as review:\n",
    "                # First, we store the ground truth (was the review positive or negative)\n",
    "                if sentiment == 'pos':\n",
    "                    ground.append(1)\n",
    "                else:\n",
    "                    ground.append(0)\n",
    "                # Read in the review and convert to 'utf-8' for transmission via HTTP\n",
    "                review_input = review.read().encode('utf-8')\n",
    "                # Send the review to the predictor and store the results\n",
    "                result_s = predictor.predict(review_input).decode('UTF-8')\n",
    "                result_s = int(float(result_s))\n",
    "                results.append(result_s)\n",
    "                \n",
    "            # Sending reviews to our endpoint one at a time takes a while so we\n",
    "            # only send a small number of reviews\n",
    "            files_read += 1\n",
    "            if files_read == stop:\n",
    "                break\n",
    "            \n",
    "    return ground, results"
   ]
  },
  {
   "cell_type": "code",
   "execution_count": 52,
   "metadata": {},
   "outputs": [
    {
     "name": "stdout",
     "output_type": "stream",
     "text": [
      "Starting  pos  files\n",
      "Starting  neg  files\n"
     ]
    }
   ],
   "source": [
    "ground, results = test_reviews()"
   ]
  },
  {
   "cell_type": "code",
   "execution_count": 53,
   "metadata": {},
   "outputs": [
    {
     "data": {
      "text/plain": [
       "0.82"
      ]
     },
     "execution_count": 53,
     "metadata": {},
     "output_type": "execute_result"
    }
   ],
   "source": [
    "from sklearn.metrics import accuracy_score\n",
    "accuracy_score(ground, results)"
   ]
  },
  {
   "cell_type": "markdown",
   "metadata": {},
   "source": [
    "As an additional test, we can try sending the `test_review` that we looked at earlier."
   ]
  },
  {
   "cell_type": "code",
   "execution_count": 54,
   "metadata": {},
   "outputs": [
    {
     "data": {
      "text/plain": [
       "b'1.0'"
      ]
     },
     "execution_count": 54,
     "metadata": {},
     "output_type": "execute_result"
    }
   ],
   "source": [
    "predictor.predict(test_review)"
   ]
  },
  {
   "cell_type": "markdown",
   "metadata": {},
   "source": [
    "Now that we know our endpoint is working as expected, we can set up the web page that will interact with it. If you don't have time to finish the project now, make sure to skip down to the end of this notebook and shut down your endpoint. You can deploy it again when you come back."
   ]
  },
  {
   "cell_type": "markdown",
   "metadata": {},
   "source": [
    "## Step 7 (again): Use the model for the web app\n",
    "\n",
    "> **TODO:** This entire section and the next contain tasks for you to complete, mostly using the AWS console.\n",
    "\n",
    "So far we have been accessing our model endpoint by constructing a predictor object which uses the endpoint and then just using the predictor object to perform inference. What if we wanted to create a web app which accessed our model? The way things are set up currently makes that not possible since in order to access a SageMaker endpoint the app would first have to authenticate with AWS using an IAM role which included access to SageMaker endpoints. However, there is an easier way! We just need to use some additional AWS services.\n",
    "\n",
    "<img src=\"Web App Diagram.svg\">\n",
    "\n",
    "The diagram above gives an overview of how the various services will work together. On the far right is the model which we trained above and which is deployed using SageMaker. On the far left is our web app that collects a user's movie review, sends it off and expects a positive or negative sentiment in return.\n",
    "\n",
    "In the middle is where some of the magic happens. We will construct a Lambda function, which you can think of as a straightforward Python function that can be executed whenever a specified event occurs. We will give this function permission to send and recieve data from a SageMaker endpoint.\n",
    "\n",
    "Lastly, the method we will use to execute the Lambda function is a new endpoint that we will create using API Gateway. This endpoint will be a url that listens for data to be sent to it. Once it gets some data it will pass that data on to the Lambda function and then return whatever the Lambda function returns. Essentially it will act as an interface that lets our web app communicate with the Lambda function.\n",
    "\n",
    "### Setting up a Lambda function\n",
    "\n",
    "The first thing we are going to do is set up a Lambda function. This Lambda function will be executed whenever our public API has data sent to it. When it is executed it will receive the data, perform any sort of processing that is required, send the data (the review) to the SageMaker endpoint we've created and then return the result.\n",
    "\n",
    "#### Part A: Create an IAM Role for the Lambda function\n",
    "\n",
    "Since we want the Lambda function to call a SageMaker endpoint, we need to make sure that it has permission to do so. To do this, we will construct a role that we can later give the Lambda function.\n",
    "\n",
    "Using the AWS Console, navigate to the **IAM** page and click on **Roles**. Then, click on **Create role**. Make sure that the **AWS service** is the type of trusted entity selected and choose **Lambda** as the service that will use this role, then click **Next: Permissions**.\n",
    "\n",
    "In the search box type `sagemaker` and select the check box next to the **AmazonSageMakerFullAccess** policy. Then, click on **Next: Review**.\n",
    "\n",
    "Lastly, give this role a name. Make sure you use a name that you will remember later on, for example `LambdaSageMakerRole`. Then, click on **Create role**.\n",
    "\n",
    "#### Part B: Create a Lambda function\n",
    "\n",
    "Now it is time to actually create the Lambda function.\n",
    "\n",
    "Using the AWS Console, navigate to the AWS Lambda page and click on **Create a function**. When you get to the next page, make sure that **Author from scratch** is selected. Now, name your Lambda function, using a name that you will remember later on, for example `sentiment_analysis_func`. Make sure that the **Python 3.6** runtime is selected and then choose the role that you created in the previous part. Then, click on **Create Function**.\n",
    "\n",
    "On the next page you will see some information about the Lambda function you've just created. If you scroll down you should see an editor in which you can write the code that will be executed when your Lambda function is triggered. In our example, we will use the code below. \n",
    "\n",
    "```python\n",
    "# We need to use the low-level library to interact with SageMaker since the SageMaker API\n",
    "# is not available natively through Lambda.\n",
    "import boto3\n",
    "\n",
    "def lambda_handler(event, context):\n",
    "\n",
    "    # The SageMaker runtime is what allows us to invoke the endpoint that we've created.\n",
    "    runtime = boto3.Session().client('sagemaker-runtime')\n",
    "\n",
    "    # Now we use the SageMaker runtime to invoke our endpoint, sending the review we were given\n",
    "    response = runtime.invoke_endpoint(EndpointName = '**ENDPOINT NAME HERE**',    # The name of the endpoint we created\n",
    "                                       ContentType = 'text/plain',                 # The data format that is expected\n",
    "                                       Body = event['body'])                       # The actual review\n",
    "\n",
    "    # The response is an HTTP response whose body contains the result of our inference\n",
    "    result = response['Body'].read().decode('utf-8')\n",
    "\n",
    "    return {\n",
    "        'statusCode' : 200,\n",
    "        'headers' : { 'Content-Type' : 'text/plain', 'Access-Control-Allow-Origin' : '*' },\n",
    "        'body' : result\n",
    "    }\n",
    "```\n",
    "\n",
    "Once you have copy and pasted the code above into the Lambda code editor, replace the `**ENDPOINT NAME HERE**` portion with the name of the endpoint that we deployed earlier. You can determine the name of the endpoint using the code cell below."
   ]
  },
  {
   "cell_type": "code",
   "execution_count": 55,
   "metadata": {},
   "outputs": [
    {
     "data": {
      "text/plain": [
       "'sagemaker-pytorch-2019-05-17-20-42-12-111'"
      ]
     },
     "execution_count": 55,
     "metadata": {},
     "output_type": "execute_result"
    }
   ],
   "source": [
    "predictor.endpoint"
   ]
  },
  {
   "cell_type": "markdown",
   "metadata": {},
   "source": [
    "Once you have added the endpoint name to the Lambda function, click on **Save**. Your Lambda function is now up and running. Next we need to create a way for our web app to execute the Lambda function.\n",
    "\n",
    "### Setting up API Gateway\n",
    "\n",
    "Now that our Lambda function is set up, it is time to create a new API using API Gateway that will trigger the Lambda function we have just created.\n",
    "\n",
    "Using AWS Console, navigate to **Amazon API Gateway** and then click on **Get started**.\n",
    "\n",
    "On the next page, make sure that **New API** is selected and give the new api a name, for example, `sentiment_analysis_api`. Then, click on **Create API**.\n",
    "\n",
    "Now we have created an API, however it doesn't currently do anything. What we want it to do is to trigger the Lambda function that we created earlier.\n",
    "\n",
    "Select the **Actions** dropdown menu and click **Create Method**. A new blank method will be created, select its dropdown menu and select **POST**, then click on the check mark beside it.\n",
    "\n",
    "For the integration point, make sure that **Lambda Function** is selected and click on the **Use Lambda Proxy integration**. This option makes sure that the data that is sent to the API is then sent directly to the Lambda function with no processing. It also means that the return value must be a proper response object as it will also not be processed by API Gateway.\n",
    "\n",
    "Type the name of the Lambda function you created earlier into the **Lambda Function** text entry box and then click on **Save**. Click on **OK** in the pop-up box that then appears, giving permission to API Gateway to invoke the Lambda function you created.\n",
    "\n",
    "The last step in creating the API Gateway is to select the **Actions** dropdown and click on **Deploy API**. You will need to create a new Deployment stage and name it anything you like, for example `prod`.\n",
    "\n",
    "You have now successfully set up a public API to access your SageMaker model. Make sure to copy or write down the URL provided to invoke your newly created public API as this will be needed in the next step. This URL can be found at the top of the page, highlighted in blue next to the text **Invoke URL**."
   ]
  },
  {
   "cell_type": "markdown",
   "metadata": {},
   "source": [
    "## Step 4: Deploying our web app\n",
    "\n",
    "Now that we have a publicly available API, we can start using it in a web app. For our purposes, we have provided a simple static html file which can make use of the public api you created earlier.\n",
    "\n",
    "In the `website` folder there should be a file called `index.html`. Download the file to your computer and open that file up in a text editor of your choice. There should be a line which contains **\\*\\*REPLACE WITH PUBLIC API URL\\*\\***. Replace this string with the url that you wrote down in the last step and then save the file.\n",
    "\n",
    "Now, if you open `index.html` on your local computer, your browser will behave as a local web server and you can use the provided site to interact with your SageMaker model.\n",
    "\n",
    "If you'd like to go further, you can host this html file anywhere you'd like, for example using github or hosting a static site on Amazon's S3. Once you have done this you can share the link with anyone you'd like and have them play with it too!\n",
    "\n",
    "> **Important Note** In order for the web app to communicate with the SageMaker endpoint, the endpoint has to actually be deployed and running. This means that you are paying for it. Make sure that the endpoint is running when you want to use the web app but that you shut it down when you don't need it, otherwise you will end up with a surprisingly large AWS bill.\n",
    "\n",
    "**TODO:** Make sure that you include the edited `index.html` file in your project submission."
   ]
  },
  {
   "cell_type": "markdown",
   "metadata": {},
   "source": [
    "Now that your web app is working, trying playing around with it and see how well it works.\n",
    "\n",
    "**Question**: Give an example of a review that you entered into your web app. What was the predicted sentiment of your example review?"
   ]
  },
  {
   "cell_type": "markdown",
   "metadata": {},
   "source": [
    "**Answer:**\n",
    "I have picked few reviews from rotton tomato \n",
    "\n",
    "+ Not only are things no longer \"awesome,\" they're all the way down to just \"meh.\" \n",
    "**NEGATIVE**\n",
    "+ It was shocking, and like the best of \"Thrones,\" unexpected. But you can't say we weren't warned.\n",
    "**POSITIVE**\n",
    "+ No TV episode has ever looked more impressive than this one. But the technical genius wasn't accompanied by the storytelling equivalent. As a result, the 80-plus minutes soon began to feel punishing.\n",
    "**NEGATIVE**\n",
    "+ Just because the outcome wasn't surprising, that doesn't mean the result wasn't spectacular.\n",
    "**POSITIVE**\n"
   ]
  },
  {
   "cell_type": "markdown",
   "metadata": {},
   "source": [
    "### Delete the endpoint\n",
    "\n",
    "Remember to always shut down your endpoint if you are no longer using it. You are charged for the length of time that the endpoint is running so if you forget and leave it on you could end up with an unexpectedly large bill."
   ]
  },
  {
   "cell_type": "code",
   "execution_count": 56,
   "metadata": {},
   "outputs": [],
   "source": [
    "predictor.delete_endpoint()"
   ]
  },
  {
   "cell_type": "code",
   "execution_count": null,
   "metadata": {},
   "outputs": [],
   "source": []
  }
 ],
 "metadata": {
  "kernelspec": {
   "display_name": "conda_pytorch_p36",
   "language": "python",
   "name": "conda_pytorch_p36"
  },
  "language_info": {
   "codemirror_mode": {
    "name": "ipython",
    "version": 3
   },
   "file_extension": ".py",
   "mimetype": "text/x-python",
   "name": "python",
   "nbconvert_exporter": "python",
   "pygments_lexer": "ipython3",
   "version": "3.6.5"
  }
 },
 "nbformat": 4,
 "nbformat_minor": 2
}
